{
 "cells": [
  {
   "cell_type": "markdown",
   "id": "426927ed",
   "metadata": {},
   "source": [
    "# Main Document to Load and Traverse Data\n",
    "# NOTE: THIS FILE IS EXPLORATORY, AND NOT IN USE FROM A SIMULATION PERSPECTIVE\n",
    "\n",
    "> Expected Data: school admissions preferences, number of students admitted per attribute category, etc."
   ]
  },
  {
   "cell_type": "code",
   "execution_count": 2,
   "id": "96878873",
   "metadata": {},
   "outputs": [],
   "source": [
    "import pandas as pd\n",
    "import numpy as np\n",
    "import os\n",
    "import random\n",
    "\n",
    "import uuid\n",
    "import editdistance\n",
    "from difflib import SequenceMatcher\n",
    "\n",
    "from tqdm import tqdm\n",
    "\n",
    "cwd = os.getcwd()\n",
    "testing = False  # ******\n",
    "\n",
    "# TODO: add oneshot function with hyperparemeters controlling the policy of school/student's generated"
   ]
  },
  {
   "cell_type": "markdown",
   "id": "793cdbcc",
   "metadata": {},
   "source": [
    "### Helper Functions"
   ]
  },
  {
   "cell_type": "code",
   "execution_count": 3,
   "id": "942409b2",
   "metadata": {},
   "outputs": [
    {
     "name": "stdout",
     "output_type": "stream",
     "text": [
      "EDOPT DISTRIBUTION:  [88.25, 77.5]\n",
      "SCREEN DISTRIBUTION:  [94, 89.66, 82.75, 76.33]\n"
     ]
    }
   ],
   "source": [
    "stoi_limit = 2**32 - 1\n",
    "def seed_stoi(s):\n",
    "    \"\"\" somewhat janky conversion of string to int for numpy random states \n",
    "    (since np.random.seed() cant take a string) \"\"\"\n",
    "    res = 1\n",
    "    for c in s:\n",
    "        res += abs(ord(c))\n",
    "        if res > stoi_limit:\n",
    "            res -= 2*abs(ord(c))\n",
    "    return res\n",
    "\n",
    "\n",
    "def match_schools(all_schools, lst, use_edit=False):\n",
    "    \"\"\" matches schools based on edit distance \"\"\"\n",
    "    result = []\n",
    "    for name in lst:\n",
    "        if use_edit:  # Levenshtein distance metric for matching schools\n",
    "            dists = [(str(schol), editdistance.eval(name, schol.name)) for schol in all_schools.values()]\n",
    "            result.append(min(dists, key=lambda x: x[1])[0])\n",
    "        else:\n",
    "            dists = [(str(schol), SequenceMatcher(None, name, schol.name).ratio()) for schol in all_schools.values()]\n",
    "            result.append(max(dists, key=lambda x: x[1])[0])  # add the school with the min edit distance\n",
    "    return result\n",
    "\n",
    "\n",
    "def add_fake_gpa(students):\n",
    "    \"\"\" adds a gpa attribute based on the students ELA and Math scores \"\"\"\n",
    "    students[\"fake_gpa\"] = students[\"Math_score\"] + students[\"ELA_score\"]\n",
    "    max_score = max(students[\"fake_gpa\"])\n",
    "    students[\"fake_gpa\"] = students[\"fake_gpa\"].apply(lambda score: round(4*score/max_score, 2))  # gpa-normalized\n",
    "    return students\n",
    "\n",
    "def get_distributions():\n",
    "    \"\"\" returns quantile distribution of gpa based on real data \n",
    "    used for seat/screen calculations \"\"\"\n",
    "    student_df = pd.read_csv(cwd+\"/Data/student_info_with_demographics.csv\")\n",
    "    student_df = add_fake_gpa(student_df)\n",
    "    \n",
    "    edopt_dist = [student_df[\"fake_gpa\"].quantile(i/3) for i in range(2, 0, -1)]\n",
    "    screen_dist = [student_df[\"fake_gpa\"].quantile(i/5) for i in range(4, 0, -1)]\n",
    "    return edopt_dist, screen_dist\n",
    "# edopt_dist, screen_dist = get_distributions()\n",
    "def set_place(x, dist):\n",
    "    \"\"\" returns a number representing which placement of a number x based on a distribution dist \"\"\"\n",
    "    for i, num in enumerate(dist):\n",
    "        if x >= num:\n",
    "            return i+1\n",
    "    return len(dist)+1\n",
    "\n",
    "# distributions according to: https://www.schools.nyc.gov/enrollment/enroll-grade-by-grade/high-school\n",
    "screen_dist = [94, 89.66, 82.75, 76.33]  # https://www.schools.nyc.gov/enrollment/enroll-grade-by-grade/high-school/screened-admissions\n",
    "edopt_dist = [88.25, 77.5]  #https://www.schools.nyc.gov/enrollment/enroll-grade-by-grade/high-school/educational-option-ed-opt-admissions-method\n",
    "\n",
    "print(\"EDOPT DISTRIBUTION: \", edopt_dist)\n",
    "print(\"SCREEN DISTRIBUTION: \", screen_dist)\n",
    "\n",
    "\n",
    "# USED FOR SEAT/SCREEN CALCULATIONS\n",
    "seated = lambda x: set_place(x, edopt_dist) \n",
    "screened = lambda x: set_place(x, screen_dist)"
   ]
  },
  {
   "cell_type": "markdown",
   "id": "a69e938f",
   "metadata": {},
   "source": [
    "## Main Classes"
   ]
  },
  {
   "cell_type": "code",
   "execution_count": 4,
   "id": "9b386d93",
   "metadata": {},
   "outputs": [
    {
     "name": "stdout",
     "output_type": "stream",
     "text": [
      "ID: student test\n",
      "Lottery: 062cb39d480343f5a4ed5796933fca98\n",
      "Scores: [80.15, 2, 4]\n",
      "Policies: [1, 2]\n",
      "\n",
      "ID: school test1\n",
      "Policy: 2\n",
      "Cap/Pop/Like: [146, 363.05, 1]\n"
     ]
    }
   ],
   "source": [
    "MAX_NUM_SCHOOLS = 12\n",
    "\n",
    "class Student:\n",
    "    def __init__(self, seed, lottery=\"\", schools=[], score=-1):\n",
    "        # necessary info\n",
    "        self.id = seed\n",
    "        random.seed(seed) # set the seed\n",
    "        \n",
    "        if lottery != \"\": # signifies that this is a real student whose data we are inputting\n",
    "            self.name = seed\n",
    "            self.lottery = lottery\n",
    "            self.schools = schools  # Note: can ignore given current simulation code\n",
    "            self.num_schools = len(schools)\n",
    "            \n",
    "            self.selection_policy = -1\n",
    "            self.ranking_policy = -1\n",
    "        else:\n",
    "            self.lottery = uuid.UUID(int=random.getrandbits(128), version=4).hex  # note: can do duplicate check if necessary\n",
    "\n",
    "            seed_nums = random.sample(range(1, 3), 2)  # necessary to get 2 independent numbers\n",
    "            # integer representation of how likely a student is to select a given school\n",
    "            self.selection_policy = seed_nums[0]\n",
    "            # integer representation of how highly a student is to rank a school, given they've already selected it\n",
    "            self.ranking_policy = seed_nums[1]\n",
    "\n",
    "            self.num_schools = MAX_NUM_SCHOOLS\n",
    "            self.schools = []  # to be updated later based on self.selection_policy\n",
    "            self.name = \"\"\n",
    "        \n",
    "        # calculate buckets for score-based decisions\n",
    "        self.test_score = score if score != -1 else self.get_rand_score(seed)\n",
    "        self.seat = seated(self.test_score)\n",
    "        self.screen = screened(self.test_score)\n",
    "        \n",
    "        # extra / potential additions\n",
    "        self.district = 0\n",
    "        self.borough = None\n",
    "        self.location = None\n",
    "        \n",
    "    def get_rand_score(self, new_seed):\n",
    "        \"\"\" generates a random gpa based on assumed normal distribution of nyc highschool data \"\"\"\n",
    "        random.seed(new_seed)\n",
    "        num = round(np.random.normal(68, 8.89, 1)[0], 2)\n",
    "        if num < 0:\n",
    "            num = 0\n",
    "        elif num > 100:\n",
    "            num = 100\n",
    "        return num\n",
    "    \n",
    "    def update_choice(self, schools):\n",
    "        \"\"\" used to update a student object with custom school information \"\"\"\n",
    "        self.schools = schools\n",
    "        self.num_schools = len(schools)\n",
    "        \n",
    "    def info(self, simple=False):\n",
    "        \"\"\" shows basic information generated from seed/id \"\"\"\n",
    "        basics = \"ID: \" + self.id + \"\\nLottery: \" + self.lottery\n",
    "        scores = \"\\nScores: \" + str([self.test_score, self.seat, self.screen])\n",
    "        policies = \"\\nPolicies: \" + str([self.selection_policy, self.ranking_policy])\n",
    "        if simple:\n",
    "            return basics\n",
    "        else:\n",
    "            return basics + scores + policies\n",
    "        \n",
    "    def to_list(self):\n",
    "        \"\"\" export all data for dataframe conversion \"\"\"\n",
    "        return [self.id, self.lottery, self.selection_policy, self.ranking_policy, self.num_schools, \n",
    "                self.test_score, self.seat, self.screen,\n",
    "                self.name, self.district, self.borough, self.location]\n",
    "        \n",
    "    def __str__(self):\n",
    "        \"\"\" return unique hashable identifier \"\"\"\n",
    "        return self.id\n",
    "#     sorted(students, key=lambda x: int(x.lottery, 16))\n",
    "        \n",
    "\n",
    "# stats on nyc schools\n",
    "mean_school_cap = 145  # capacity\n",
    "std_school_cap = 128.5\n",
    "mean_ens = 2.453505  # ens = expected number of students applied per seat\n",
    "std_ens = 4.072874\n",
    "class School:\n",
    "    def __init__(self, seed, cap=-1, pop=-1, like=-1, name=\"\"):\n",
    "        # necessary info\n",
    "        self.dbn = seed  # ID\n",
    "        random.seed(seed) # set the seed\n",
    "        \n",
    "        self.policy = random.randint(1,3)\n",
    "        self.capacity = self.get_rand_cap(seed) if cap<0 else cap\n",
    "        \n",
    "        # NOTE: popularity is how likely a school is to be on a student's list\n",
    "        if pop == -1:  # weighted by mean & std of popularity / mean capacity\n",
    "            np.random.seed(seed_stoi(seed))\n",
    "            new_pop = np.random.normal(mean_ens, std_ens, 1)[0]\n",
    "            if new_pop < 0:\n",
    "                new_pop = 0\n",
    "            self.popularity = round(self.capacity * new_pop, 2)\n",
    "        else:\n",
    "            self.popularity = pop\n",
    "        # NOTE: likeability is how high on a students list a given school should appear\n",
    "        self.likeability = random.randint(1,MAX_NUM_SCHOOLS) if like == -1 else like    \n",
    "        \n",
    "        # extra info\n",
    "        self.name = name\n",
    "        self.district = 0\n",
    "        self.borough = None\n",
    "        self.location = None\n",
    "        \n",
    "    def get_rand_cap(self, new_seed):\n",
    "        \"\"\" generate a random school capacity based on normal distribution of nyc highschool data \"\"\"\n",
    "        np.random.seed(seed_stoi(new_seed))\n",
    "        num = round(np.random.normal(mean_school_cap, std_school_cap, 1)[0])  \n",
    "        if num < 1:\n",
    "            num = 1\n",
    "        return num    \n",
    "        \n",
    "    def info(self, simple=False):\n",
    "        \"\"\" display basic info \"\"\"\n",
    "        basics = \"ID: \" + self.dbn\n",
    "        if self.name != \"\":\n",
    "            basics += \", Name: \" + self.name\n",
    "        basics += \"\\nPolicy: \" + str(self.policy)\n",
    "        additional = \"\\nCap/Pop/Like: \" + str([self.capacity, self.popularity, self.likeability])\n",
    "        return basics + additional if not simple else \"\"\n",
    "    \n",
    "    def to_list(self):\n",
    "        \"\"\" export all information\"\"\"\n",
    "        return [self.dbn, self.capacity, self.policy, self.popularity, self.likeability,\n",
    "                self.name, self.district, self.borough, self.location]\n",
    "        \n",
    "    def __str__(self):\n",
    "        \"\"\" return unique hashable id \"\"\"\n",
    "        return self.dbn\n",
    "    \n",
    "\"\"\" AUTHOR'S NOTE:\n",
    "These structures are meant to loosely mirror the relationship between schools and students\n",
    "in the highschool matching process...\n",
    "- for reproducability sake, both objects require a seed.__str__() that will determine its random state\n",
    "\"\"\"\n",
    "\n",
    "# just making sure everything is generated properly\n",
    "tester = Student(\"student test\")\n",
    "print(tester.info())\n",
    "print()\n",
    "tester2 = School(\"school test1\")\n",
    "print(tester2.info())"
   ]
  },
  {
   "cell_type": "markdown",
   "id": "bad914c8",
   "metadata": {},
   "source": [
    "## Generation Functions\n",
    "> with random seeds"
   ]
  },
  {
   "cell_type": "code",
   "execution_count": 5,
   "id": "f9b59135",
   "metadata": {},
   "outputs": [
    {
     "name": "stdout",
     "output_type": "stream",
     "text": [
      "ID: Student #17756959221\n",
      "Lottery: 682842c1ebdd4701b299f9b6226ff07b\n",
      "Scores: [65.39, 3, 5]\n",
      "Policies: [2, 1]\n",
      "\n",
      "ID: Student #3280387012\n",
      "Lottery: 8153c77963fe44eb942e0c6fce9b322d\n",
      "Scores: [70.63, 3, 5]\n",
      "Policies: [2, 1]\n",
      "\n",
      "Professional Performing Arts High School\n",
      "ID: 02M408, Name: Professional Performing Arts High School\n",
      "Policy: 3\n",
      "Cap/Pop/Like: [124, 1160, 0.34]\n",
      "\n",
      "New Directions Secondary School\n",
      "ID: 09X350, Name: New Directions Secondary School\n",
      "Policy: 2\n",
      "Cap/Pop/Like: [25, 69, 0.145]\n",
      "\n"
     ]
    }
   ],
   "source": [
    "# 2022 default = 71250 students ranked alongside 437 schools\n",
    "LARGE_NUM = 9999999999  # used to set upperbound for sampling range\n",
    "\n",
    "def generate_students(seed, size=71250):\n",
    "    \"\"\" generate students based on seeded random sampling \"\"\"\n",
    "    random.seed(seed)\n",
    "    return [Student(\"Student #\"+str(i)) for i in random.sample(range(LARGE_NUM*size), size)]\n",
    "\n",
    "def generate_schools(seed, size=437):\n",
    "    \"\"\" generate schools based on seeded random sampling \"\"\"\n",
    "    random.seed(seed)\n",
    "    return [School(\"School #\"+str(i)) for i in random.sample(range(LARGE_NUM*size), size)]\n",
    "\n",
    "def generate_nyc_schools(seed, school_info_dir=\"Data/schools_info.npy\"):\n",
    "    \"\"\" generate schools based on nyc school applicant data \"\"\"\n",
    "    school_info = np.load(school_info_dir, allow_pickle=True).item()\n",
    "    # {name: (dbn, capacity, true applicants, total applicants)}\n",
    "    new_schools = []\n",
    "    for name, info in school_info.items():  # NOTE: can add seeded variance in popularity & likeability\n",
    "        tmp_like = 0 if info[3]==0 else round(info[2]/info[3], 3)  # applicant rate (proxy for true_ar)\n",
    "        # NOTE: popularity can also be total_applicants/capacity but we want capacity-weighted for this implementaiton\n",
    "        schol = School(info[0], info[1], info[3], tmp_like, name)\n",
    "        new_schools.append(schol)\n",
    "    random.seed(seed)\n",
    "    random.shuffle(new_schools)  # shuffle because order can affect tiebreakers\n",
    "    return new_schools\n",
    "    \n",
    "\"\"\" AUTHOR'S NOTE:\n",
    "In a previous iteration the random sample was based on size to ensure reproducibilty...\n",
    "For some reason the random state carried over from previous iterations resulting in non-random matches.\n",
    "- to mitigate this the functions are now exclusively random\n",
    "- if you'd like to reproduce a previous generation, simply generate students/schools with the same id/dbn\n",
    "\"\"\"\n",
    "\n",
    "#test\n",
    "test_students = generate_students(1, 2)\n",
    "for stud in test_students:\n",
    "    print(stud.info())\n",
    "    print()\n",
    "test_schools = generate_nyc_schools(1)[:2] # generate_schools(1, 2)\n",
    "for schol in test_schools:\n",
    "    print(schol.name)\n",
    "    print(schol.info())\n",
    "    print()"
   ]
  },
  {
   "cell_type": "markdown",
   "id": "eb01dd90",
   "metadata": {},
   "source": [
    "## Main Simulation Code"
   ]
  },
  {
   "cell_type": "code",
   "execution_count": 6,
   "id": "764e1a49",
   "metadata": {},
   "outputs": [],
   "source": [
    "# SIMULATIONS\n",
    "def simulate_student_choices(students, schools):\n",
    "    \"\"\" takes in a dict of students and schools and generates choices based on student.selection_policy\n",
    "     ordered by student.ranking_policy \n",
    "     Note: also outputs a school_to_student helper dict such that {school.dbn: set(school_id)}\n",
    "     \"\"\"\n",
    "    choices = dict([[str(stud), []] for stud in students])\n",
    "    \n",
    "    # generate lists of schools for each strategy & shuffle\n",
    "    full_random = list(schools.keys())\n",
    "    popularity_weights = [schools[schol].popularity for schol in full_random]\n",
    "    \n",
    "    school_to_student = dict([[str(schol), set()] for schol in schools])  # helper for school choices\n",
    "    for stud in tqdm(students.values()):\n",
    "        # for each student, choose schools depending on strategy based on seed\n",
    "        ranks = []\n",
    "        random.seed(str(stud))\n",
    "        if stud.selection_policy == 1:  # fully randomized\n",
    "            ranks = random.choices(population=full_random, k=stud.num_schools)\n",
    "        else:  # popularity weighted randomized\n",
    "            ranks = random.choices(population=full_random, weights=popularity_weights, k=stud.num_schools)\n",
    "        \n",
    "        # order based on student policy\n",
    "        if stud.ranking_policy != 1:  # rank by likeability\n",
    "            ranks.sort(key=lambda schol: schools[schol].likeability, reverse=True)\n",
    "            # NOTE: ties are handled by how the list was previously sorted which is depended on the seed\n",
    "        choices[str(stud)] = ranks\n",
    "        \n",
    "        for schol_id in ranks:  # add ranks to helper\n",
    "            school_to_student[schol_id].add(str(stud))\n",
    "    return choices, school_to_student\n",
    "\n",
    "def simulate_school_choices(school_to_student, students, schools):\n",
    "    \"\"\" takes in a dict of students and schools as well as the student's rankings and generatings \n",
    "        the school's choices based on them\n",
    "    \"\"\"\n",
    "    choices = {}\n",
    "    # sort students by school policy\n",
    "    for schol_id, student_ids in tqdm(school_to_student.items()):\n",
    "        ranks = []\n",
    "        if schools[schol_id].policy == 1:\n",
    "            ranks = sorted(student_ids, key=lambda stud_id: students[stud_id].lottery)\n",
    "        elif schools[schol_id].policy == 2:\n",
    "            ranks = sorted(student_ids, key=lambda stud_id: (students[stud_id].seat, students[stud_id].lottery))\n",
    "        else:\n",
    "            ranks = sorted(student_ids, key=lambda stud_id: (students[stud_id].screen, students[stud_id].lottery))\n",
    "        choices[schol_id] = ranks\n",
    "    return choices"
   ]
  },
  {
   "cell_type": "markdown",
   "id": "9b067a59",
   "metadata": {},
   "source": [
    "## *Oneshot Functions"
   ]
  },
  {
   "cell_type": "code",
   "execution_count": 7,
   "id": "67e4dda5",
   "metadata": {},
   "outputs": [],
   "source": [
    "def oneshot(seed, nyc=True, num_schools=437, num_students=71250, verbose=False):\n",
    "    \"\"\" runs a basic simulation that generates schools and students and simulates their preferences:\n",
    "        - student_preference_profile = {student_id : [school_ids_ranked]}\n",
    "        - school_preference_profile = {school ids : [student_ids_ranked]} \n",
    "        - students = {student_id : [self.id, self.lottery, self.selection_policy, self.ranking_policy,\n",
    "                                    self.num_schools,  self.test_score, self.seat, self.screen, \n",
    "                                    self.name, self.district, self.borough, self.location] }\n",
    "        - schools = {school_dbn : [self.dbn, self.policy, self.popularity, self.likeability,\n",
    "                                    self.name, self.district, self.borough, self.location] }\n",
    "                                \n",
    "        seed determines the simulation state,\n",
    "        nyc determines if you want to use real nyc school data from 2023 (overrides num_schools on True)\n",
    "        num_students & num_schools are self-explanatory\n",
    "    \"\"\"\n",
    "    random.seed(seed)\n",
    "    student_seed, school_seed = random.sample(range(LARGE_NUM), 2)\n",
    "    if verbose: print(\"Base Seed\", seed, \"created student seed\", student_seed, \"and school seed\", school_seed)\n",
    "    \n",
    "    # generate students and schools\n",
    "    students = dict([[str(stud), stud] for stud in generate_students(student_seed, num_students)])\n",
    "    if nyc:\n",
    "        schools = dict([[str(schol), schol] for schol in generate_nyc_schools(school_seed)])\n",
    "    else:\n",
    "        schools = dict([[str(schol), schol] for schol in generate_schools(school_seed, num_schools)])\n",
    "    if verbose: \n",
    "        total_seats = sum([schol.capacity for schol in schools.values()])\n",
    "        print(\"Generated\", len(schools), \"schools and\", len(students), \"students with\", total_seats, \"seats\\n\")\n",
    "    \n",
    "    if verbose: print(\"Student choices simulating...\")\n",
    "    student_preference_profile, school_to_student = simulate_student_choices(students, schools)\n",
    "    \n",
    "    if verbose: print(\"School choices simulating...\")\n",
    "    # Note: no random seed since lottery# informs the tiebreaks\n",
    "    school_preference_profile = simulate_school_choices(school_to_student, students, schools)\n",
    "    \n",
    "    return student_preference_profile, school_preference_profile, students, schools\n",
    "\n",
    "\n",
    "def oneshot_with_input(seed, lottery_num, my_schools, gpa=-1, student_name=\"injected_student\", verbose=False):\n",
    "    \"\"\" runs a simulation based on NYC data with a single student as input\n",
    "    Note: for student, lottery# & schools required, percentile scale gpa recommended, name possible\n",
    "    \"\"\"\n",
    "    assert len(my_schools) <= MAX_NUM_SCHOOLS, \"you can only rank \"+str(MAX_NUM_SCHOOLS)+\" schools\"\n",
    "    \n",
    "    # tldr to a normal oneshot() simulation, then add in the student before the school preferences are simulated\n",
    "    random.seed(seed)\n",
    "    student_seed, school_seed = random.sample(range(LARGE_NUM), 2)\n",
    "    if verbose: print(\"Base Seed\", seed, \"created student seed\", student_seed, \"and school seed\", school_seed)\n",
    "    \n",
    "    students = dict([[str(stud), stud] for stud in generate_students(student_seed)])\n",
    "    schools = dict([[str(schol), schol] for schol in generate_nyc_schools(school_seed)])\n",
    "    if verbose: \n",
    "        total_seats = sum([schol.capacity for schol in schools.values()])\n",
    "        print(\"Generated\", len(schools), \"schools and\", len(students), \"students with\", total_seats, \"seats\\n\")\n",
    "    \n",
    "    if verbose: print(\"Student choices simulating...\")\n",
    "    student_preference_profile, school_to_student = simulate_student_choices(students, schools)\n",
    "    \n",
    "    # inject student into data\n",
    "    if verbose: print(\"Injecting new student into data...\")\n",
    "    choices = match_schools(schools, my_schools)  # match choices with schools in present data set\n",
    "    new_student = Student(student_name, lottery_num, choices, gpa)  # make student obj\n",
    "    students[str(new_student)] = new_student  # add student to data\n",
    "    student_preference_profile[str(new_student)] = choices  # add student's list to preference profile\n",
    "    for schol in choices:  # add student's choices to school dict\n",
    "        school_to_student[schol].add(str(new_student))  # Note: make sure there is no student with an identical id\n",
    "    \n",
    "    if verbose: print(\"School choices simulating...\")\n",
    "    school_preference_profile = simulate_school_choices(school_to_student, students, schools)\n",
    "    \n",
    "    return student_preference_profile, school_preference_profile, students, schools"
   ]
  },
  {
   "cell_type": "code",
   "execution_count": 38,
   "id": "e66062dc",
   "metadata": {},
   "outputs": [
    {
     "name": "stdout",
     "output_type": "stream",
     "text": [
      "Base Seed 1 created student seed 9167024629 and school seed 3280387012\n",
      "Generated 439 schools and 71250 students with 72958 seats\n",
      "\n",
      "Student choices simulating...\n"
     ]
    },
    {
     "name": "stderr",
     "output_type": "stream",
     "text": [
      "100%|██████████| 71250/71250 [00:02<00:00, 26821.11it/s]\n"
     ]
    },
    {
     "name": "stdout",
     "output_type": "stream",
     "text": [
      "Injecting new student into data...\n",
      "School choices simulating...\n"
     ]
    },
    {
     "name": "stderr",
     "output_type": "stream",
     "text": [
      "100%|██████████| 439/439 [00:01<00:00, 319.35it/s]"
     ]
    },
    {
     "name": "stdout",
     "output_type": "stream",
     "text": [
      "CPU times: user 7.82 s, sys: 1.22 s, total: 9.03 s\n",
      "Wall time: 10.4 s\n"
     ]
    },
    {
     "name": "stderr",
     "output_type": "stream",
     "text": [
      "\n"
     ]
    }
   ],
   "source": [
    "%%time\n",
    "\n",
    "# TESTING\n",
    "simstate = 1\n",
    "# student_prefs, school_prefs, students, schools = oneshot(simstate, True)\n",
    "student_prefs, school_prefs, students, schools = oneshot_with_input(simstate, \"04628abdceed442c918f54ed2f39055e\",\n",
    "                                                        [\"Quest to Learn\", \"East Side Community\",\n",
    "                                                        \"Forsyth Satellite Academy\",\n",
    "                                                        \"Lower Manhattan Arts Academyy\"], \n",
    "                                                        90, \"Kora\", True)"
   ]
  },
  {
   "cell_type": "markdown",
   "id": "442ad5f6",
   "metadata": {},
   "source": [
    "### Sanity Checking & Evaluation"
   ]
  },
  {
   "cell_type": "code",
   "execution_count": 17,
   "id": "8ef7c509",
   "metadata": {},
   "outputs": [],
   "source": [
    "# ensuring injected student is in profile and their preferences are stored \n",
    "# for schol in student_prefs[\"Kora\"]:\n",
    "#     print(schools[schol].info())\n",
    "#     print()"
   ]
  },
  {
   "cell_type": "code",
   "execution_count": 18,
   "id": "5a4f2e5e",
   "metadata": {},
   "outputs": [
    {
     "name": "stdout",
     "output_type": "stream",
     "text": [
      "Simulation resulted in 0 of 439 schools with no student applications\n",
      "On average, each school ranked 1905 of 71250 students\n"
     ]
    }
   ],
   "source": [
    "# Sanity Check:\n",
    "zero_count = 0\n",
    "avg_count = 0\n",
    "for schol, studs in school_prefs.items():\n",
    "    if len(studs) == 0:\n",
    "        zero_count += 1\n",
    "    avg_count += len(studs)\n",
    "avg_count /= len(schools)\n",
    "print(\"Simulation resulted in\", zero_count, \"of\", len(schools), \"schools with no student applications\")\n",
    "print(\"On average, each school ranked\", round(avg_count), \"of\", len(students), \"students\")"
   ]
  },
  {
   "cell_type": "code",
   "execution_count": 19,
   "id": "b14e7ebf",
   "metadata": {
    "scrolled": true
   },
   "outputs": [
    {
     "name": "stdout",
     "output_type": "stream",
     "text": [
      "ID: Student #609348707388531\n",
      "Lottery: 8b0c6057f77b4978b78dfc40c663e2e9\n",
      "Scores: [77.29, 3, 4]\n",
      "Policies: [1, 2]\n",
      "*\n",
      "\n",
      "ID: 02M545, Name: High School for Dual Language and Asian Studies\n",
      "Policy: 2\n",
      "Cap/Pop/Like: [108, 1048, 0.47]\n",
      "\n",
      "ID: 25Q281, Name: East-West School of International Studies\n",
      "Policy: 3\n",
      "Cap/Pop/Like: [89, 763, 0.387]\n",
      "\n",
      "ID: 19K683, Name: School for Classics High School\n",
      "Policy: 1\n",
      "Cap/Pop/Like: [108, 242, 0.302]\n",
      "\n",
      "ID: 14K685, Name: El Puente Academy for Peace and Justice\n",
      "Policy: 2\n",
      "Cap/Pop/Like: [70, 168, 0.286]\n",
      "\n",
      "ID: 17K543, Name: Science, Technology and Research Early College High School at Erasmus\n",
      "Policy: 2\n",
      "Cap/Pop/Like: [130, 810, 0.264]\n",
      "\n"
     ]
    }
   ],
   "source": [
    "# checking that students with policy[1]=2 have schools ranked from largest to smallest likeability\n",
    "s = list(student_prefs.keys())[0]\n",
    "print(students[s].info())\n",
    "print(\"*\\n\")\n",
    "for sch in student_prefs[s][:5]:\n",
    "    print(schools[sch].info())\n",
    "    print()"
   ]
  },
  {
   "cell_type": "code",
   "execution_count": 20,
   "id": "6a84ad14",
   "metadata": {},
   "outputs": [
    {
     "name": "stdout",
     "output_type": "stream",
     "text": [
      "ID: 08X432, Name: Bronx Bridges High School\n",
      "Policy: 3\n",
      "Cap/Pop/Like: [81, 429, 0.159]\n",
      "*\n",
      "\n",
      "ID: Student #489904833490118\n",
      "Lottery: 1c39e5ab88eb49a69e44a76cee140098\n",
      "Scores: [95.1, 1, 1]\n",
      "Policies: [1, 2]\n",
      "\n",
      "ID: Student #285442825375764\n",
      "Lottery: 37f37a9929394fea98722e877dd20045\n",
      "Scores: [90.28, 1, 2]\n",
      "Policies: [2, 1]\n",
      "\n",
      "ID: Student #439100751271157\n",
      "Lottery: 3ecb14c0c0904b06a0d8f9f07580ee00\n",
      "Scores: [93.03, 1, 2]\n",
      "Policies: [1, 2]\n",
      "\n",
      "ID: Student #368538878316195\n",
      "Lottery: 559f6b2ca0ee48e781bc8344c6cae3e1\n",
      "Scores: [90.59, 1, 2]\n",
      "Policies: [1, 2]\n",
      "\n",
      "ID: Student #665203594395897\n",
      "Lottery: 8b7459b025f24ca2a4604b7976cc103d\n",
      "Scores: [91.5, 1, 2]\n",
      "Policies: [1, 2]\n",
      "\n",
      "ID: Student #3123722867502\n",
      "Lottery: a122f232b4a74771bf93ddd59b2b47a1\n",
      "Scores: [89.89, 1, 2]\n",
      "Policies: [1, 2]\n",
      "\n",
      "ID: Student #180893752055294\n",
      "Lottery: a92e82de50b446239241052c7835e199\n",
      "Scores: [92.2, 1, 2]\n",
      "Policies: [1, 2]\n",
      "\n",
      "ID: Student #84522400398245\n",
      "Lottery: f5a731dfe42544229407b9cd2162b75a\n",
      "Scores: [89.66, 1, 2]\n",
      "Policies: [1, 2]\n",
      "\n",
      "ID: Student #271256535681864\n",
      "Lottery: 10b9d4b7181a4276bb39419ba6b95050\n",
      "Scores: [86.3, 2, 3]\n",
      "Policies: [1, 2]\n",
      "\n",
      "ID: Student #473715266267837\n",
      "Lottery: 118fc70d21fc44edb72224da4357e9da\n",
      "Scores: [84.68, 2, 3]\n",
      "Policies: [1, 2]\n",
      "\n"
     ]
    }
   ],
   "source": [
    "# checking that schools with policy > 1 have students loosely ranked from largest to smallest test score\n",
    "s = list(school_prefs.keys())[3]\n",
    "print(schools[s].info())\n",
    "print(\"*\\n\")\n",
    "for stud in school_prefs[s][:10]:\n",
    "    print(students[stud].info())\n",
    "    print()"
   ]
  },
  {
   "cell_type": "markdown",
   "id": "d9b0414f",
   "metadata": {},
   "source": [
    "### Save Results"
   ]
  },
  {
   "cell_type": "code",
   "execution_count": 21,
   "id": "ac4d86b4",
   "metadata": {},
   "outputs": [
    {
     "name": "stdout",
     "output_type": "stream",
     "text": [
      "Simulation state 1 saved at\n",
      " /Users/korahughes/Documents/GitHub/DataLife/BackEnd/Data/Generated/simulation_results_rs1/\n"
     ]
    }
   ],
   "source": [
    "newpath = cwd + \"/Data/Generated/simulation_results_rs\" + str(simstate)\n",
    "if not os.path.exists(newpath):\n",
    "    os.makedirs(newpath)\n",
    "\n",
    "np.save(newpath+\"/student_rankings.npy\", student_prefs)\n",
    "np.save(newpath+\"/school_rankings.npy\", school_prefs)\n",
    "\n",
    "list_students = dict([[str(stud), stud.to_list()] for stud in students.values()])\n",
    "np.save(newpath+\"/student_info.npy\", list_students)\n",
    "list_schools = dict([[str(schol), schol.to_list()] for schol in schools.values()])\n",
    "np.save(newpath+\"/school_info.npy\", list_schools)\n",
    "    \n",
    "print(\"Simulation state\", simstate, \"saved at\\n\", newpath+'/')"
   ]
  },
  {
   "cell_type": "markdown",
   "id": "09ca411c",
   "metadata": {},
   "source": [
    "### Running & Saving Multiple Simulation States"
   ]
  },
  {
   "cell_type": "code",
   "execution_count": 35,
   "id": "7721a3e6",
   "metadata": {},
   "outputs": [
    {
     "name": "stderr",
     "output_type": "stream",
     "text": [
      "100%|██████████| 71250/71250 [00:02<00:00, 25839.96it/s]\n",
      "100%|██████████| 439/439 [00:01<00:00, 286.85it/s]\n",
      " 25%|██▌       | 1/4 [00:09<00:28,  9.55s/it]"
     ]
    },
    {
     "name": "stdout",
     "output_type": "stream",
     "text": [
      "Simulation state 1 saved at /Users/korahughes/Documents/GitHub/DataLife/BackEnd/Data/Generated/simulation_results_rs1/\n",
      "\n"
     ]
    },
    {
     "name": "stderr",
     "output_type": "stream",
     "text": [
      "100%|██████████| 71250/71250 [00:02<00:00, 23959.35it/s]\n",
      "100%|██████████| 439/439 [00:01<00:00, 224.87it/s]\n",
      " 50%|█████     | 2/4 [00:19<00:19,  9.55s/it]"
     ]
    },
    {
     "name": "stdout",
     "output_type": "stream",
     "text": [
      "Simulation state 1 saved at /Users/korahughes/Documents/GitHub/DataLife/BackEnd/Data/Generated/simulation_results_rs2/\n",
      "\n"
     ]
    },
    {
     "name": "stderr",
     "output_type": "stream",
     "text": [
      "100%|██████████| 71250/71250 [00:02<00:00, 26227.58it/s]\n",
      "100%|██████████| 439/439 [00:02<00:00, 213.09it/s]\n",
      " 75%|███████▌  | 3/4 [00:28<00:09,  9.67s/it]"
     ]
    },
    {
     "name": "stdout",
     "output_type": "stream",
     "text": [
      "Simulation state 1 saved at /Users/korahughes/Documents/GitHub/DataLife/BackEnd/Data/Generated/simulation_results_rs3/\n",
      "\n"
     ]
    },
    {
     "name": "stderr",
     "output_type": "stream",
     "text": [
      "100%|██████████| 71250/71250 [00:02<00:00, 29512.27it/s]\n",
      "100%|██████████| 439/439 [00:01<00:00, 253.10it/s]\n",
      "100%|██████████| 4/4 [00:37<00:00,  9.43s/it]"
     ]
    },
    {
     "name": "stdout",
     "output_type": "stream",
     "text": [
      "Simulation state 1 saved at /Users/korahughes/Documents/GitHub/DataLife/BackEnd/Data/Generated/simulation_results_rs4/\n",
      "\n"
     ]
    },
    {
     "name": "stderr",
     "output_type": "stream",
     "text": [
      "\n"
     ]
    }
   ],
   "source": [
    "for auto_simstate in tqdm(range(1,5)):\n",
    "    student_prefs, school_prefs, students, schools = oneshot(auto_simstate, True)  # run simulation\n",
    "    \n",
    "    newpath = cwd + \"/Data/Generated/simulation_results_rs\" + str(auto_simstate)\n",
    "    if not os.path.exists(newpath):  # add folder for simulation\n",
    "        os.makedirs(newpath)\n",
    "    np.save(newpath+\"/student_rankings.npy\", student_prefs)  # save student/school preferences\n",
    "    np.save(newpath+\"/school_rankings.npy\", school_prefs)\n",
    "\n",
    "    list_students = dict([[str(stud), stud.to_list()] for stud in students.values()])  # transform & save the student/school information\n",
    "    np.save(newpath+\"/student_info.npy\", list_students)\n",
    "    list_schools = dict([[str(schol), schol.to_list()] for schol in schools.values()])\n",
    "    np.save(newpath+\"/school_info.npy\", list_schools)\n",
    "        \n",
    "    print(\"Simulation state\", auto_simstate, \"saved at\", newpath+'/')\n",
    "    print()"
   ]
  },
  {
   "cell_type": "code",
   "execution_count": null,
   "id": "d0dd65f3",
   "metadata": {},
   "outputs": [],
   "source": []
  },
  {
   "cell_type": "markdown",
   "id": "d7b8e5a0",
   "metadata": {},
   "source": [
    "#  LEGACY CODE (can ignore if you're not a developer)\n",
    "\n",
    "\n",
    "\n",
    "## Task 1) Load student demographics and preferences"
   ]
  },
  {
   "cell_type": "code",
   "execution_count": 59,
   "id": "404e1dc4",
   "metadata": {},
   "outputs": [
    {
     "data": {
      "text/html": [
       "<div>\n",
       "<style scoped>\n",
       "    .dataframe tbody tr th:only-of-type {\n",
       "        vertical-align: middle;\n",
       "    }\n",
       "\n",
       "    .dataframe tbody tr th {\n",
       "        vertical-align: top;\n",
       "    }\n",
       "\n",
       "    .dataframe thead th {\n",
       "        text-align: right;\n",
       "    }\n",
       "</style>\n",
       "<table border=\"1\" class=\"dataframe\">\n",
       "  <thead>\n",
       "    <tr style=\"text-align: right;\">\n",
       "      <th></th>\n",
       "      <th>Student_Id</th>\n",
       "      <th>Residential_District</th>\n",
       "      <th>swd</th>\n",
       "      <th>poverty</th>\n",
       "      <th>sex</th>\n",
       "      <th>ell</th>\n",
       "      <th>ENI</th>\n",
       "      <th>Black</th>\n",
       "      <th>Hispanic</th>\n",
       "      <th>Multi-Racial</th>\n",
       "      <th>White</th>\n",
       "      <th>Asian</th>\n",
       "      <th>Native American</th>\n",
       "      <th>Missing Race/Ethnicity Data</th>\n",
       "      <th>school</th>\n",
       "      <th>Math_score</th>\n",
       "      <th>ELA_score</th>\n",
       "    </tr>\n",
       "  </thead>\n",
       "  <tbody>\n",
       "    <tr>\n",
       "      <th>0</th>\n",
       "      <td>student_36332</td>\n",
       "      <td>Residential District Unknown</td>\n",
       "      <td>0</td>\n",
       "      <td>0</td>\n",
       "      <td>1</td>\n",
       "      <td>0</td>\n",
       "      <td>0.723</td>\n",
       "      <td>0</td>\n",
       "      <td>1</td>\n",
       "      <td>0</td>\n",
       "      <td>0</td>\n",
       "      <td>0</td>\n",
       "      <td>0</td>\n",
       "      <td>0</td>\n",
       "      <td>30Q127</td>\n",
       "      <td>2.000000</td>\n",
       "      <td>3.125000</td>\n",
       "    </tr>\n",
       "    <tr>\n",
       "      <th>1</th>\n",
       "      <td>student_36144</td>\n",
       "      <td>Residential District Unknown</td>\n",
       "      <td>0</td>\n",
       "      <td>1</td>\n",
       "      <td>0</td>\n",
       "      <td>0</td>\n",
       "      <td>0.684</td>\n",
       "      <td>0</td>\n",
       "      <td>1</td>\n",
       "      <td>0</td>\n",
       "      <td>0</td>\n",
       "      <td>0</td>\n",
       "      <td>0</td>\n",
       "      <td>0</td>\n",
       "      <td>27Q137</td>\n",
       "      <td>2.153846</td>\n",
       "      <td>2.750000</td>\n",
       "    </tr>\n",
       "    <tr>\n",
       "      <th>2</th>\n",
       "      <td>student_37038</td>\n",
       "      <td>Residential District Unknown</td>\n",
       "      <td>1</td>\n",
       "      <td>1</td>\n",
       "      <td>1</td>\n",
       "      <td>0</td>\n",
       "      <td>0.881</td>\n",
       "      <td>0</td>\n",
       "      <td>1</td>\n",
       "      <td>0</td>\n",
       "      <td>0</td>\n",
       "      <td>0</td>\n",
       "      <td>0</td>\n",
       "      <td>0</td>\n",
       "      <td>24Q061</td>\n",
       "      <td>2.846154</td>\n",
       "      <td>1.753425</td>\n",
       "    </tr>\n",
       "    <tr>\n",
       "      <th>3</th>\n",
       "      <td>student_614</td>\n",
       "      <td>Residential District Unknown</td>\n",
       "      <td>0</td>\n",
       "      <td>0</td>\n",
       "      <td>1</td>\n",
       "      <td>0</td>\n",
       "      <td>0.191</td>\n",
       "      <td>0</td>\n",
       "      <td>0</td>\n",
       "      <td>0</td>\n",
       "      <td>1</td>\n",
       "      <td>0</td>\n",
       "      <td>0</td>\n",
       "      <td>0</td>\n",
       "      <td>02M114</td>\n",
       "      <td>4.275862</td>\n",
       "      <td>4.181818</td>\n",
       "    </tr>\n",
       "    <tr>\n",
       "      <th>4</th>\n",
       "      <td>student_21981</td>\n",
       "      <td>Residential District Unknown</td>\n",
       "      <td>1</td>\n",
       "      <td>0</td>\n",
       "      <td>1</td>\n",
       "      <td>0</td>\n",
       "      <td>0.304</td>\n",
       "      <td>0</td>\n",
       "      <td>0</td>\n",
       "      <td>0</td>\n",
       "      <td>1</td>\n",
       "      <td>0</td>\n",
       "      <td>0</td>\n",
       "      <td>0</td>\n",
       "      <td>02M312</td>\n",
       "      <td>4.017241</td>\n",
       "      <td>3.125000</td>\n",
       "    </tr>\n",
       "    <tr>\n",
       "      <th>...</th>\n",
       "      <td>...</td>\n",
       "      <td>...</td>\n",
       "      <td>...</td>\n",
       "      <td>...</td>\n",
       "      <td>...</td>\n",
       "      <td>...</td>\n",
       "      <td>...</td>\n",
       "      <td>...</td>\n",
       "      <td>...</td>\n",
       "      <td>...</td>\n",
       "      <td>...</td>\n",
       "      <td>...</td>\n",
       "      <td>...</td>\n",
       "      <td>...</td>\n",
       "      <td>...</td>\n",
       "      <td>...</td>\n",
       "      <td>...</td>\n",
       "    </tr>\n",
       "    <tr>\n",
       "      <th>71245</th>\n",
       "      <td>student_22462</td>\n",
       "      <td>Residential District 01</td>\n",
       "      <td>0</td>\n",
       "      <td>0</td>\n",
       "      <td>1</td>\n",
       "      <td>0</td>\n",
       "      <td>0.650</td>\n",
       "      <td>0</td>\n",
       "      <td>1</td>\n",
       "      <td>0</td>\n",
       "      <td>0</td>\n",
       "      <td>0</td>\n",
       "      <td>0</td>\n",
       "      <td>0</td>\n",
       "      <td>01M450</td>\n",
       "      <td>2.000000</td>\n",
       "      <td>1.972603</td>\n",
       "    </tr>\n",
       "    <tr>\n",
       "      <th>71246</th>\n",
       "      <td>student_30857</td>\n",
       "      <td>Residential District 01</td>\n",
       "      <td>1</td>\n",
       "      <td>0</td>\n",
       "      <td>1</td>\n",
       "      <td>0</td>\n",
       "      <td>0.621</td>\n",
       "      <td>0</td>\n",
       "      <td>0</td>\n",
       "      <td>0</td>\n",
       "      <td>0</td>\n",
       "      <td>1</td>\n",
       "      <td>0</td>\n",
       "      <td>0</td>\n",
       "      <td>01M184</td>\n",
       "      <td>3.000000</td>\n",
       "      <td>3.125000</td>\n",
       "    </tr>\n",
       "    <tr>\n",
       "      <th>71247</th>\n",
       "      <td>student_57833</td>\n",
       "      <td>Residential District 01</td>\n",
       "      <td>0</td>\n",
       "      <td>0</td>\n",
       "      <td>0</td>\n",
       "      <td>0</td>\n",
       "      <td>0.256</td>\n",
       "      <td>1</td>\n",
       "      <td>0</td>\n",
       "      <td>0</td>\n",
       "      <td>0</td>\n",
       "      <td>0</td>\n",
       "      <td>0</td>\n",
       "      <td>0</td>\n",
       "      <td>01M539</td>\n",
       "      <td>2.615385</td>\n",
       "      <td>4.030303</td>\n",
       "    </tr>\n",
       "    <tr>\n",
       "      <th>71248</th>\n",
       "      <td>student_32259</td>\n",
       "      <td>Residential District 01</td>\n",
       "      <td>0</td>\n",
       "      <td>1</td>\n",
       "      <td>0</td>\n",
       "      <td>0</td>\n",
       "      <td>0.950</td>\n",
       "      <td>0</td>\n",
       "      <td>0</td>\n",
       "      <td>0</td>\n",
       "      <td>0</td>\n",
       "      <td>1</td>\n",
       "      <td>0</td>\n",
       "      <td>0</td>\n",
       "      <td>01M188</td>\n",
       "      <td>3.083333</td>\n",
       "      <td>2.000000</td>\n",
       "    </tr>\n",
       "    <tr>\n",
       "      <th>71249</th>\n",
       "      <td>student_68963</td>\n",
       "      <td>Residential District 01</td>\n",
       "      <td>1</td>\n",
       "      <td>0</td>\n",
       "      <td>1</td>\n",
       "      <td>0</td>\n",
       "      <td>0.630</td>\n",
       "      <td>0</td>\n",
       "      <td>1</td>\n",
       "      <td>0</td>\n",
       "      <td>0</td>\n",
       "      <td>0</td>\n",
       "      <td>0</td>\n",
       "      <td>0</td>\n",
       "      <td>01M839</td>\n",
       "      <td>2.692308</td>\n",
       "      <td>2.312500</td>\n",
       "    </tr>\n",
       "  </tbody>\n",
       "</table>\n",
       "<p>71250 rows × 17 columns</p>\n",
       "</div>"
      ],
      "text/plain": [
       "          Student_Id          Residential_District  swd  poverty  sex  ell  \\\n",
       "0      student_36332  Residential District Unknown    0        0    1    0   \n",
       "1      student_36144  Residential District Unknown    0        1    0    0   \n",
       "2      student_37038  Residential District Unknown    1        1    1    0   \n",
       "3        student_614  Residential District Unknown    0        0    1    0   \n",
       "4      student_21981  Residential District Unknown    1        0    1    0   \n",
       "...              ...                           ...  ...      ...  ...  ...   \n",
       "71245  student_22462       Residential District 01    0        0    1    0   \n",
       "71246  student_30857       Residential District 01    1        0    1    0   \n",
       "71247  student_57833       Residential District 01    0        0    0    0   \n",
       "71248  student_32259       Residential District 01    0        1    0    0   \n",
       "71249  student_68963       Residential District 01    1        0    1    0   \n",
       "\n",
       "         ENI  Black  Hispanic  Multi-Racial  White  Asian  Native American  \\\n",
       "0      0.723      0         1             0      0      0                0   \n",
       "1      0.684      0         1             0      0      0                0   \n",
       "2      0.881      0         1             0      0      0                0   \n",
       "3      0.191      0         0             0      1      0                0   \n",
       "4      0.304      0         0             0      1      0                0   \n",
       "...      ...    ...       ...           ...    ...    ...              ...   \n",
       "71245  0.650      0         1             0      0      0                0   \n",
       "71246  0.621      0         0             0      0      1                0   \n",
       "71247  0.256      1         0             0      0      0                0   \n",
       "71248  0.950      0         0             0      0      1                0   \n",
       "71249  0.630      0         1             0      0      0                0   \n",
       "\n",
       "       Missing Race/Ethnicity Data  school  Math_score  ELA_score  \n",
       "0                                0  30Q127    2.000000   3.125000  \n",
       "1                                0  27Q137    2.153846   2.750000  \n",
       "2                                0  24Q061    2.846154   1.753425  \n",
       "3                                0  02M114    4.275862   4.181818  \n",
       "4                                0  02M312    4.017241   3.125000  \n",
       "...                            ...     ...         ...        ...  \n",
       "71245                            0  01M450    2.000000   1.972603  \n",
       "71246                            0  01M184    3.000000   3.125000  \n",
       "71247                            0  01M539    2.615385   4.030303  \n",
       "71248                            0  01M188    3.083333   2.000000  \n",
       "71249                            0  01M839    2.692308   2.312500  \n",
       "\n",
       "[71250 rows x 17 columns]"
      ]
     },
     "execution_count": 59,
     "metadata": {},
     "output_type": "execute_result"
    }
   ],
   "source": [
    "student_df = pd.read_csv(cwd+\"/Data/student_info_with_demographics.csv\")\n",
    "student_df"
   ]
  },
  {
   "cell_type": "code",
   "execution_count": 85,
   "id": "0bbcc4ce",
   "metadata": {},
   "outputs": [
    {
     "data": {
      "text/html": [
       "<div>\n",
       "<style scoped>\n",
       "    .dataframe tbody tr th:only-of-type {\n",
       "        vertical-align: middle;\n",
       "    }\n",
       "\n",
       "    .dataframe tbody tr th {\n",
       "        vertical-align: top;\n",
       "    }\n",
       "\n",
       "    .dataframe thead th {\n",
       "        text-align: right;\n",
       "    }\n",
       "</style>\n",
       "<table border=\"1\" class=\"dataframe\">\n",
       "  <thead>\n",
       "    <tr style=\"text-align: right;\">\n",
       "      <th></th>\n",
       "      <th>swd</th>\n",
       "      <th>poverty</th>\n",
       "      <th>sex</th>\n",
       "      <th>ell</th>\n",
       "      <th>ENI</th>\n",
       "      <th>Black</th>\n",
       "      <th>Hispanic</th>\n",
       "      <th>Multi-Racial</th>\n",
       "      <th>White</th>\n",
       "      <th>Asian</th>\n",
       "      <th>Native American</th>\n",
       "      <th>Missing Race/Ethnicity Data</th>\n",
       "      <th>Math_score</th>\n",
       "      <th>ELA_score</th>\n",
       "      <th>fake_gpa</th>\n",
       "      <th>seat</th>\n",
       "      <th>screen</th>\n",
       "    </tr>\n",
       "  </thead>\n",
       "  <tbody>\n",
       "    <tr>\n",
       "      <th>count</th>\n",
       "      <td>71250.000000</td>\n",
       "      <td>71250.000000</td>\n",
       "      <td>71250.000000</td>\n",
       "      <td>71250.000000</td>\n",
       "      <td>71250.000000</td>\n",
       "      <td>71250.000000</td>\n",
       "      <td>71250.000000</td>\n",
       "      <td>71250.000000</td>\n",
       "      <td>71250.000000</td>\n",
       "      <td>71250.000000</td>\n",
       "      <td>71250.000000</td>\n",
       "      <td>71250.000000</td>\n",
       "      <td>71250.000000</td>\n",
       "      <td>71250.000000</td>\n",
       "      <td>71250.000000</td>\n",
       "      <td>71250.000000</td>\n",
       "      <td>71250.000000</td>\n",
       "    </tr>\n",
       "    <tr>\n",
       "      <th>mean</th>\n",
       "      <td>0.218709</td>\n",
       "      <td>0.753839</td>\n",
       "      <td>0.490021</td>\n",
       "      <td>0.136730</td>\n",
       "      <td>0.713503</td>\n",
       "      <td>0.225937</td>\n",
       "      <td>0.426765</td>\n",
       "      <td>0.011775</td>\n",
       "      <td>0.147804</td>\n",
       "      <td>0.173389</td>\n",
       "      <td>0.011663</td>\n",
       "      <td>0.002667</td>\n",
       "      <td>2.648380</td>\n",
       "      <td>2.976645</td>\n",
       "      <td>2.509633</td>\n",
       "      <td>1.994063</td>\n",
       "      <td>2.995116</td>\n",
       "    </tr>\n",
       "    <tr>\n",
       "      <th>std</th>\n",
       "      <td>0.413373</td>\n",
       "      <td>0.430777</td>\n",
       "      <td>0.499904</td>\n",
       "      <td>0.343564</td>\n",
       "      <td>0.188389</td>\n",
       "      <td>0.418201</td>\n",
       "      <td>0.494611</td>\n",
       "      <td>0.107875</td>\n",
       "      <td>0.354908</td>\n",
       "      <td>0.378586</td>\n",
       "      <td>0.107365</td>\n",
       "      <td>0.051571</td>\n",
       "      <td>0.902626</td>\n",
       "      <td>0.869921</td>\n",
       "      <td>0.638444</td>\n",
       "      <td>0.815440</td>\n",
       "      <td>1.411225</td>\n",
       "    </tr>\n",
       "    <tr>\n",
       "      <th>min</th>\n",
       "      <td>0.000000</td>\n",
       "      <td>0.000000</td>\n",
       "      <td>0.000000</td>\n",
       "      <td>0.000000</td>\n",
       "      <td>0.136000</td>\n",
       "      <td>0.000000</td>\n",
       "      <td>0.000000</td>\n",
       "      <td>0.000000</td>\n",
       "      <td>0.000000</td>\n",
       "      <td>0.000000</td>\n",
       "      <td>0.000000</td>\n",
       "      <td>0.000000</td>\n",
       "      <td>1.000000</td>\n",
       "      <td>1.054795</td>\n",
       "      <td>1.200000</td>\n",
       "      <td>1.000000</td>\n",
       "      <td>1.000000</td>\n",
       "    </tr>\n",
       "    <tr>\n",
       "      <th>25%</th>\n",
       "      <td>0.000000</td>\n",
       "      <td>1.000000</td>\n",
       "      <td>0.000000</td>\n",
       "      <td>0.000000</td>\n",
       "      <td>0.600000</td>\n",
       "      <td>0.000000</td>\n",
       "      <td>0.000000</td>\n",
       "      <td>0.000000</td>\n",
       "      <td>0.000000</td>\n",
       "      <td>0.000000</td>\n",
       "      <td>0.000000</td>\n",
       "      <td>0.000000</td>\n",
       "      <td>1.893333</td>\n",
       "      <td>2.125000</td>\n",
       "      <td>1.970000</td>\n",
       "      <td>1.000000</td>\n",
       "      <td>2.000000</td>\n",
       "    </tr>\n",
       "    <tr>\n",
       "      <th>50%</th>\n",
       "      <td>0.000000</td>\n",
       "      <td>1.000000</td>\n",
       "      <td>0.000000</td>\n",
       "      <td>0.000000</td>\n",
       "      <td>0.755000</td>\n",
       "      <td>0.000000</td>\n",
       "      <td>0.000000</td>\n",
       "      <td>0.000000</td>\n",
       "      <td>0.000000</td>\n",
       "      <td>0.000000</td>\n",
       "      <td>0.000000</td>\n",
       "      <td>0.000000</td>\n",
       "      <td>2.384615</td>\n",
       "      <td>3.000000</td>\n",
       "      <td>2.470000</td>\n",
       "      <td>2.000000</td>\n",
       "      <td>3.000000</td>\n",
       "    </tr>\n",
       "    <tr>\n",
       "      <th>75%</th>\n",
       "      <td>0.000000</td>\n",
       "      <td>1.000000</td>\n",
       "      <td>1.000000</td>\n",
       "      <td>0.000000</td>\n",
       "      <td>0.869000</td>\n",
       "      <td>0.000000</td>\n",
       "      <td>1.000000</td>\n",
       "      <td>0.000000</td>\n",
       "      <td>0.000000</td>\n",
       "      <td>0.000000</td>\n",
       "      <td>0.000000</td>\n",
       "      <td>0.000000</td>\n",
       "      <td>3.416667</td>\n",
       "      <td>3.875000</td>\n",
       "      <td>2.970000</td>\n",
       "      <td>3.000000</td>\n",
       "      <td>4.000000</td>\n",
       "    </tr>\n",
       "    <tr>\n",
       "      <th>max</th>\n",
       "      <td>1.000000</td>\n",
       "      <td>1.000000</td>\n",
       "      <td>1.000000</td>\n",
       "      <td>1.000000</td>\n",
       "      <td>0.950000</td>\n",
       "      <td>1.000000</td>\n",
       "      <td>1.000000</td>\n",
       "      <td>1.000000</td>\n",
       "      <td>1.000000</td>\n",
       "      <td>1.000000</td>\n",
       "      <td>1.000000</td>\n",
       "      <td>1.000000</td>\n",
       "      <td>4.500000</td>\n",
       "      <td>4.500000</td>\n",
       "      <td>4.000000</td>\n",
       "      <td>3.000000</td>\n",
       "      <td>5.000000</td>\n",
       "    </tr>\n",
       "  </tbody>\n",
       "</table>\n",
       "</div>"
      ],
      "text/plain": [
       "                swd       poverty           sex           ell           ENI  \\\n",
       "count  71250.000000  71250.000000  71250.000000  71250.000000  71250.000000   \n",
       "mean       0.218709      0.753839      0.490021      0.136730      0.713503   \n",
       "std        0.413373      0.430777      0.499904      0.343564      0.188389   \n",
       "min        0.000000      0.000000      0.000000      0.000000      0.136000   \n",
       "25%        0.000000      1.000000      0.000000      0.000000      0.600000   \n",
       "50%        0.000000      1.000000      0.000000      0.000000      0.755000   \n",
       "75%        0.000000      1.000000      1.000000      0.000000      0.869000   \n",
       "max        1.000000      1.000000      1.000000      1.000000      0.950000   \n",
       "\n",
       "              Black      Hispanic  Multi-Racial         White         Asian  \\\n",
       "count  71250.000000  71250.000000  71250.000000  71250.000000  71250.000000   \n",
       "mean       0.225937      0.426765      0.011775      0.147804      0.173389   \n",
       "std        0.418201      0.494611      0.107875      0.354908      0.378586   \n",
       "min        0.000000      0.000000      0.000000      0.000000      0.000000   \n",
       "25%        0.000000      0.000000      0.000000      0.000000      0.000000   \n",
       "50%        0.000000      0.000000      0.000000      0.000000      0.000000   \n",
       "75%        0.000000      1.000000      0.000000      0.000000      0.000000   \n",
       "max        1.000000      1.000000      1.000000      1.000000      1.000000   \n",
       "\n",
       "       Native American  Missing Race/Ethnicity Data    Math_score  \\\n",
       "count     71250.000000                 71250.000000  71250.000000   \n",
       "mean          0.011663                     0.002667      2.648380   \n",
       "std           0.107365                     0.051571      0.902626   \n",
       "min           0.000000                     0.000000      1.000000   \n",
       "25%           0.000000                     0.000000      1.893333   \n",
       "50%           0.000000                     0.000000      2.384615   \n",
       "75%           0.000000                     0.000000      3.416667   \n",
       "max           1.000000                     1.000000      4.500000   \n",
       "\n",
       "          ELA_score      fake_gpa          seat        screen  \n",
       "count  71250.000000  71250.000000  71250.000000  71250.000000  \n",
       "mean       2.976645      2.509633      1.994063      2.995116  \n",
       "std        0.869921      0.638444      0.815440      1.411225  \n",
       "min        1.054795      1.200000      1.000000      1.000000  \n",
       "25%        2.125000      1.970000      1.000000      2.000000  \n",
       "50%        3.000000      2.470000      2.000000      3.000000  \n",
       "75%        3.875000      2.970000      3.000000      4.000000  \n",
       "max        4.500000      4.000000      3.000000      5.000000  "
      ]
     },
     "execution_count": 85,
     "metadata": {},
     "output_type": "execute_result"
    }
   ],
   "source": [
    "student_df.describe()"
   ]
  },
  {
   "cell_type": "code",
   "execution_count": 8,
   "id": "235e79d0",
   "metadata": {},
   "outputs": [
    {
     "data": {
      "text/html": [
       "<div>\n",
       "<style scoped>\n",
       "    .dataframe tbody tr th:only-of-type {\n",
       "        vertical-align: middle;\n",
       "    }\n",
       "\n",
       "    .dataframe tbody tr th {\n",
       "        vertical-align: top;\n",
       "    }\n",
       "\n",
       "    .dataframe thead th {\n",
       "        text-align: right;\n",
       "    }\n",
       "</style>\n",
       "<table border=\"1\" class=\"dataframe\">\n",
       "  <thead>\n",
       "    <tr style=\"text-align: right;\">\n",
       "      <th></th>\n",
       "      <th>Student_Id</th>\n",
       "      <th>School</th>\n",
       "      <th>Rank</th>\n",
       "      <th>Rating</th>\n",
       "    </tr>\n",
       "  </thead>\n",
       "  <tbody>\n",
       "    <tr>\n",
       "      <th>0</th>\n",
       "      <td>student_68963</td>\n",
       "      <td>02M411</td>\n",
       "      <td>0</td>\n",
       "      <td>1.000000</td>\n",
       "    </tr>\n",
       "    <tr>\n",
       "      <th>1</th>\n",
       "      <td>student_68963</td>\n",
       "      <td>02M376</td>\n",
       "      <td>1</td>\n",
       "      <td>0.500000</td>\n",
       "    </tr>\n",
       "    <tr>\n",
       "      <th>2</th>\n",
       "      <td>student_68963</td>\n",
       "      <td>02M316</td>\n",
       "      <td>2</td>\n",
       "      <td>0.333333</td>\n",
       "    </tr>\n",
       "    <tr>\n",
       "      <th>3</th>\n",
       "      <td>student_68963</td>\n",
       "      <td>02M438</td>\n",
       "      <td>3</td>\n",
       "      <td>0.250000</td>\n",
       "    </tr>\n",
       "    <tr>\n",
       "      <th>4</th>\n",
       "      <td>student_68963</td>\n",
       "      <td>01M448</td>\n",
       "      <td>4</td>\n",
       "      <td>0.200000</td>\n",
       "    </tr>\n",
       "    <tr>\n",
       "      <th>...</th>\n",
       "      <td>...</td>\n",
       "      <td>...</td>\n",
       "      <td>...</td>\n",
       "      <td>...</td>\n",
       "    </tr>\n",
       "    <tr>\n",
       "      <th>492363</th>\n",
       "      <td>student_36332</td>\n",
       "      <td>02M414</td>\n",
       "      <td>2</td>\n",
       "      <td>0.333333</td>\n",
       "    </tr>\n",
       "    <tr>\n",
       "      <th>492364</th>\n",
       "      <td>student_36332</td>\n",
       "      <td>20K490</td>\n",
       "      <td>3</td>\n",
       "      <td>0.250000</td>\n",
       "    </tr>\n",
       "    <tr>\n",
       "      <th>492365</th>\n",
       "      <td>student_36332</td>\n",
       "      <td>18K637</td>\n",
       "      <td>4</td>\n",
       "      <td>0.200000</td>\n",
       "    </tr>\n",
       "    <tr>\n",
       "      <th>492366</th>\n",
       "      <td>student_36332</td>\n",
       "      <td>28Q686</td>\n",
       "      <td>5</td>\n",
       "      <td>0.166667</td>\n",
       "    </tr>\n",
       "    <tr>\n",
       "      <th>492367</th>\n",
       "      <td>student_36332</td>\n",
       "      <td>24Q585</td>\n",
       "      <td>6</td>\n",
       "      <td>0.142857</td>\n",
       "    </tr>\n",
       "  </tbody>\n",
       "</table>\n",
       "<p>492368 rows × 4 columns</p>\n",
       "</div>"
      ],
      "text/plain": [
       "           Student_Id  School  Rank    Rating\n",
       "0       student_68963  02M411     0  1.000000\n",
       "1       student_68963  02M376     1  0.500000\n",
       "2       student_68963  02M316     2  0.333333\n",
       "3       student_68963  02M438     3  0.250000\n",
       "4       student_68963  01M448     4  0.200000\n",
       "...               ...     ...   ...       ...\n",
       "492363  student_36332  02M414     2  0.333333\n",
       "492364  student_36332  20K490     3  0.250000\n",
       "492365  student_36332  18K637     4  0.200000\n",
       "492366  student_36332  28Q686     5  0.166667\n",
       "492367  student_36332  24Q585     6  0.142857\n",
       "\n",
       "[492368 rows x 4 columns]"
      ]
     },
     "execution_count": 8,
     "metadata": {},
     "output_type": "execute_result"
    }
   ],
   "source": [
    "ranking_df = pd.read_csv(cwd + \"/Data/student_prefs.csv\")\n",
    "ranking_df"
   ]
  },
  {
   "cell_type": "code",
   "execution_count": 13,
   "id": "b355349b",
   "metadata": {},
   "outputs": [
    {
     "data": {
      "text/html": [
       "<div>\n",
       "<style scoped>\n",
       "    .dataframe tbody tr th:only-of-type {\n",
       "        vertical-align: middle;\n",
       "    }\n",
       "\n",
       "    .dataframe tbody tr th {\n",
       "        vertical-align: top;\n",
       "    }\n",
       "\n",
       "    .dataframe thead th {\n",
       "        text-align: right;\n",
       "    }\n",
       "</style>\n",
       "<table border=\"1\" class=\"dataframe\">\n",
       "  <thead>\n",
       "    <tr style=\"text-align: right;\">\n",
       "      <th></th>\n",
       "      <th>0</th>\n",
       "      <th>1</th>\n",
       "    </tr>\n",
       "  </thead>\n",
       "  <tbody>\n",
       "    <tr>\n",
       "      <th>0</th>\n",
       "      <td>1</td>\n",
       "      <td>861</td>\n",
       "    </tr>\n",
       "    <tr>\n",
       "      <th>1</th>\n",
       "      <td>2</td>\n",
       "      <td>1473</td>\n",
       "    </tr>\n",
       "    <tr>\n",
       "      <th>2</th>\n",
       "      <td>3</td>\n",
       "      <td>3023</td>\n",
       "    </tr>\n",
       "    <tr>\n",
       "      <th>3</th>\n",
       "      <td>4</td>\n",
       "      <td>4859</td>\n",
       "    </tr>\n",
       "    <tr>\n",
       "      <th>4</th>\n",
       "      <td>5</td>\n",
       "      <td>7525</td>\n",
       "    </tr>\n",
       "    <tr>\n",
       "      <th>5</th>\n",
       "      <td>6</td>\n",
       "      <td>10329</td>\n",
       "    </tr>\n",
       "    <tr>\n",
       "      <th>6</th>\n",
       "      <td>7</td>\n",
       "      <td>12771</td>\n",
       "    </tr>\n",
       "    <tr>\n",
       "      <th>7</th>\n",
       "      <td>8</td>\n",
       "      <td>12974</td>\n",
       "    </tr>\n",
       "    <tr>\n",
       "      <th>8</th>\n",
       "      <td>9</td>\n",
       "      <td>9938</td>\n",
       "    </tr>\n",
       "    <tr>\n",
       "      <th>9</th>\n",
       "      <td>10</td>\n",
       "      <td>5159</td>\n",
       "    </tr>\n",
       "    <tr>\n",
       "      <th>10</th>\n",
       "      <td>11</td>\n",
       "      <td>1820</td>\n",
       "    </tr>\n",
       "    <tr>\n",
       "      <th>11</th>\n",
       "      <td>12</td>\n",
       "      <td>518</td>\n",
       "    </tr>\n",
       "  </tbody>\n",
       "</table>\n",
       "</div>"
      ],
      "text/plain": [
       "     0      1\n",
       "0    1    861\n",
       "1    2   1473\n",
       "2    3   3023\n",
       "3    4   4859\n",
       "4    5   7525\n",
       "5    6  10329\n",
       "6    7  12771\n",
       "7    8  12974\n",
       "8    9   9938\n",
       "9   10   5159\n",
       "10  11   1820\n",
       "11  12    518"
      ]
     },
     "execution_count": 13,
     "metadata": {},
     "output_type": "execute_result"
    }
   ],
   "source": [
    "student_counter = dict([[sid, 0] for sid in ranking_df[\"Student_Id\"].unique()])  # get number of ranked schools for each student\n",
    "for i, row in ranking_df.iterrows():\n",
    "    student_counter[row[\"Student_Id\"]] += 1\n",
    "\n",
    "num_rank_student = pd.DataFrame(student_counter.items())\n",
    "\n",
    "buckets = dict([[place+1, 0] for place in range(12)])  # get the number of students with rank x\n",
    "for sid, count in student_counter.items():\n",
    "    buckets[count] += 1\n",
    "    \n",
    "num_rank = pd.DataFrame(buckets.items())\n",
    "num_rank"
   ]
  },
  {
   "cell_type": "code",
   "execution_count": 14,
   "id": "a4450e60",
   "metadata": {},
   "outputs": [
    {
     "data": {
      "application/vnd.plotly.v1+json": {
       "config": {
        "plotlyServerURL": "https://plot.ly"
       },
       "data": [
        {
         "alignmentgroup": "True",
         "hovertemplate": "variable=0<br>index=%{x}<br>value=%{y}<extra></extra>",
         "legendgroup": "0",
         "marker": {
          "color": "#636efa",
          "pattern": {
           "shape": ""
          }
         },
         "name": "0",
         "offsetgroup": "0",
         "orientation": "v",
         "showlegend": true,
         "textposition": "auto",
         "type": "bar",
         "x": [
          0,
          1,
          2,
          3,
          4,
          5,
          6,
          7,
          8,
          9,
          10,
          11
         ],
         "xaxis": "x",
         "y": [
          1,
          2,
          3,
          4,
          5,
          6,
          7,
          8,
          9,
          10,
          11,
          12
         ],
         "yaxis": "y"
        },
        {
         "alignmentgroup": "True",
         "hovertemplate": "variable=1<br>index=%{x}<br>value=%{y}<extra></extra>",
         "legendgroup": "1",
         "marker": {
          "color": "#EF553B",
          "pattern": {
           "shape": ""
          }
         },
         "name": "1",
         "offsetgroup": "1",
         "orientation": "v",
         "showlegend": true,
         "textposition": "auto",
         "type": "bar",
         "x": [
          0,
          1,
          2,
          3,
          4,
          5,
          6,
          7,
          8,
          9,
          10,
          11
         ],
         "xaxis": "x",
         "y": [
          861,
          1473,
          3023,
          4859,
          7525,
          10329,
          12771,
          12974,
          9938,
          5159,
          1820,
          518
         ],
         "yaxis": "y"
        }
       ],
       "layout": {
        "barmode": "relative",
        "legend": {
         "title": {
          "text": "variable"
         },
         "tracegroupgap": 0
        },
        "margin": {
         "t": 60
        },
        "template": {
         "data": {
          "bar": [
           {
            "error_x": {
             "color": "#2a3f5f"
            },
            "error_y": {
             "color": "#2a3f5f"
            },
            "marker": {
             "line": {
              "color": "#E5ECF6",
              "width": 0.5
             },
             "pattern": {
              "fillmode": "overlay",
              "size": 10,
              "solidity": 0.2
             }
            },
            "type": "bar"
           }
          ],
          "barpolar": [
           {
            "marker": {
             "line": {
              "color": "#E5ECF6",
              "width": 0.5
             },
             "pattern": {
              "fillmode": "overlay",
              "size": 10,
              "solidity": 0.2
             }
            },
            "type": "barpolar"
           }
          ],
          "carpet": [
           {
            "aaxis": {
             "endlinecolor": "#2a3f5f",
             "gridcolor": "white",
             "linecolor": "white",
             "minorgridcolor": "white",
             "startlinecolor": "#2a3f5f"
            },
            "baxis": {
             "endlinecolor": "#2a3f5f",
             "gridcolor": "white",
             "linecolor": "white",
             "minorgridcolor": "white",
             "startlinecolor": "#2a3f5f"
            },
            "type": "carpet"
           }
          ],
          "choropleth": [
           {
            "colorbar": {
             "outlinewidth": 0,
             "ticks": ""
            },
            "type": "choropleth"
           }
          ],
          "contour": [
           {
            "colorbar": {
             "outlinewidth": 0,
             "ticks": ""
            },
            "colorscale": [
             [
              0,
              "#0d0887"
             ],
             [
              0.1111111111111111,
              "#46039f"
             ],
             [
              0.2222222222222222,
              "#7201a8"
             ],
             [
              0.3333333333333333,
              "#9c179e"
             ],
             [
              0.4444444444444444,
              "#bd3786"
             ],
             [
              0.5555555555555556,
              "#d8576b"
             ],
             [
              0.6666666666666666,
              "#ed7953"
             ],
             [
              0.7777777777777778,
              "#fb9f3a"
             ],
             [
              0.8888888888888888,
              "#fdca26"
             ],
             [
              1,
              "#f0f921"
             ]
            ],
            "type": "contour"
           }
          ],
          "contourcarpet": [
           {
            "colorbar": {
             "outlinewidth": 0,
             "ticks": ""
            },
            "type": "contourcarpet"
           }
          ],
          "heatmap": [
           {
            "colorbar": {
             "outlinewidth": 0,
             "ticks": ""
            },
            "colorscale": [
             [
              0,
              "#0d0887"
             ],
             [
              0.1111111111111111,
              "#46039f"
             ],
             [
              0.2222222222222222,
              "#7201a8"
             ],
             [
              0.3333333333333333,
              "#9c179e"
             ],
             [
              0.4444444444444444,
              "#bd3786"
             ],
             [
              0.5555555555555556,
              "#d8576b"
             ],
             [
              0.6666666666666666,
              "#ed7953"
             ],
             [
              0.7777777777777778,
              "#fb9f3a"
             ],
             [
              0.8888888888888888,
              "#fdca26"
             ],
             [
              1,
              "#f0f921"
             ]
            ],
            "type": "heatmap"
           }
          ],
          "heatmapgl": [
           {
            "colorbar": {
             "outlinewidth": 0,
             "ticks": ""
            },
            "colorscale": [
             [
              0,
              "#0d0887"
             ],
             [
              0.1111111111111111,
              "#46039f"
             ],
             [
              0.2222222222222222,
              "#7201a8"
             ],
             [
              0.3333333333333333,
              "#9c179e"
             ],
             [
              0.4444444444444444,
              "#bd3786"
             ],
             [
              0.5555555555555556,
              "#d8576b"
             ],
             [
              0.6666666666666666,
              "#ed7953"
             ],
             [
              0.7777777777777778,
              "#fb9f3a"
             ],
             [
              0.8888888888888888,
              "#fdca26"
             ],
             [
              1,
              "#f0f921"
             ]
            ],
            "type": "heatmapgl"
           }
          ],
          "histogram": [
           {
            "marker": {
             "pattern": {
              "fillmode": "overlay",
              "size": 10,
              "solidity": 0.2
             }
            },
            "type": "histogram"
           }
          ],
          "histogram2d": [
           {
            "colorbar": {
             "outlinewidth": 0,
             "ticks": ""
            },
            "colorscale": [
             [
              0,
              "#0d0887"
             ],
             [
              0.1111111111111111,
              "#46039f"
             ],
             [
              0.2222222222222222,
              "#7201a8"
             ],
             [
              0.3333333333333333,
              "#9c179e"
             ],
             [
              0.4444444444444444,
              "#bd3786"
             ],
             [
              0.5555555555555556,
              "#d8576b"
             ],
             [
              0.6666666666666666,
              "#ed7953"
             ],
             [
              0.7777777777777778,
              "#fb9f3a"
             ],
             [
              0.8888888888888888,
              "#fdca26"
             ],
             [
              1,
              "#f0f921"
             ]
            ],
            "type": "histogram2d"
           }
          ],
          "histogram2dcontour": [
           {
            "colorbar": {
             "outlinewidth": 0,
             "ticks": ""
            },
            "colorscale": [
             [
              0,
              "#0d0887"
             ],
             [
              0.1111111111111111,
              "#46039f"
             ],
             [
              0.2222222222222222,
              "#7201a8"
             ],
             [
              0.3333333333333333,
              "#9c179e"
             ],
             [
              0.4444444444444444,
              "#bd3786"
             ],
             [
              0.5555555555555556,
              "#d8576b"
             ],
             [
              0.6666666666666666,
              "#ed7953"
             ],
             [
              0.7777777777777778,
              "#fb9f3a"
             ],
             [
              0.8888888888888888,
              "#fdca26"
             ],
             [
              1,
              "#f0f921"
             ]
            ],
            "type": "histogram2dcontour"
           }
          ],
          "mesh3d": [
           {
            "colorbar": {
             "outlinewidth": 0,
             "ticks": ""
            },
            "type": "mesh3d"
           }
          ],
          "parcoords": [
           {
            "line": {
             "colorbar": {
              "outlinewidth": 0,
              "ticks": ""
             }
            },
            "type": "parcoords"
           }
          ],
          "pie": [
           {
            "automargin": true,
            "type": "pie"
           }
          ],
          "scatter": [
           {
            "marker": {
             "colorbar": {
              "outlinewidth": 0,
              "ticks": ""
             }
            },
            "type": "scatter"
           }
          ],
          "scatter3d": [
           {
            "line": {
             "colorbar": {
              "outlinewidth": 0,
              "ticks": ""
             }
            },
            "marker": {
             "colorbar": {
              "outlinewidth": 0,
              "ticks": ""
             }
            },
            "type": "scatter3d"
           }
          ],
          "scattercarpet": [
           {
            "marker": {
             "colorbar": {
              "outlinewidth": 0,
              "ticks": ""
             }
            },
            "type": "scattercarpet"
           }
          ],
          "scattergeo": [
           {
            "marker": {
             "colorbar": {
              "outlinewidth": 0,
              "ticks": ""
             }
            },
            "type": "scattergeo"
           }
          ],
          "scattergl": [
           {
            "marker": {
             "colorbar": {
              "outlinewidth": 0,
              "ticks": ""
             }
            },
            "type": "scattergl"
           }
          ],
          "scattermapbox": [
           {
            "marker": {
             "colorbar": {
              "outlinewidth": 0,
              "ticks": ""
             }
            },
            "type": "scattermapbox"
           }
          ],
          "scatterpolar": [
           {
            "marker": {
             "colorbar": {
              "outlinewidth": 0,
              "ticks": ""
             }
            },
            "type": "scatterpolar"
           }
          ],
          "scatterpolargl": [
           {
            "marker": {
             "colorbar": {
              "outlinewidth": 0,
              "ticks": ""
             }
            },
            "type": "scatterpolargl"
           }
          ],
          "scatterternary": [
           {
            "marker": {
             "colorbar": {
              "outlinewidth": 0,
              "ticks": ""
             }
            },
            "type": "scatterternary"
           }
          ],
          "surface": [
           {
            "colorbar": {
             "outlinewidth": 0,
             "ticks": ""
            },
            "colorscale": [
             [
              0,
              "#0d0887"
             ],
             [
              0.1111111111111111,
              "#46039f"
             ],
             [
              0.2222222222222222,
              "#7201a8"
             ],
             [
              0.3333333333333333,
              "#9c179e"
             ],
             [
              0.4444444444444444,
              "#bd3786"
             ],
             [
              0.5555555555555556,
              "#d8576b"
             ],
             [
              0.6666666666666666,
              "#ed7953"
             ],
             [
              0.7777777777777778,
              "#fb9f3a"
             ],
             [
              0.8888888888888888,
              "#fdca26"
             ],
             [
              1,
              "#f0f921"
             ]
            ],
            "type": "surface"
           }
          ],
          "table": [
           {
            "cells": {
             "fill": {
              "color": "#EBF0F8"
             },
             "line": {
              "color": "white"
             }
            },
            "header": {
             "fill": {
              "color": "#C8D4E3"
             },
             "line": {
              "color": "white"
             }
            },
            "type": "table"
           }
          ]
         },
         "layout": {
          "annotationdefaults": {
           "arrowcolor": "#2a3f5f",
           "arrowhead": 0,
           "arrowwidth": 1
          },
          "autotypenumbers": "strict",
          "coloraxis": {
           "colorbar": {
            "outlinewidth": 0,
            "ticks": ""
           }
          },
          "colorscale": {
           "diverging": [
            [
             0,
             "#8e0152"
            ],
            [
             0.1,
             "#c51b7d"
            ],
            [
             0.2,
             "#de77ae"
            ],
            [
             0.3,
             "#f1b6da"
            ],
            [
             0.4,
             "#fde0ef"
            ],
            [
             0.5,
             "#f7f7f7"
            ],
            [
             0.6,
             "#e6f5d0"
            ],
            [
             0.7,
             "#b8e186"
            ],
            [
             0.8,
             "#7fbc41"
            ],
            [
             0.9,
             "#4d9221"
            ],
            [
             1,
             "#276419"
            ]
           ],
           "sequential": [
            [
             0,
             "#0d0887"
            ],
            [
             0.1111111111111111,
             "#46039f"
            ],
            [
             0.2222222222222222,
             "#7201a8"
            ],
            [
             0.3333333333333333,
             "#9c179e"
            ],
            [
             0.4444444444444444,
             "#bd3786"
            ],
            [
             0.5555555555555556,
             "#d8576b"
            ],
            [
             0.6666666666666666,
             "#ed7953"
            ],
            [
             0.7777777777777778,
             "#fb9f3a"
            ],
            [
             0.8888888888888888,
             "#fdca26"
            ],
            [
             1,
             "#f0f921"
            ]
           ],
           "sequentialminus": [
            [
             0,
             "#0d0887"
            ],
            [
             0.1111111111111111,
             "#46039f"
            ],
            [
             0.2222222222222222,
             "#7201a8"
            ],
            [
             0.3333333333333333,
             "#9c179e"
            ],
            [
             0.4444444444444444,
             "#bd3786"
            ],
            [
             0.5555555555555556,
             "#d8576b"
            ],
            [
             0.6666666666666666,
             "#ed7953"
            ],
            [
             0.7777777777777778,
             "#fb9f3a"
            ],
            [
             0.8888888888888888,
             "#fdca26"
            ],
            [
             1,
             "#f0f921"
            ]
           ]
          },
          "colorway": [
           "#636efa",
           "#EF553B",
           "#00cc96",
           "#ab63fa",
           "#FFA15A",
           "#19d3f3",
           "#FF6692",
           "#B6E880",
           "#FF97FF",
           "#FECB52"
          ],
          "font": {
           "color": "#2a3f5f"
          },
          "geo": {
           "bgcolor": "white",
           "lakecolor": "white",
           "landcolor": "#E5ECF6",
           "showlakes": true,
           "showland": true,
           "subunitcolor": "white"
          },
          "hoverlabel": {
           "align": "left"
          },
          "hovermode": "closest",
          "mapbox": {
           "style": "light"
          },
          "paper_bgcolor": "white",
          "plot_bgcolor": "#E5ECF6",
          "polar": {
           "angularaxis": {
            "gridcolor": "white",
            "linecolor": "white",
            "ticks": ""
           },
           "bgcolor": "#E5ECF6",
           "radialaxis": {
            "gridcolor": "white",
            "linecolor": "white",
            "ticks": ""
           }
          },
          "scene": {
           "xaxis": {
            "backgroundcolor": "#E5ECF6",
            "gridcolor": "white",
            "gridwidth": 2,
            "linecolor": "white",
            "showbackground": true,
            "ticks": "",
            "zerolinecolor": "white"
           },
           "yaxis": {
            "backgroundcolor": "#E5ECF6",
            "gridcolor": "white",
            "gridwidth": 2,
            "linecolor": "white",
            "showbackground": true,
            "ticks": "",
            "zerolinecolor": "white"
           },
           "zaxis": {
            "backgroundcolor": "#E5ECF6",
            "gridcolor": "white",
            "gridwidth": 2,
            "linecolor": "white",
            "showbackground": true,
            "ticks": "",
            "zerolinecolor": "white"
           }
          },
          "shapedefaults": {
           "line": {
            "color": "#2a3f5f"
           }
          },
          "ternary": {
           "aaxis": {
            "gridcolor": "white",
            "linecolor": "white",
            "ticks": ""
           },
           "baxis": {
            "gridcolor": "white",
            "linecolor": "white",
            "ticks": ""
           },
           "bgcolor": "#E5ECF6",
           "caxis": {
            "gridcolor": "white",
            "linecolor": "white",
            "ticks": ""
           }
          },
          "title": {
           "x": 0.05
          },
          "xaxis": {
           "automargin": true,
           "gridcolor": "white",
           "linecolor": "white",
           "ticks": "",
           "title": {
            "standoff": 15
           },
           "zerolinecolor": "white",
           "zerolinewidth": 2
          },
          "yaxis": {
           "automargin": true,
           "gridcolor": "white",
           "linecolor": "white",
           "ticks": "",
           "title": {
            "standoff": 15
           },
           "zerolinecolor": "white",
           "zerolinewidth": 2
          }
         }
        },
        "xaxis": {
         "anchor": "y",
         "domain": [
          0,
          1
         ],
         "title": {
          "text": "index"
         }
        },
        "yaxis": {
         "anchor": "x",
         "domain": [
          0,
          1
         ],
         "title": {
          "text": "value"
         }
        }
       }
      }
     },
     "metadata": {},
     "output_type": "display_data"
    }
   ],
   "source": [
    "import plotly.express as px\n",
    "fig = px.bar(num_rank)\n",
    "fig.show()"
   ]
  },
  {
   "cell_type": "markdown",
   "id": "42f11ec3",
   "metadata": {},
   "source": [
    "## Task 2) Generate & Export Student Preferences\n",
    "> Note: decide how many schools each student should rank and which preference\n",
    "\n",
    "- Case 1: full random with no weight\n",
    "- *Case 2: full random, ordered by popularity buckets\n",
    "- Case 3: popularity_bucket-weighted randomness\n",
    "- *Case 4: popularity_bucket-weighted randomness, ordered by popularity buckets"
   ]
  },
  {
   "cell_type": "code",
   "execution_count": 61,
   "id": "b92ef0f5",
   "metadata": {},
   "outputs": [
    {
     "data": {
      "text/html": [
       "<div>\n",
       "<style scoped>\n",
       "    .dataframe tbody tr th:only-of-type {\n",
       "        vertical-align: middle;\n",
       "    }\n",
       "\n",
       "    .dataframe tbody tr th {\n",
       "        vertical-align: top;\n",
       "    }\n",
       "\n",
       "    .dataframe thead th {\n",
       "        text-align: right;\n",
       "    }\n",
       "</style>\n",
       "<table border=\"1\" class=\"dataframe\">\n",
       "  <thead>\n",
       "    <tr style=\"text-align: right;\">\n",
       "      <th></th>\n",
       "      <th>0</th>\n",
       "    </tr>\n",
       "  </thead>\n",
       "  <tbody>\n",
       "    <tr>\n",
       "      <th>count</th>\n",
       "      <td>71250.0</td>\n",
       "    </tr>\n",
       "    <tr>\n",
       "      <th>mean</th>\n",
       "      <td>12.0</td>\n",
       "    </tr>\n",
       "    <tr>\n",
       "      <th>std</th>\n",
       "      <td>0.0</td>\n",
       "    </tr>\n",
       "    <tr>\n",
       "      <th>min</th>\n",
       "      <td>12.0</td>\n",
       "    </tr>\n",
       "    <tr>\n",
       "      <th>25%</th>\n",
       "      <td>12.0</td>\n",
       "    </tr>\n",
       "    <tr>\n",
       "      <th>50%</th>\n",
       "      <td>12.0</td>\n",
       "    </tr>\n",
       "    <tr>\n",
       "      <th>75%</th>\n",
       "      <td>12.0</td>\n",
       "    </tr>\n",
       "    <tr>\n",
       "      <th>max</th>\n",
       "      <td>12.0</td>\n",
       "    </tr>\n",
       "  </tbody>\n",
       "</table>\n",
       "</div>"
      ],
      "text/plain": [
       "             0\n",
       "count  71250.0\n",
       "mean      12.0\n",
       "std        0.0\n",
       "min       12.0\n",
       "25%       12.0\n",
       "50%       12.0\n",
       "75%       12.0\n",
       "max       12.0"
      ]
     },
     "execution_count": 61,
     "metadata": {},
     "output_type": "execute_result"
    }
   ],
   "source": [
    "student_ids = list(ranking_df[\"Student_Id\"].unique())  # get student ids\n",
    "if testing:  # subset of data for testing\n",
    "    student_ids = student_ids[:200]\n",
    "\n",
    "# GET NUMBER OF SCHOOLS RANKED PER STUDENTS\n",
    "full_list = True  # **students rank 12 schools, ELSE students rank schools based on real-world distribution\n",
    "student_school_counts = {}  # student_id: #schools to choose\n",
    "max_num_schools = 12  # maximum number of rankings a student can have\n",
    "if full_list:\n",
    "    student_school_counts = dict([[sid, max_num_schools] for sid in student_ids])\n",
    "else:\n",
    "    student_school_counts = dict([[sid, 0] for sid in student_ids])\n",
    "    for i, row in tqdm(ranking_df.iterrows()):  # for each ranking, add 1 to student\n",
    "        assert row[\"Student_Id\"] in student_school_counts, row[\"Student_Id\"]\n",
    "        student_school_counts[row[\"Student_Id\"]] += 1\n",
    "\n",
    "# show descriptive stats (sanity check)\n",
    "pd.DataFrame(student_school_counts.values()).describe()"
   ]
  },
  {
   "cell_type": "code",
   "execution_count": 62,
   "id": "127c479c",
   "metadata": {
    "scrolled": true
   },
   "outputs": [
    {
     "name": "stderr",
     "output_type": "stream",
     "text": [
      "100%|███████████████████████████████████████| 71250/71250 [00:06<00:00, 11153.44it/s]"
     ]
    },
    {
     "name": "stdout",
     "output_type": "stream",
     "text": [
      "\n",
      "Example Student Ranking\n",
      " ['27Q309', '27Q475', '02M416', '29Q272', '05M670', '17K543', '10X442', '14K610', '11X275', '12X251', '06M348', '23K697']\n"
     ]
    },
    {
     "name": "stderr",
     "output_type": "stream",
     "text": [
      "\n"
     ]
    }
   ],
   "source": [
    "school_ids = list(ranking_df[\"School\"].unique())\n",
    "\n",
    "# MAKING STUDENT_RANKINGS STRUCTURE\n",
    "unknown_val = \"nan\"  # placeholder for no rankings\n",
    "student_rankings = dict([ [sid, [unknown_val for i in range(max_num_schools)]] for sid in student_ids])  # initializing dict\n",
    "\n",
    "for sid in tqdm(student_rankings.keys()):\n",
    "    # CASE 1: RANDOM IMPLEMENTATION\n",
    "    student_rankings[sid] = np.random.choice(school_ids, size=student_school_counts[sid], replace=False).tolist()\n",
    "print(\"\\nExample Student Ranking\\n\", student_rankings[np.random.choice(student_ids)])"
   ]
  },
  {
   "cell_type": "code",
   "execution_count": 63,
   "id": "42459346",
   "metadata": {},
   "outputs": [
    {
     "name": "stdout",
     "output_type": "stream",
     "text": [
      "Current average number of schools ranked per student: 12.0\n"
     ]
    }
   ],
   "source": [
    "# stats for sanity check\n",
    "rank_avg = np.mean([len(rank) for sid, rank in student_rankings.items()])\n",
    "print(\"Current average number of schools ranked per student:\", rank_avg)"
   ]
  },
  {
   "cell_type": "code",
   "execution_count": 64,
   "id": "4648935f",
   "metadata": {},
   "outputs": [
    {
     "name": "stdout",
     "output_type": "stream",
     "text": [
      "saved at /Data/Generated/student_rankings_stage1.npy\n"
     ]
    }
   ],
   "source": [
    "# saving student rankings\n",
    "np.save(cwd+\"/Data/Generated/student_rankings_stage1.npy\", student_rankings)\n",
    "print(\"saved at\", \"/Data/Generated/student_rankings_stage1.npy\")"
   ]
  },
  {
   "cell_type": "markdown",
   "id": "1885e591",
   "metadata": {},
   "source": [
    "### Subtask) Deriving School Popularity via True Applicant Rate"
   ]
  },
  {
   "cell_type": "code",
   "execution_count": 65,
   "id": "2ebb01c6",
   "metadata": {},
   "outputs": [
    {
     "data": {
      "text/plain": [
       "{'02M411': 5,\n",
       " '02M376': 4,\n",
       " '02M316': 3,\n",
       " '02M438': 5,\n",
       " '01M448': 4,\n",
       " '02M298': 4,\n",
       " '03M402': 3,\n",
       " '01M696': 5,\n",
       " '02M412': 4,\n",
       " '02M416': 1,\n",
       " '02M294': 4,\n",
       " '01M292': 4,\n",
       " '25Q281': 3,\n",
       " '02M543': 5,\n",
       " '02M418': 4,\n",
       " '02M422': 1,\n",
       " '05M362': 3,\n",
       " '02M551': 3,\n",
       " '02M414': 2,\n",
       " '02M439': 4,\n",
       " '04M435': 5,\n",
       " '02M288': 5,\n",
       " '01M539': 2,\n",
       " '01M450': 2,\n",
       " '03M541': 5,\n",
       " '02M605': 2,\n",
       " '02M400': 3,\n",
       " '02M615': 1,\n",
       " '02M600': 1,\n",
       " '32K168': 5,\n",
       " '03M479': 4,\n",
       " '02M407': 1,\n",
       " '02M139': 2,\n",
       " '02M545': 3,\n",
       " '27Q309': 5,\n",
       " '02M282': 2,\n",
       " '02M308': 2,\n",
       " '15K684': 3,\n",
       " '02M413': 5,\n",
       " '07X625': 4,\n",
       " '30Q580': 5,\n",
       " '02M580': 2,\n",
       " '02M305': 3,\n",
       " '24Q560': 5,\n",
       " '13K605': 4,\n",
       " '02M534': 5,\n",
       " '02M135': 5,\n",
       " '21K690': 2,\n",
       " '06M540': 2,\n",
       " '02M489': 4,\n",
       " '02M392': 3,\n",
       " '01M515': 1,\n",
       " '06M346': 3,\n",
       " '04M555': 1,\n",
       " '27Q260': 3,\n",
       " '02M374': 1,\n",
       " '02M630': 1,\n",
       " '02M546': 5,\n",
       " '22K555': 2,\n",
       " '04M610': 5,\n",
       " '10X439': 1,\n",
       " '05M369': 4,\n",
       " '24Q299': 1,\n",
       " '20K445': 1,\n",
       " '02M419': 3,\n",
       " '02M399': 1,\n",
       " '02M533': 3,\n",
       " '02M260': 3,\n",
       " '13K439': 2,\n",
       " '32K556': 4,\n",
       " '13K527': 4,\n",
       " '13K350': 5,\n",
       " '02M047': 3,\n",
       " '25Q525': 4,\n",
       " '01M458': 4,\n",
       " '02M420': 1,\n",
       " '02M425': 3,\n",
       " '32K552': 3,\n",
       " '24Q264': 1,\n",
       " '11X508': 1,\n",
       " '02M393': 5,\n",
       " '02M280': 1,\n",
       " '09X403': 3,\n",
       " '19K615': 4,\n",
       " '03M492': 4,\n",
       " '05M499': 4,\n",
       " '06M468': 5,\n",
       " '24Q530': 1,\n",
       " '30Q501': 4,\n",
       " '10X565': 3,\n",
       " '11X299': 5,\n",
       " '14K478': 2,\n",
       " '14K477': 4,\n",
       " '10X438': 1,\n",
       " '23K493': 1,\n",
       " '24Q610': 3,\n",
       " '09X525': 2,\n",
       " '15K656': 5,\n",
       " '02M586': 5,\n",
       " '13K595': 5,\n",
       " '19K409': 2,\n",
       " '02M520': 5,\n",
       " '13K674': 3,\n",
       " '17K751': 4,\n",
       " '02M560': 2,\n",
       " '03M415': 2,\n",
       " '07X600': 4,\n",
       " '02M432': 4,\n",
       " '12X242': 5,\n",
       " '03M417': 1,\n",
       " '07X473': 1,\n",
       " '09X413': 1,\n",
       " '16K455': 5,\n",
       " '06M348': 5,\n",
       " '13K594': 1,\n",
       " '30Q575': 4,\n",
       " '02M437': 4,\n",
       " '22K535': 5,\n",
       " '14K454': 3,\n",
       " '32K403': 2,\n",
       " '02M408': 2,\n",
       " '02M394': 1,\n",
       " '04M495': 3,\n",
       " '13K670': 3,\n",
       " '02M542': 2,\n",
       " '16K688': 4,\n",
       " '13K419': 4,\n",
       " '21K620': 5,\n",
       " '13K483': 4,\n",
       " '29Q498': 4,\n",
       " '27Q650': 2,\n",
       " '08X561': 2,\n",
       " '19K660': 2,\n",
       " '18K629': 1,\n",
       " '13K963': 2,\n",
       " '17K539': 3,\n",
       " '21K540': 3,\n",
       " '28Q690': 4,\n",
       " '08X312': 1,\n",
       " '14K558': 2,\n",
       " '15K429': 3,\n",
       " '02M500': 4,\n",
       " '02M300': 3,\n",
       " '22K405': 1,\n",
       " '02M544': 5,\n",
       " '02M519': 3,\n",
       " '28Q310': 4,\n",
       " '14K488': 3,\n",
       " '11X455': 2,\n",
       " '03M403': 2,\n",
       " '02M507': 2,\n",
       " '17K382': 3,\n",
       " '29Q243': 1,\n",
       " '30Q450': 1,\n",
       " '17K543': 5,\n",
       " '18K633': 3,\n",
       " '02M529': 5,\n",
       " '17K590': 4,\n",
       " '30Q301': 3,\n",
       " '20K490': 2,\n",
       " '23K644': 1,\n",
       " '15K960': 2,\n",
       " '02M459': 1,\n",
       " '10X213': 2,\n",
       " '06M211': 4,\n",
       " '07X495': 2,\n",
       " '06M293': 5,\n",
       " '05M157': 1,\n",
       " '10X353': 5,\n",
       " '06M467': 2,\n",
       " '24Q485': 5,\n",
       " '05M670': 4,\n",
       " '08X349': 1,\n",
       " '19K510': 4,\n",
       " '28Q620': 5,\n",
       " '08X636': 1,\n",
       " '03M494': 4,\n",
       " '21K468': 5,\n",
       " '22K425': 2,\n",
       " '06M462': 3,\n",
       " '02M449': 2,\n",
       " '02M550': 1,\n",
       " '11X270': 3,\n",
       " '13K553': 4,\n",
       " '17K408': 5,\n",
       " '10X141': 3,\n",
       " '26Q430': 3,\n",
       " '28Q284': 1,\n",
       " '15K462': 3,\n",
       " '07X221': 4,\n",
       " '03M859': 1,\n",
       " '02M296': 1,\n",
       " '19K404': 1,\n",
       " '10X374': 1,\n",
       " '15K464': 2,\n",
       " '07X548': 4,\n",
       " '12X267': 4,\n",
       " '15K519': 1,\n",
       " '07X500': 2,\n",
       " '17K548': 1,\n",
       " '02M427': 5,\n",
       " '20K485': 1,\n",
       " '07X223': 3,\n",
       " '25Q241': 5,\n",
       " '14K561': 5,\n",
       " '16K498': 5,\n",
       " '31R440': 4,\n",
       " '10X243': 4,\n",
       " '21K572': 2,\n",
       " '13K412': 1,\n",
       " '11X290': 3,\n",
       " '28Q896': 3,\n",
       " '12X511': 2,\n",
       " '21K337': 4,\n",
       " '02M313': 3,\n",
       " '11X544': 2,\n",
       " '10X264': 3,\n",
       " '28Q440': 5,\n",
       " '10X440': 4,\n",
       " '19K504': 1,\n",
       " '09X412': 4,\n",
       " '04M680': 5,\n",
       " '14K610': 1,\n",
       " '11X545': 2,\n",
       " '24Q550': 4,\n",
       " '06M463': 1,\n",
       " '15K448': 2,\n",
       " '07X551': 3,\n",
       " '24Q585': 3,\n",
       " '09X329': 3,\n",
       " '24Q600': 2,\n",
       " '03M291': 5,\n",
       " '02M655': 3,\n",
       " '11X542': 1,\n",
       " '10X368': 3,\n",
       " '15K497': 4,\n",
       " '17K546': 2,\n",
       " '18K637': 2,\n",
       " '07X522': 4,\n",
       " '11X288': 1,\n",
       " '17K537': 2,\n",
       " '11X275': 1,\n",
       " '03M307': 1,\n",
       " '03M860': 2,\n",
       " '32K554': 2,\n",
       " '08X320': 2,\n",
       " '05M304': 5,\n",
       " '29Q272': 2,\n",
       " '12X682': 5,\n",
       " '02M531': 3,\n",
       " '06M552': 5,\n",
       " '15K667': 3,\n",
       " '24Q267': 4,\n",
       " '31R047': 4,\n",
       " '02M303': 1,\n",
       " '10X477': 5,\n",
       " '07X259': 4,\n",
       " '21K525': 3,\n",
       " '31R445': 1,\n",
       " '29Q313': 5,\n",
       " '07X527': 2,\n",
       " '10X546': 4,\n",
       " '17K122': 5,\n",
       " '17K600': 5,\n",
       " '03M299': 4,\n",
       " '04M372': 1,\n",
       " '07X427': 5,\n",
       " '17K745': 5,\n",
       " '32K549': 2,\n",
       " '29Q265': 4,\n",
       " '10X342': 5,\n",
       " '14K071': 3,\n",
       " '08X530': 1,\n",
       " '16K765': 3,\n",
       " '30Q417': 4,\n",
       " '25Q425': 1,\n",
       " '21K344': 5,\n",
       " '31R450': 3,\n",
       " '08X376': 3,\n",
       " '19K502': 2,\n",
       " '26Q315': 4,\n",
       " '13K265': 4,\n",
       " '27Q323': 3,\n",
       " '10X437': 4,\n",
       " '19K507': 2,\n",
       " '30Q445': 3,\n",
       " '28Q328': 5,\n",
       " '11X418': 4,\n",
       " '21K348': 4,\n",
       " '18K563': 2,\n",
       " '10X225': 5,\n",
       " '28Q167': 3,\n",
       " '12X521': 1,\n",
       " '05M148': 2,\n",
       " '27Q400': 4,\n",
       " '22K611': 5,\n",
       " '12X550': 3,\n",
       " '09X260': 4,\n",
       " '23K697': 4,\n",
       " '28Q686': 4,\n",
       " '24Q455': 5,\n",
       " '14K586': 1,\n",
       " '27Q262': 2,\n",
       " '14K474': 4,\n",
       " '24Q236': 4,\n",
       " '24Q296': 5,\n",
       " '10X228': 5,\n",
       " '10X442': 1,\n",
       " '30Q258': 1,\n",
       " '19K764': 5,\n",
       " '26Q495': 4,\n",
       " '25Q670': 5,\n",
       " '11X253': 1,\n",
       " '19K639': 5,\n",
       " '11X249': 1,\n",
       " '09X365': 3,\n",
       " '10X237': 4,\n",
       " '27Q302': 2,\n",
       " '09X231': 3,\n",
       " '26Q566': 5,\n",
       " '09X568': 3,\n",
       " '19K618': 3,\n",
       " '17K547': 4,\n",
       " '10X549': 4,\n",
       " '09X327': 4,\n",
       " '24Q520': 4,\n",
       " '08X367': 4,\n",
       " '12X684': 2,\n",
       " '18K567': 4,\n",
       " '28Q505': 5,\n",
       " '09X324': 4,\n",
       " '30Q502': 5,\n",
       " '08X293': 4,\n",
       " '10X434': 5,\n",
       " '10X268': 5,\n",
       " '08X432': 1,\n",
       " '19K659': 2,\n",
       " '19K583': 4,\n",
       " '20K505': 4,\n",
       " '09X517': 1,\n",
       " '07X670': 2,\n",
       " '09X297': 4,\n",
       " '06M423': 1,\n",
       " '09X505': 4,\n",
       " '11X513': 4,\n",
       " '12X251': 3,\n",
       " '21K559': 2,\n",
       " '08X282': 2,\n",
       " '31R455': 4,\n",
       " '10X284': 2,\n",
       " '17K528': 2,\n",
       " '17K524': 2,\n",
       " '08X269': 3,\n",
       " '09X404': 5,\n",
       " '30Q286': 2,\n",
       " '08X537': 4,\n",
       " '29Q492': 1,\n",
       " '08X405': 2,\n",
       " '07X334': 1,\n",
       " '09X227': 4,\n",
       " '09X250': 5,\n",
       " '12X478': 5,\n",
       " '09X564': 3,\n",
       " '09X252': 2,\n",
       " '11X514': 2,\n",
       " '10X351': 2,\n",
       " '10X433': 4,\n",
       " '09X543': 3,\n",
       " '29Q327': 1,\n",
       " '25Q252': 5,\n",
       " '25Q460': 3,\n",
       " '25Q285': 2,\n",
       " '12X388': 2,\n",
       " '09X263': 5,\n",
       " '12X271': 3,\n",
       " '26Q415': 3,\n",
       " '24Q293': 5,\n",
       " '09X241': 4,\n",
       " '12X248': 4,\n",
       " '10X524': 4,\n",
       " '12X479': 2,\n",
       " '32K545': 3,\n",
       " '23K514': 1,\n",
       " '08X348': 1,\n",
       " '08X452': 3,\n",
       " '28Q680': 1,\n",
       " '19K683': 1,\n",
       " '11X509': 3,\n",
       " '25Q263': 1,\n",
       " '18K642': 1,\n",
       " '26Q435': 1,\n",
       " '19K422': 2,\n",
       " '13K616': 1,\n",
       " '27Q480': 5,\n",
       " '29Q326': 2,\n",
       " '11X265': 1,\n",
       " '31R460': 5,\n",
       " '27Q351': 5,\n",
       " '09X350': 3,\n",
       " '08X558': 3,\n",
       " '20K609': 3,\n",
       " '14K685': 1,\n",
       " '12X446': 2,\n",
       " '18K617': 4,\n",
       " '21K410': 5,\n",
       " '25Q240': 5,\n",
       " '19K953': 4,\n",
       " '27Q475': 5,\n",
       " '18K569': 2,\n",
       " '29Q283': 4,\n",
       " '17K531': 4,\n",
       " '27Q308': 5,\n",
       " '15K463': 4,\n",
       " '29Q248': 5,\n",
       " '27Q334': 3,\n",
       " '27Q314': 5,\n",
       " '18K566': 1,\n",
       " '29Q259': 3,\n",
       " '14K614': 1,\n",
       " '30Q555': 3,\n",
       " '28Q350': 2,\n",
       " '31R064': 4,\n",
       " '18K576': 2,\n",
       " '17K646': 3,\n",
       " '31R028': 1,\n",
       " '28Q325': 2,\n",
       " '15K592': 1,\n",
       " '15K423': 2,\n",
       " '31R080': 1,\n",
       " '23K647': 2,\n",
       " '31R600': 5,\n",
       " '27Q324': 4,\n",
       " '22K630': 2,\n",
       " '18K635': 2,\n",
       " '25Q792': 4,\n",
       " '21K728': 5,\n",
       " '25Q540': 1}"
      ]
     },
     "execution_count": 65,
     "metadata": {},
     "output_type": "execute_result"
    }
   ],
   "source": [
    "\"\"\" Data: https://github.com/KoraSHughes/DataLife/blob/main/BackEnd/Data/school_directory.xlsx\n",
    "DV-EF = applicants\n",
    "EG-ER = applicant/seats\n",
    "MN-MY = total seats\n",
    "\n",
    "TODO parse csv, used tommaso's structure - derive popularity for stage 2\n",
    "TODO: CHECK ARE THE MOST POPULAR SCHOOLS GETTING THE MOST APPLICATIONS (num applicants) -- sanity check for simulation results\n",
    "\"\"\"\n",
    "# placeholder data\n",
    "school_to_pop = dict([[sid, random.randint(1, 5)] for sid in school_ids])\n",
    "school_to_pop  # Note: dict is more efficient than dataframe for sorting"
   ]
  },
  {
   "cell_type": "code",
   "execution_count": 66,
   "id": "e9689e19",
   "metadata": {},
   "outputs": [
    {
     "name": "stdout",
     "output_type": "stream",
     "text": [
      "saved at /Data/Generated/school_demographics.npy\n"
     ]
    }
   ],
   "source": [
    "# save generated popularity\n",
    "translation = [[sid, pop] for sid, pop in school_to_pop.items()]\n",
    "np.save(cwd+\"/Data/Generated/school_demographics.npy\", pd.DataFrame(translation, columns=[\"Name\", \"Popularity\"]))\n",
    "print(\"saved at\", \"/Data/Generated/school_demographics.npy\")"
   ]
  },
  {
   "cell_type": "code",
   "execution_count": 67,
   "id": "450b65ba",
   "metadata": {},
   "outputs": [
    {
     "name": "stderr",
     "output_type": "stream",
     "text": [
      "100%|██████████████████████████████████████| 71250/71250 [00:00<00:00, 151916.78it/s]\n"
     ]
    },
    {
     "data": {
      "text/plain": [
       "['17K543',\n",
       " '18K567',\n",
       " '23K697',\n",
       " '03M492',\n",
       " '10X524',\n",
       " '17K539',\n",
       " '06M462',\n",
       " '11X509',\n",
       " '02M533',\n",
       " '02M308',\n",
       " '03M859',\n",
       " '07X334']"
      ]
     },
     "execution_count": 67,
     "metadata": {},
     "output_type": "execute_result"
    }
   ],
   "source": [
    "# add popularity-ordering to ranking\n",
    "s2_student_rankings = {}\n",
    "for sid, ranks in tqdm(student_rankings.items()):\n",
    "    new_ranks = sorted(ranks, key=lambda x: school_to_pop[x], reverse=True)  # sort by dict vals\n",
    "    s2_student_rankings[sid] = new_ranks  # append new rank\n",
    "s2_student_rankings[np.random.choice(student_ids)]"
   ]
  },
  {
   "cell_type": "code",
   "execution_count": 68,
   "id": "b88599de",
   "metadata": {},
   "outputs": [
    {
     "name": "stdout",
     "output_type": "stream",
     "text": [
      "saved at /Data/Generated/student_rankings_stage2.npy\n"
     ]
    }
   ],
   "source": [
    "# saving student rankings\n",
    "np.save(cwd+\"/Data/Generated/student_rankings_stage2.npy\", s2_student_rankings)\n",
    "print(\"saved at\", \"/Data/Generated/student_rankings_stage2.npy\")"
   ]
  },
  {
   "cell_type": "code",
   "execution_count": 69,
   "id": "b32e8adf",
   "metadata": {},
   "outputs": [
    {
     "name": "stderr",
     "output_type": "stream",
     "text": [
      "100%|██████████████████████████████████████████| 437/437 [00:00<00:00, 385957.22it/s]\n"
     ]
    },
    {
     "name": "stdout",
     "output_type": "stream",
     "text": [
      "Note: number of schools is 4913 which should be < 437 * 5\n"
     ]
    },
    {
     "name": "stderr",
     "output_type": "stream",
     "text": [
      "100%|█████████████████████████████████████████| 71250/71250 [01:19<00:00, 896.52it/s]\n"
     ]
    },
    {
     "data": {
      "text/plain": [
       "['07X548',\n",
       " '18K617',\n",
       " '27Q324',\n",
       " '05M304',\n",
       " '08X282',\n",
       " '14K477',\n",
       " '11X513',\n",
       " '11X299',\n",
       " '19K409',\n",
       " '15K463',\n",
       " '11X514',\n",
       " '13K439']"
      ]
     },
     "execution_count": 69,
     "metadata": {},
     "output_type": "execute_result"
    }
   ],
   "source": [
    "# add popularity weighted choice\n",
    "s3_student_rankings = {}\n",
    "weighted_schools = []\n",
    "for school, prio in tqdm(school_to_pop.items()):  # generate school list weighted by popularity\n",
    "    for i in range(prio**2):\n",
    "        weighted_schools.append(school)\n",
    "print(\"Note: number of schools is\", len(weighted_schools), \"which should be <\", len(school_to_pop), \"* 5\")\n",
    "        \n",
    "for sid, ranks in tqdm(student_rankings.items()):  # choose from weighted list\n",
    "    new_ranks = np.random.choice(weighted_schools, size=student_school_counts[sid], replace=False).tolist()\n",
    "    s3_student_rankings[sid] = new_ranks\n",
    "    \n",
    "s3_student_rankings[np.random.choice(student_ids)]"
   ]
  },
  {
   "cell_type": "code",
   "execution_count": 70,
   "id": "1eaeaf7a",
   "metadata": {},
   "outputs": [
    {
     "name": "stdout",
     "output_type": "stream",
     "text": [
      "saved at /Data/Generated/student_rankings_stage3.npy\n"
     ]
    }
   ],
   "source": [
    "# saving student rankings\n",
    "np.save(cwd+\"/Data/Generated/student_rankings_stage3.npy\", s3_student_rankings)\n",
    "print(\"saved at\", \"/Data/Generated/student_rankings_stage3.npy\")"
   ]
  },
  {
   "cell_type": "code",
   "execution_count": 71,
   "id": "8dd86329",
   "metadata": {},
   "outputs": [
    {
     "name": "stderr",
     "output_type": "stream",
     "text": [
      "100%|██████████████████████████████████████| 71250/71250 [00:00<00:00, 188950.53it/s]\n"
     ]
    },
    {
     "data": {
      "text/plain": [
       "['27Q314',\n",
       " '17K408',\n",
       " '16K498',\n",
       " '02M534',\n",
       " '27Q309',\n",
       " '31R460',\n",
       " '09X327',\n",
       " '10X437',\n",
       " '27Q400',\n",
       " '13K419',\n",
       " '12X251',\n",
       " '02M308']"
      ]
     },
     "execution_count": 71,
     "metadata": {},
     "output_type": "execute_result"
    }
   ],
   "source": [
    "# add popularity weighted choice AND popularity-ordering to ranking\n",
    "s4_student_rankings = {}\n",
    "for sid, ranks in tqdm(s3_student_rankings.items()):\n",
    "    new_ranks = sorted(ranks, key=lambda x: school_to_pop[x], reverse=True)  # sort by dict vals\n",
    "    s4_student_rankings[sid] = new_ranks  # append new rank\n",
    "    \n",
    "s4_student_rankings[np.random.choice(student_ids)]"
   ]
  },
  {
   "cell_type": "code",
   "execution_count": 72,
   "id": "e0892c57",
   "metadata": {},
   "outputs": [
    {
     "name": "stdout",
     "output_type": "stream",
     "text": [
      "saved at /Data/Generated/student_rankings_stage4.npy\n"
     ]
    }
   ],
   "source": [
    "# saving student rankings\n",
    "np.save(cwd+\"/Data/Generated/student_rankings_stage4.npy\", s4_student_rankings)\n",
    "print(\"saved at\", \"/Data/Generated/student_rankings_stage4.npy\")"
   ]
  },
  {
   "cell_type": "code",
   "execution_count": 73,
   "id": "cdb4fc2c",
   "metadata": {},
   "outputs": [
    {
     "data": {
      "text/html": [
       "<div>\n",
       "<style scoped>\n",
       "    .dataframe tbody tr th:only-of-type {\n",
       "        vertical-align: middle;\n",
       "    }\n",
       "\n",
       "    .dataframe tbody tr th {\n",
       "        vertical-align: top;\n",
       "    }\n",
       "\n",
       "    .dataframe thead th {\n",
       "        text-align: right;\n",
       "    }\n",
       "</style>\n",
       "<table border=\"1\" class=\"dataframe\">\n",
       "  <thead>\n",
       "    <tr style=\"text-align: right;\">\n",
       "      <th></th>\n",
       "      <th>Student_Id</th>\n",
       "      <th>Residential_District</th>\n",
       "      <th>swd</th>\n",
       "      <th>poverty</th>\n",
       "      <th>sex</th>\n",
       "      <th>ell</th>\n",
       "      <th>ENI</th>\n",
       "      <th>Black</th>\n",
       "      <th>Hispanic</th>\n",
       "      <th>Multi-Racial</th>\n",
       "      <th>White</th>\n",
       "      <th>Asian</th>\n",
       "      <th>Native American</th>\n",
       "      <th>Missing Race/Ethnicity Data</th>\n",
       "      <th>school</th>\n",
       "      <th>Math_score</th>\n",
       "      <th>ELA_score</th>\n",
       "      <th>Lottery</th>\n",
       "    </tr>\n",
       "  </thead>\n",
       "  <tbody>\n",
       "    <tr>\n",
       "      <th>0</th>\n",
       "      <td>student_36332</td>\n",
       "      <td>Residential District Unknown</td>\n",
       "      <td>0</td>\n",
       "      <td>0</td>\n",
       "      <td>1</td>\n",
       "      <td>0</td>\n",
       "      <td>0.723</td>\n",
       "      <td>0</td>\n",
       "      <td>1</td>\n",
       "      <td>0</td>\n",
       "      <td>0</td>\n",
       "      <td>0</td>\n",
       "      <td>0</td>\n",
       "      <td>0</td>\n",
       "      <td>30Q127</td>\n",
       "      <td>2.000000</td>\n",
       "      <td>3.125000</td>\n",
       "      <td>4c4ef64abb8044588343460f6eeab8db</td>\n",
       "    </tr>\n",
       "    <tr>\n",
       "      <th>1</th>\n",
       "      <td>student_36144</td>\n",
       "      <td>Residential District Unknown</td>\n",
       "      <td>0</td>\n",
       "      <td>1</td>\n",
       "      <td>0</td>\n",
       "      <td>0</td>\n",
       "      <td>0.684</td>\n",
       "      <td>0</td>\n",
       "      <td>1</td>\n",
       "      <td>0</td>\n",
       "      <td>0</td>\n",
       "      <td>0</td>\n",
       "      <td>0</td>\n",
       "      <td>0</td>\n",
       "      <td>27Q137</td>\n",
       "      <td>2.153846</td>\n",
       "      <td>2.750000</td>\n",
       "      <td>57835b4ba9a44375be70514c28639cee</td>\n",
       "    </tr>\n",
       "    <tr>\n",
       "      <th>2</th>\n",
       "      <td>student_37038</td>\n",
       "      <td>Residential District Unknown</td>\n",
       "      <td>1</td>\n",
       "      <td>1</td>\n",
       "      <td>1</td>\n",
       "      <td>0</td>\n",
       "      <td>0.881</td>\n",
       "      <td>0</td>\n",
       "      <td>1</td>\n",
       "      <td>0</td>\n",
       "      <td>0</td>\n",
       "      <td>0</td>\n",
       "      <td>0</td>\n",
       "      <td>0</td>\n",
       "      <td>24Q061</td>\n",
       "      <td>2.846154</td>\n",
       "      <td>1.753425</td>\n",
       "      <td>359e444aef7344ccb33f871a762360e8</td>\n",
       "    </tr>\n",
       "    <tr>\n",
       "      <th>3</th>\n",
       "      <td>student_614</td>\n",
       "      <td>Residential District Unknown</td>\n",
       "      <td>0</td>\n",
       "      <td>0</td>\n",
       "      <td>1</td>\n",
       "      <td>0</td>\n",
       "      <td>0.191</td>\n",
       "      <td>0</td>\n",
       "      <td>0</td>\n",
       "      <td>0</td>\n",
       "      <td>1</td>\n",
       "      <td>0</td>\n",
       "      <td>0</td>\n",
       "      <td>0</td>\n",
       "      <td>02M114</td>\n",
       "      <td>4.275862</td>\n",
       "      <td>4.181818</td>\n",
       "      <td>536468d353324cb08da75344b7f0d1e8</td>\n",
       "    </tr>\n",
       "    <tr>\n",
       "      <th>4</th>\n",
       "      <td>student_21981</td>\n",
       "      <td>Residential District Unknown</td>\n",
       "      <td>1</td>\n",
       "      <td>0</td>\n",
       "      <td>1</td>\n",
       "      <td>0</td>\n",
       "      <td>0.304</td>\n",
       "      <td>0</td>\n",
       "      <td>0</td>\n",
       "      <td>0</td>\n",
       "      <td>1</td>\n",
       "      <td>0</td>\n",
       "      <td>0</td>\n",
       "      <td>0</td>\n",
       "      <td>02M312</td>\n",
       "      <td>4.017241</td>\n",
       "      <td>3.125000</td>\n",
       "      <td>c195ec0c32e4452ca62a122327f7bfa6</td>\n",
       "    </tr>\n",
       "    <tr>\n",
       "      <th>...</th>\n",
       "      <td>...</td>\n",
       "      <td>...</td>\n",
       "      <td>...</td>\n",
       "      <td>...</td>\n",
       "      <td>...</td>\n",
       "      <td>...</td>\n",
       "      <td>...</td>\n",
       "      <td>...</td>\n",
       "      <td>...</td>\n",
       "      <td>...</td>\n",
       "      <td>...</td>\n",
       "      <td>...</td>\n",
       "      <td>...</td>\n",
       "      <td>...</td>\n",
       "      <td>...</td>\n",
       "      <td>...</td>\n",
       "      <td>...</td>\n",
       "      <td>...</td>\n",
       "    </tr>\n",
       "    <tr>\n",
       "      <th>71245</th>\n",
       "      <td>student_22462</td>\n",
       "      <td>Residential District 01</td>\n",
       "      <td>0</td>\n",
       "      <td>0</td>\n",
       "      <td>1</td>\n",
       "      <td>0</td>\n",
       "      <td>0.650</td>\n",
       "      <td>0</td>\n",
       "      <td>1</td>\n",
       "      <td>0</td>\n",
       "      <td>0</td>\n",
       "      <td>0</td>\n",
       "      <td>0</td>\n",
       "      <td>0</td>\n",
       "      <td>01M450</td>\n",
       "      <td>2.000000</td>\n",
       "      <td>1.972603</td>\n",
       "      <td>1eeb5307efa84090ba4f2a9eb2dcbb4b</td>\n",
       "    </tr>\n",
       "    <tr>\n",
       "      <th>71246</th>\n",
       "      <td>student_30857</td>\n",
       "      <td>Residential District 01</td>\n",
       "      <td>1</td>\n",
       "      <td>0</td>\n",
       "      <td>1</td>\n",
       "      <td>0</td>\n",
       "      <td>0.621</td>\n",
       "      <td>0</td>\n",
       "      <td>0</td>\n",
       "      <td>0</td>\n",
       "      <td>0</td>\n",
       "      <td>1</td>\n",
       "      <td>0</td>\n",
       "      <td>0</td>\n",
       "      <td>01M184</td>\n",
       "      <td>3.000000</td>\n",
       "      <td>3.125000</td>\n",
       "      <td>5c810ec67fbe444cb1e9629751879cbc</td>\n",
       "    </tr>\n",
       "    <tr>\n",
       "      <th>71247</th>\n",
       "      <td>student_57833</td>\n",
       "      <td>Residential District 01</td>\n",
       "      <td>0</td>\n",
       "      <td>0</td>\n",
       "      <td>0</td>\n",
       "      <td>0</td>\n",
       "      <td>0.256</td>\n",
       "      <td>1</td>\n",
       "      <td>0</td>\n",
       "      <td>0</td>\n",
       "      <td>0</td>\n",
       "      <td>0</td>\n",
       "      <td>0</td>\n",
       "      <td>0</td>\n",
       "      <td>01M539</td>\n",
       "      <td>2.615385</td>\n",
       "      <td>4.030303</td>\n",
       "      <td>fd4f0ebe302b47459d04352e35e92b49</td>\n",
       "    </tr>\n",
       "    <tr>\n",
       "      <th>71248</th>\n",
       "      <td>student_32259</td>\n",
       "      <td>Residential District 01</td>\n",
       "      <td>0</td>\n",
       "      <td>1</td>\n",
       "      <td>0</td>\n",
       "      <td>0</td>\n",
       "      <td>0.950</td>\n",
       "      <td>0</td>\n",
       "      <td>0</td>\n",
       "      <td>0</td>\n",
       "      <td>0</td>\n",
       "      <td>1</td>\n",
       "      <td>0</td>\n",
       "      <td>0</td>\n",
       "      <td>01M188</td>\n",
       "      <td>3.083333</td>\n",
       "      <td>2.000000</td>\n",
       "      <td>9fa7ba94beda4bcfbfafbc2cad29db52</td>\n",
       "    </tr>\n",
       "    <tr>\n",
       "      <th>71249</th>\n",
       "      <td>student_68963</td>\n",
       "      <td>Residential District 01</td>\n",
       "      <td>1</td>\n",
       "      <td>0</td>\n",
       "      <td>1</td>\n",
       "      <td>0</td>\n",
       "      <td>0.630</td>\n",
       "      <td>0</td>\n",
       "      <td>1</td>\n",
       "      <td>0</td>\n",
       "      <td>0</td>\n",
       "      <td>0</td>\n",
       "      <td>0</td>\n",
       "      <td>0</td>\n",
       "      <td>01M839</td>\n",
       "      <td>2.692308</td>\n",
       "      <td>2.312500</td>\n",
       "      <td>acea35e3c3ef43b1a1d46351c100a5c0</td>\n",
       "    </tr>\n",
       "  </tbody>\n",
       "</table>\n",
       "<p>71250 rows × 18 columns</p>\n",
       "</div>"
      ],
      "text/plain": [
       "          Student_Id          Residential_District  swd  poverty  sex  ell  \\\n",
       "0      student_36332  Residential District Unknown    0        0    1    0   \n",
       "1      student_36144  Residential District Unknown    0        1    0    0   \n",
       "2      student_37038  Residential District Unknown    1        1    1    0   \n",
       "3        student_614  Residential District Unknown    0        0    1    0   \n",
       "4      student_21981  Residential District Unknown    1        0    1    0   \n",
       "...              ...                           ...  ...      ...  ...  ...   \n",
       "71245  student_22462       Residential District 01    0        0    1    0   \n",
       "71246  student_30857       Residential District 01    1        0    1    0   \n",
       "71247  student_57833       Residential District 01    0        0    0    0   \n",
       "71248  student_32259       Residential District 01    0        1    0    0   \n",
       "71249  student_68963       Residential District 01    1        0    1    0   \n",
       "\n",
       "         ENI  Black  Hispanic  Multi-Racial  White  Asian  Native American  \\\n",
       "0      0.723      0         1             0      0      0                0   \n",
       "1      0.684      0         1             0      0      0                0   \n",
       "2      0.881      0         1             0      0      0                0   \n",
       "3      0.191      0         0             0      1      0                0   \n",
       "4      0.304      0         0             0      1      0                0   \n",
       "...      ...    ...       ...           ...    ...    ...              ...   \n",
       "71245  0.650      0         1             0      0      0                0   \n",
       "71246  0.621      0         0             0      0      1                0   \n",
       "71247  0.256      1         0             0      0      0                0   \n",
       "71248  0.950      0         0             0      0      1                0   \n",
       "71249  0.630      0         1             0      0      0                0   \n",
       "\n",
       "       Missing Race/Ethnicity Data  school  Math_score  ELA_score  \\\n",
       "0                                0  30Q127    2.000000   3.125000   \n",
       "1                                0  27Q137    2.153846   2.750000   \n",
       "2                                0  24Q061    2.846154   1.753425   \n",
       "3                                0  02M114    4.275862   4.181818   \n",
       "4                                0  02M312    4.017241   3.125000   \n",
       "...                            ...     ...         ...        ...   \n",
       "71245                            0  01M450    2.000000   1.972603   \n",
       "71246                            0  01M184    3.000000   3.125000   \n",
       "71247                            0  01M539    2.615385   4.030303   \n",
       "71248                            0  01M188    3.083333   2.000000   \n",
       "71249                            0  01M839    2.692308   2.312500   \n",
       "\n",
       "                                Lottery  \n",
       "0      4c4ef64abb8044588343460f6eeab8db  \n",
       "1      57835b4ba9a44375be70514c28639cee  \n",
       "2      359e444aef7344ccb33f871a762360e8  \n",
       "3      536468d353324cb08da75344b7f0d1e8  \n",
       "4      c195ec0c32e4452ca62a122327f7bfa6  \n",
       "...                                 ...  \n",
       "71245  1eeb5307efa84090ba4f2a9eb2dcbb4b  \n",
       "71246  5c810ec67fbe444cb1e9629751879cbc  \n",
       "71247  fd4f0ebe302b47459d04352e35e92b49  \n",
       "71248  9fa7ba94beda4bcfbfafbc2cad29db52  \n",
       "71249  acea35e3c3ef43b1a1d46351c100a5c0  \n",
       "\n",
       "[71250 rows x 18 columns]"
      ]
     },
     "execution_count": 73,
     "metadata": {},
     "output_type": "execute_result"
    }
   ],
   "source": [
    "# adding lotterly number\n",
    "lnums = [uuid.uuid4().hex for i in range(len(student_df))]\n",
    "student_df[\"Lottery\"] = lnums\n",
    "student_df"
   ]
  },
  {
   "cell_type": "code",
   "execution_count": 74,
   "id": "3e55365d",
   "metadata": {},
   "outputs": [
    {
     "data": {
      "text/html": [
       "<div>\n",
       "<style scoped>\n",
       "    .dataframe tbody tr th:only-of-type {\n",
       "        vertical-align: middle;\n",
       "    }\n",
       "\n",
       "    .dataframe tbody tr th {\n",
       "        vertical-align: top;\n",
       "    }\n",
       "\n",
       "    .dataframe thead th {\n",
       "        text-align: right;\n",
       "    }\n",
       "</style>\n",
       "<table border=\"1\" class=\"dataframe\">\n",
       "  <thead>\n",
       "    <tr style=\"text-align: right;\">\n",
       "      <th></th>\n",
       "      <th>Student_Id</th>\n",
       "      <th>Residential_District</th>\n",
       "      <th>swd</th>\n",
       "      <th>poverty</th>\n",
       "      <th>sex</th>\n",
       "      <th>ell</th>\n",
       "      <th>ENI</th>\n",
       "      <th>Black</th>\n",
       "      <th>Hispanic</th>\n",
       "      <th>Multi-Racial</th>\n",
       "      <th>...</th>\n",
       "      <th>Asian</th>\n",
       "      <th>Native American</th>\n",
       "      <th>Missing Race/Ethnicity Data</th>\n",
       "      <th>school</th>\n",
       "      <th>Math_score</th>\n",
       "      <th>ELA_score</th>\n",
       "      <th>Lottery</th>\n",
       "      <th>fake_gpa</th>\n",
       "      <th>seat</th>\n",
       "      <th>screen</th>\n",
       "    </tr>\n",
       "  </thead>\n",
       "  <tbody>\n",
       "    <tr>\n",
       "      <th>0</th>\n",
       "      <td>student_36332</td>\n",
       "      <td>Residential District Unknown</td>\n",
       "      <td>0</td>\n",
       "      <td>0</td>\n",
       "      <td>1</td>\n",
       "      <td>0</td>\n",
       "      <td>0.723</td>\n",
       "      <td>0</td>\n",
       "      <td>1</td>\n",
       "      <td>0</td>\n",
       "      <td>...</td>\n",
       "      <td>0</td>\n",
       "      <td>0</td>\n",
       "      <td>0</td>\n",
       "      <td>30Q127</td>\n",
       "      <td>2.000000</td>\n",
       "      <td>3.125000</td>\n",
       "      <td>4c4ef64abb8044588343460f6eeab8db</td>\n",
       "      <td>2.29</td>\n",
       "      <td>2</td>\n",
       "      <td>3</td>\n",
       "    </tr>\n",
       "    <tr>\n",
       "      <th>1</th>\n",
       "      <td>student_36144</td>\n",
       "      <td>Residential District Unknown</td>\n",
       "      <td>0</td>\n",
       "      <td>1</td>\n",
       "      <td>0</td>\n",
       "      <td>0</td>\n",
       "      <td>0.684</td>\n",
       "      <td>0</td>\n",
       "      <td>1</td>\n",
       "      <td>0</td>\n",
       "      <td>...</td>\n",
       "      <td>0</td>\n",
       "      <td>0</td>\n",
       "      <td>0</td>\n",
       "      <td>27Q137</td>\n",
       "      <td>2.153846</td>\n",
       "      <td>2.750000</td>\n",
       "      <td>57835b4ba9a44375be70514c28639cee</td>\n",
       "      <td>2.19</td>\n",
       "      <td>2</td>\n",
       "      <td>4</td>\n",
       "    </tr>\n",
       "    <tr>\n",
       "      <th>2</th>\n",
       "      <td>student_37038</td>\n",
       "      <td>Residential District Unknown</td>\n",
       "      <td>1</td>\n",
       "      <td>1</td>\n",
       "      <td>1</td>\n",
       "      <td>0</td>\n",
       "      <td>0.881</td>\n",
       "      <td>0</td>\n",
       "      <td>1</td>\n",
       "      <td>0</td>\n",
       "      <td>...</td>\n",
       "      <td>0</td>\n",
       "      <td>0</td>\n",
       "      <td>0</td>\n",
       "      <td>24Q061</td>\n",
       "      <td>2.846154</td>\n",
       "      <td>1.753425</td>\n",
       "      <td>359e444aef7344ccb33f871a762360e8</td>\n",
       "      <td>2.05</td>\n",
       "      <td>3</td>\n",
       "      <td>4</td>\n",
       "    </tr>\n",
       "    <tr>\n",
       "      <th>3</th>\n",
       "      <td>student_614</td>\n",
       "      <td>Residential District Unknown</td>\n",
       "      <td>0</td>\n",
       "      <td>0</td>\n",
       "      <td>1</td>\n",
       "      <td>0</td>\n",
       "      <td>0.191</td>\n",
       "      <td>0</td>\n",
       "      <td>0</td>\n",
       "      <td>0</td>\n",
       "      <td>...</td>\n",
       "      <td>0</td>\n",
       "      <td>0</td>\n",
       "      <td>0</td>\n",
       "      <td>02M114</td>\n",
       "      <td>4.275862</td>\n",
       "      <td>4.181818</td>\n",
       "      <td>536468d353324cb08da75344b7f0d1e8</td>\n",
       "      <td>3.77</td>\n",
       "      <td>1</td>\n",
       "      <td>1</td>\n",
       "    </tr>\n",
       "    <tr>\n",
       "      <th>4</th>\n",
       "      <td>student_21981</td>\n",
       "      <td>Residential District Unknown</td>\n",
       "      <td>1</td>\n",
       "      <td>0</td>\n",
       "      <td>1</td>\n",
       "      <td>0</td>\n",
       "      <td>0.304</td>\n",
       "      <td>0</td>\n",
       "      <td>0</td>\n",
       "      <td>0</td>\n",
       "      <td>...</td>\n",
       "      <td>0</td>\n",
       "      <td>0</td>\n",
       "      <td>0</td>\n",
       "      <td>02M312</td>\n",
       "      <td>4.017241</td>\n",
       "      <td>3.125000</td>\n",
       "      <td>c195ec0c32e4452ca62a122327f7bfa6</td>\n",
       "      <td>3.19</td>\n",
       "      <td>1</td>\n",
       "      <td>1</td>\n",
       "    </tr>\n",
       "    <tr>\n",
       "      <th>...</th>\n",
       "      <td>...</td>\n",
       "      <td>...</td>\n",
       "      <td>...</td>\n",
       "      <td>...</td>\n",
       "      <td>...</td>\n",
       "      <td>...</td>\n",
       "      <td>...</td>\n",
       "      <td>...</td>\n",
       "      <td>...</td>\n",
       "      <td>...</td>\n",
       "      <td>...</td>\n",
       "      <td>...</td>\n",
       "      <td>...</td>\n",
       "      <td>...</td>\n",
       "      <td>...</td>\n",
       "      <td>...</td>\n",
       "      <td>...</td>\n",
       "      <td>...</td>\n",
       "      <td>...</td>\n",
       "      <td>...</td>\n",
       "      <td>...</td>\n",
       "    </tr>\n",
       "    <tr>\n",
       "      <th>71245</th>\n",
       "      <td>student_22462</td>\n",
       "      <td>Residential District 01</td>\n",
       "      <td>0</td>\n",
       "      <td>0</td>\n",
       "      <td>1</td>\n",
       "      <td>0</td>\n",
       "      <td>0.650</td>\n",
       "      <td>0</td>\n",
       "      <td>1</td>\n",
       "      <td>0</td>\n",
       "      <td>...</td>\n",
       "      <td>0</td>\n",
       "      <td>0</td>\n",
       "      <td>0</td>\n",
       "      <td>01M450</td>\n",
       "      <td>2.000000</td>\n",
       "      <td>1.972603</td>\n",
       "      <td>1eeb5307efa84090ba4f2a9eb2dcbb4b</td>\n",
       "      <td>1.77</td>\n",
       "      <td>3</td>\n",
       "      <td>5</td>\n",
       "    </tr>\n",
       "    <tr>\n",
       "      <th>71246</th>\n",
       "      <td>student_30857</td>\n",
       "      <td>Residential District 01</td>\n",
       "      <td>1</td>\n",
       "      <td>0</td>\n",
       "      <td>1</td>\n",
       "      <td>0</td>\n",
       "      <td>0.621</td>\n",
       "      <td>0</td>\n",
       "      <td>0</td>\n",
       "      <td>0</td>\n",
       "      <td>...</td>\n",
       "      <td>1</td>\n",
       "      <td>0</td>\n",
       "      <td>0</td>\n",
       "      <td>01M184</td>\n",
       "      <td>3.000000</td>\n",
       "      <td>3.125000</td>\n",
       "      <td>5c810ec67fbe444cb1e9629751879cbc</td>\n",
       "      <td>2.73</td>\n",
       "      <td>2</td>\n",
       "      <td>2</td>\n",
       "    </tr>\n",
       "    <tr>\n",
       "      <th>71247</th>\n",
       "      <td>student_57833</td>\n",
       "      <td>Residential District 01</td>\n",
       "      <td>0</td>\n",
       "      <td>0</td>\n",
       "      <td>0</td>\n",
       "      <td>0</td>\n",
       "      <td>0.256</td>\n",
       "      <td>1</td>\n",
       "      <td>0</td>\n",
       "      <td>0</td>\n",
       "      <td>...</td>\n",
       "      <td>0</td>\n",
       "      <td>0</td>\n",
       "      <td>0</td>\n",
       "      <td>01M539</td>\n",
       "      <td>2.615385</td>\n",
       "      <td>4.030303</td>\n",
       "      <td>fd4f0ebe302b47459d04352e35e92b49</td>\n",
       "      <td>2.96</td>\n",
       "      <td>1</td>\n",
       "      <td>2</td>\n",
       "    </tr>\n",
       "    <tr>\n",
       "      <th>71248</th>\n",
       "      <td>student_32259</td>\n",
       "      <td>Residential District 01</td>\n",
       "      <td>0</td>\n",
       "      <td>1</td>\n",
       "      <td>0</td>\n",
       "      <td>0</td>\n",
       "      <td>0.950</td>\n",
       "      <td>0</td>\n",
       "      <td>0</td>\n",
       "      <td>0</td>\n",
       "      <td>...</td>\n",
       "      <td>1</td>\n",
       "      <td>0</td>\n",
       "      <td>0</td>\n",
       "      <td>01M188</td>\n",
       "      <td>3.083333</td>\n",
       "      <td>2.000000</td>\n",
       "      <td>9fa7ba94beda4bcfbfafbc2cad29db52</td>\n",
       "      <td>2.27</td>\n",
       "      <td>2</td>\n",
       "      <td>3</td>\n",
       "    </tr>\n",
       "    <tr>\n",
       "      <th>71249</th>\n",
       "      <td>student_68963</td>\n",
       "      <td>Residential District 01</td>\n",
       "      <td>1</td>\n",
       "      <td>0</td>\n",
       "      <td>1</td>\n",
       "      <td>0</td>\n",
       "      <td>0.630</td>\n",
       "      <td>0</td>\n",
       "      <td>1</td>\n",
       "      <td>0</td>\n",
       "      <td>...</td>\n",
       "      <td>0</td>\n",
       "      <td>0</td>\n",
       "      <td>0</td>\n",
       "      <td>01M839</td>\n",
       "      <td>2.692308</td>\n",
       "      <td>2.312500</td>\n",
       "      <td>acea35e3c3ef43b1a1d46351c100a5c0</td>\n",
       "      <td>2.23</td>\n",
       "      <td>2</td>\n",
       "      <td>4</td>\n",
       "    </tr>\n",
       "  </tbody>\n",
       "</table>\n",
       "<p>71250 rows × 21 columns</p>\n",
       "</div>"
      ],
      "text/plain": [
       "          Student_Id          Residential_District  swd  poverty  sex  ell  \\\n",
       "0      student_36332  Residential District Unknown    0        0    1    0   \n",
       "1      student_36144  Residential District Unknown    0        1    0    0   \n",
       "2      student_37038  Residential District Unknown    1        1    1    0   \n",
       "3        student_614  Residential District Unknown    0        0    1    0   \n",
       "4      student_21981  Residential District Unknown    1        0    1    0   \n",
       "...              ...                           ...  ...      ...  ...  ...   \n",
       "71245  student_22462       Residential District 01    0        0    1    0   \n",
       "71246  student_30857       Residential District 01    1        0    1    0   \n",
       "71247  student_57833       Residential District 01    0        0    0    0   \n",
       "71248  student_32259       Residential District 01    0        1    0    0   \n",
       "71249  student_68963       Residential District 01    1        0    1    0   \n",
       "\n",
       "         ENI  Black  Hispanic  Multi-Racial  ...  Asian  Native American  \\\n",
       "0      0.723      0         1             0  ...      0                0   \n",
       "1      0.684      0         1             0  ...      0                0   \n",
       "2      0.881      0         1             0  ...      0                0   \n",
       "3      0.191      0         0             0  ...      0                0   \n",
       "4      0.304      0         0             0  ...      0                0   \n",
       "...      ...    ...       ...           ...  ...    ...              ...   \n",
       "71245  0.650      0         1             0  ...      0                0   \n",
       "71246  0.621      0         0             0  ...      1                0   \n",
       "71247  0.256      1         0             0  ...      0                0   \n",
       "71248  0.950      0         0             0  ...      1                0   \n",
       "71249  0.630      0         1             0  ...      0                0   \n",
       "\n",
       "       Missing Race/Ethnicity Data  school Math_score  ELA_score  \\\n",
       "0                                0  30Q127   2.000000   3.125000   \n",
       "1                                0  27Q137   2.153846   2.750000   \n",
       "2                                0  24Q061   2.846154   1.753425   \n",
       "3                                0  02M114   4.275862   4.181818   \n",
       "4                                0  02M312   4.017241   3.125000   \n",
       "...                            ...     ...        ...        ...   \n",
       "71245                            0  01M450   2.000000   1.972603   \n",
       "71246                            0  01M184   3.000000   3.125000   \n",
       "71247                            0  01M539   2.615385   4.030303   \n",
       "71248                            0  01M188   3.083333   2.000000   \n",
       "71249                            0  01M839   2.692308   2.312500   \n",
       "\n",
       "                                Lottery fake_gpa  seat  screen  \n",
       "0      4c4ef64abb8044588343460f6eeab8db     2.29     2       3  \n",
       "1      57835b4ba9a44375be70514c28639cee     2.19     2       4  \n",
       "2      359e444aef7344ccb33f871a762360e8     2.05     3       4  \n",
       "3      536468d353324cb08da75344b7f0d1e8     3.77     1       1  \n",
       "4      c195ec0c32e4452ca62a122327f7bfa6     3.19     1       1  \n",
       "...                                 ...      ...   ...     ...  \n",
       "71245  1eeb5307efa84090ba4f2a9eb2dcbb4b     1.77     3       5  \n",
       "71246  5c810ec67fbe444cb1e9629751879cbc     2.73     2       2  \n",
       "71247  fd4f0ebe302b47459d04352e35e92b49     2.96     1       2  \n",
       "71248  9fa7ba94beda4bcfbfafbc2cad29db52     2.27     2       3  \n",
       "71249  acea35e3c3ef43b1a1d46351c100a5c0     2.23     2       4  \n",
       "\n",
       "[71250 rows x 21 columns]"
      ]
     },
     "execution_count": 74,
     "metadata": {},
     "output_type": "execute_result"
    }
   ],
   "source": [
    "# adding gpa, seat, and screen attributes\n",
    "\n",
    "def add_fake_gpa(students):\n",
    "    \"\"\" adds a gpa attribute based on the students ELA and Math scores \"\"\"\n",
    "    students[\"fake_gpa\"] = students[\"Math_score\"] + students[\"ELA_score\"]\n",
    "    max_score = max(students[\"fake_gpa\"])\n",
    "    students[\"fake_gpa\"] = students[\"fake_gpa\"].apply(lambda score: round(4*score/max_score, 2))  # gpa-normalized\n",
    "    return students\n",
    "    \n",
    "def add_edopt(students):\n",
    "    \"\"\" adds gpa percentile in 3rds for ed opt schools \"\"\"\n",
    "    lower = students[\"fake_gpa\"].quantile(1/3)\n",
    "    upper = students[\"fake_gpa\"].quantile(2/3)\n",
    "    seated = lambda x: 1 if x >= upper else (2 if x >= lower else 3)\n",
    "    students[\"seat\"] = students[\"fake_gpa\"].apply(seated)\n",
    "    return students\n",
    "\n",
    "def add_screen(students):\n",
    "    \"\"\" adds gpa percentile in 5ths for screen schools \"\"\"\n",
    "    lower1 = students[\"fake_gpa\"].quantile(1/5)\n",
    "    lower2 = students[\"fake_gpa\"].quantile(2/5)\n",
    "    upper1 = students[\"fake_gpa\"].quantile(3/5)\n",
    "    upper2 = students[\"fake_gpa\"].quantile(4/5)\n",
    "    def screened(gpa):\n",
    "        if gpa >= upper2:\n",
    "            return 1\n",
    "        elif gpa >= upper1:\n",
    "            return 2\n",
    "        elif gpa >= lower2:\n",
    "            return 3\n",
    "        elif gpa >= lower1:\n",
    "            return 4\n",
    "        else:\n",
    "            return 5\n",
    "        \n",
    "    students[\"screen\"] = students[\"fake_gpa\"].apply(lambda x: screened(x))\n",
    "    return students\n",
    "\n",
    "student_df = add_fake_gpa(student_df)\n",
    "student_df = add_edopt(student_df)\n",
    "student_df = add_screen(student_df)\n",
    "student_df"
   ]
  },
  {
   "cell_type": "code",
   "execution_count": 75,
   "id": "0d024a6b",
   "metadata": {},
   "outputs": [
    {
     "name": "stdout",
     "output_type": "stream",
     "text": [
      "saved at /Data/Generated/student_demographics.npy\n"
     ]
    }
   ],
   "source": [
    "# saving school demographics with updated attributes\n",
    "np.save(cwd+\"/Data/Generated/student_demographics.npy\", student_df)\n",
    "print(\"saved at\", \"/Data/Generated/student_demographics.npy\")"
   ]
  },
  {
   "cell_type": "markdown",
   "id": "3bd4b7d9",
   "metadata": {},
   "source": [
    "## Step 3.5) Add profiles for school rankings"
   ]
  },
  {
   "cell_type": "code",
   "execution_count": 76,
   "id": "b6c6ec73",
   "metadata": {},
   "outputs": [],
   "source": [
    "schools_criterion = [\"District\", \"Lottery\", \"ELA_Score\", \"Math_Score\", \"Poverty_Index\", \"fake_gpa\", \"seat\", \"screen\"]\n",
    "\n",
    "# BASIC SCHOOL PROFILES (intuition)\n",
    "# Note: these weights are in powers of 10 so they are closer to discrete ordering than pure ratios\n",
    "district_school = [3, 1, 0, 0, 0, 0, 0, 0]\n",
    "balanced_school = [3, 1, 2, 2, 1, 0, 0, 0]\n",
    "stem_school =     [3, 1, 2, 5, 1, 0, 0, 0]  # Note: most schools weight ELA and math equivalently (less realistic)\n",
    "lottery_school =  [1, 5, 0, 0, 0, 0, 0, 0]\n",
    "elite_school =    [0, 1, 4, 4, 0, 0, 0, 0]\n",
    "basic_school_profiles = [district_school, balanced_school, stem_school, lottery_school, elite_school]\n",
    "\n",
    "def basic_rand_pref():\n",
    "    \"\"\" generate a random school preference profile \"\"\"\n",
    "    return random.choice(basic_school_profiles)"
   ]
  },
  {
   "cell_type": "code",
   "execution_count": 77,
   "id": "de155134",
   "metadata": {},
   "outputs": [
    {
     "data": {
      "text/html": [
       "<div>\n",
       "<style scoped>\n",
       "    .dataframe tbody tr th:only-of-type {\n",
       "        vertical-align: middle;\n",
       "    }\n",
       "\n",
       "    .dataframe tbody tr th {\n",
       "        vertical-align: top;\n",
       "    }\n",
       "\n",
       "    .dataframe thead th {\n",
       "        text-align: right;\n",
       "    }\n",
       "</style>\n",
       "<table border=\"1\" class=\"dataframe\">\n",
       "  <thead>\n",
       "    <tr style=\"text-align: right;\">\n",
       "      <th></th>\n",
       "      <th>Student_Id</th>\n",
       "      <th>Residential_District</th>\n",
       "      <th>swd</th>\n",
       "      <th>poverty</th>\n",
       "      <th>sex</th>\n",
       "      <th>ell</th>\n",
       "      <th>ENI</th>\n",
       "      <th>Black</th>\n",
       "      <th>Hispanic</th>\n",
       "      <th>Multi-Racial</th>\n",
       "      <th>...</th>\n",
       "      <th>Asian</th>\n",
       "      <th>Native American</th>\n",
       "      <th>Missing Race/Ethnicity Data</th>\n",
       "      <th>school</th>\n",
       "      <th>Math_score</th>\n",
       "      <th>ELA_score</th>\n",
       "      <th>Lottery</th>\n",
       "      <th>fake_gpa</th>\n",
       "      <th>seat</th>\n",
       "      <th>screen</th>\n",
       "    </tr>\n",
       "  </thead>\n",
       "  <tbody>\n",
       "    <tr>\n",
       "      <th>32359</th>\n",
       "      <td>student_45916</td>\n",
       "      <td>Residential District 21</td>\n",
       "      <td>0</td>\n",
       "      <td>1</td>\n",
       "      <td>1</td>\n",
       "      <td>0</td>\n",
       "      <td>0.403</td>\n",
       "      <td>0</td>\n",
       "      <td>0</td>\n",
       "      <td>0</td>\n",
       "      <td>...</td>\n",
       "      <td>1</td>\n",
       "      <td>0</td>\n",
       "      <td>0</td>\n",
       "      <td>21K239</td>\n",
       "      <td>3.916667</td>\n",
       "      <td>3.125000</td>\n",
       "      <td>0004a77607bc4e3482b0fe742bd2a1b7</td>\n",
       "      <td>3.14</td>\n",
       "      <td>1</td>\n",
       "      <td>1</td>\n",
       "    </tr>\n",
       "    <tr>\n",
       "      <th>16358</th>\n",
       "      <td>student_36399</td>\n",
       "      <td>Residential District 27</td>\n",
       "      <td>0</td>\n",
       "      <td>0</td>\n",
       "      <td>1</td>\n",
       "      <td>0</td>\n",
       "      <td>0.823</td>\n",
       "      <td>0</td>\n",
       "      <td>1</td>\n",
       "      <td>0</td>\n",
       "      <td>...</td>\n",
       "      <td>0</td>\n",
       "      <td>0</td>\n",
       "      <td>0</td>\n",
       "      <td>27Q282</td>\n",
       "      <td>4.379310</td>\n",
       "      <td>2.437500</td>\n",
       "      <td>00089b79bdc048f9bb0208a647356301</td>\n",
       "      <td>3.04</td>\n",
       "      <td>1</td>\n",
       "      <td>2</td>\n",
       "    </tr>\n",
       "    <tr>\n",
       "      <th>69101</th>\n",
       "      <td>student_34762</td>\n",
       "      <td>Residential District 02</td>\n",
       "      <td>0</td>\n",
       "      <td>0</td>\n",
       "      <td>0</td>\n",
       "      <td>0</td>\n",
       "      <td>0.265</td>\n",
       "      <td>0</td>\n",
       "      <td>0</td>\n",
       "      <td>1</td>\n",
       "      <td>...</td>\n",
       "      <td>0</td>\n",
       "      <td>0</td>\n",
       "      <td>0</td>\n",
       "      <td>02M167</td>\n",
       "      <td>4.172414</td>\n",
       "      <td>4.121212</td>\n",
       "      <td>000accfcd3e4424486a67561d74c41c5</td>\n",
       "      <td>3.70</td>\n",
       "      <td>1</td>\n",
       "      <td>1</td>\n",
       "    </tr>\n",
       "    <tr>\n",
       "      <th>4502</th>\n",
       "      <td>student_15957</td>\n",
       "      <td>Residential District 31</td>\n",
       "      <td>0</td>\n",
       "      <td>1</td>\n",
       "      <td>0</td>\n",
       "      <td>0</td>\n",
       "      <td>0.515</td>\n",
       "      <td>0</td>\n",
       "      <td>0</td>\n",
       "      <td>0</td>\n",
       "      <td>...</td>\n",
       "      <td>1</td>\n",
       "      <td>0</td>\n",
       "      <td>0</td>\n",
       "      <td>31R072</td>\n",
       "      <td>3.333333</td>\n",
       "      <td>3.437500</td>\n",
       "      <td>001a96ce38234040a179dd93e1a57e7c</td>\n",
       "      <td>3.02</td>\n",
       "      <td>1</td>\n",
       "      <td>2</td>\n",
       "    </tr>\n",
       "    <tr>\n",
       "      <th>3423</th>\n",
       "      <td>student_34553</td>\n",
       "      <td>Residential District 31</td>\n",
       "      <td>0</td>\n",
       "      <td>1</td>\n",
       "      <td>0</td>\n",
       "      <td>0</td>\n",
       "      <td>0.450</td>\n",
       "      <td>0</td>\n",
       "      <td>0</td>\n",
       "      <td>0</td>\n",
       "      <td>...</td>\n",
       "      <td>0</td>\n",
       "      <td>0</td>\n",
       "      <td>0</td>\n",
       "      <td>31R048</td>\n",
       "      <td>4.068966</td>\n",
       "      <td>4.287879</td>\n",
       "      <td>001b393e98e24bcca34c7d9b22a5a41f</td>\n",
       "      <td>3.73</td>\n",
       "      <td>1</td>\n",
       "      <td>1</td>\n",
       "    </tr>\n",
       "    <tr>\n",
       "      <th>...</th>\n",
       "      <td>...</td>\n",
       "      <td>...</td>\n",
       "      <td>...</td>\n",
       "      <td>...</td>\n",
       "      <td>...</td>\n",
       "      <td>...</td>\n",
       "      <td>...</td>\n",
       "      <td>...</td>\n",
       "      <td>...</td>\n",
       "      <td>...</td>\n",
       "      <td>...</td>\n",
       "      <td>...</td>\n",
       "      <td>...</td>\n",
       "      <td>...</td>\n",
       "      <td>...</td>\n",
       "      <td>...</td>\n",
       "      <td>...</td>\n",
       "      <td>...</td>\n",
       "      <td>...</td>\n",
       "      <td>...</td>\n",
       "      <td>...</td>\n",
       "    </tr>\n",
       "    <tr>\n",
       "      <th>59982</th>\n",
       "      <td>student_16145</td>\n",
       "      <td>Residential District 08</td>\n",
       "      <td>1</td>\n",
       "      <td>0</td>\n",
       "      <td>1</td>\n",
       "      <td>0</td>\n",
       "      <td>0.912</td>\n",
       "      <td>0</td>\n",
       "      <td>1</td>\n",
       "      <td>0</td>\n",
       "      <td>...</td>\n",
       "      <td>0</td>\n",
       "      <td>0</td>\n",
       "      <td>0</td>\n",
       "      <td>08X376</td>\n",
       "      <td>1.933333</td>\n",
       "      <td>1.986301</td>\n",
       "      <td>fff745d3ceab4f1d9ced363f33275c01</td>\n",
       "      <td>1.75</td>\n",
       "      <td>3</td>\n",
       "      <td>5</td>\n",
       "    </tr>\n",
       "    <tr>\n",
       "      <th>41853</th>\n",
       "      <td>student_67379</td>\n",
       "      <td>Residential District 17</td>\n",
       "      <td>1</td>\n",
       "      <td>1</td>\n",
       "      <td>0</td>\n",
       "      <td>0</td>\n",
       "      <td>0.834</td>\n",
       "      <td>1</td>\n",
       "      <td>0</td>\n",
       "      <td>0</td>\n",
       "      <td>...</td>\n",
       "      <td>0</td>\n",
       "      <td>0</td>\n",
       "      <td>0</td>\n",
       "      <td>17K246</td>\n",
       "      <td>1.413333</td>\n",
       "      <td>1.904110</td>\n",
       "      <td>fff7d4e0921b41a288846c54d8779b7e</td>\n",
       "      <td>1.48</td>\n",
       "      <td>3</td>\n",
       "      <td>5</td>\n",
       "    </tr>\n",
       "    <tr>\n",
       "      <th>37918</th>\n",
       "      <td>student_64944</td>\n",
       "      <td>Residential District 20</td>\n",
       "      <td>0</td>\n",
       "      <td>1</td>\n",
       "      <td>1</td>\n",
       "      <td>1</td>\n",
       "      <td>0.792</td>\n",
       "      <td>0</td>\n",
       "      <td>0</td>\n",
       "      <td>0</td>\n",
       "      <td>...</td>\n",
       "      <td>1</td>\n",
       "      <td>0</td>\n",
       "      <td>0</td>\n",
       "      <td>20K227</td>\n",
       "      <td>1.666667</td>\n",
       "      <td>1.821918</td>\n",
       "      <td>fff96412729044f786afa02c3e4885e2</td>\n",
       "      <td>1.56</td>\n",
       "      <td>3</td>\n",
       "      <td>5</td>\n",
       "    </tr>\n",
       "    <tr>\n",
       "      <th>59660</th>\n",
       "      <td>student_44321</td>\n",
       "      <td>Residential District 09</td>\n",
       "      <td>0</td>\n",
       "      <td>1</td>\n",
       "      <td>0</td>\n",
       "      <td>1</td>\n",
       "      <td>0.947</td>\n",
       "      <td>0</td>\n",
       "      <td>1</td>\n",
       "      <td>0</td>\n",
       "      <td>...</td>\n",
       "      <td>0</td>\n",
       "      <td>0</td>\n",
       "      <td>0</td>\n",
       "      <td>09X313</td>\n",
       "      <td>1.653333</td>\n",
       "      <td>1.849315</td>\n",
       "      <td>fffc9ef37fff4dd6b03266b40e221006</td>\n",
       "      <td>1.56</td>\n",
       "      <td>3</td>\n",
       "      <td>5</td>\n",
       "    </tr>\n",
       "    <tr>\n",
       "      <th>64622</th>\n",
       "      <td>student_52179</td>\n",
       "      <td>Residential District 06</td>\n",
       "      <td>0</td>\n",
       "      <td>1</td>\n",
       "      <td>0</td>\n",
       "      <td>0</td>\n",
       "      <td>0.905</td>\n",
       "      <td>0</td>\n",
       "      <td>1</td>\n",
       "      <td>0</td>\n",
       "      <td>...</td>\n",
       "      <td>0</td>\n",
       "      <td>0</td>\n",
       "      <td>0</td>\n",
       "      <td>06M143</td>\n",
       "      <td>2.000000</td>\n",
       "      <td>2.062500</td>\n",
       "      <td>fffcaa214cb443b6ab370f231ee2f933</td>\n",
       "      <td>1.81</td>\n",
       "      <td>3</td>\n",
       "      <td>5</td>\n",
       "    </tr>\n",
       "  </tbody>\n",
       "</table>\n",
       "<p>71250 rows × 21 columns</p>\n",
       "</div>"
      ],
      "text/plain": [
       "          Student_Id     Residential_District  swd  poverty  sex  ell    ENI  \\\n",
       "32359  student_45916  Residential District 21    0        1    1    0  0.403   \n",
       "16358  student_36399  Residential District 27    0        0    1    0  0.823   \n",
       "69101  student_34762  Residential District 02    0        0    0    0  0.265   \n",
       "4502   student_15957  Residential District 31    0        1    0    0  0.515   \n",
       "3423   student_34553  Residential District 31    0        1    0    0  0.450   \n",
       "...              ...                      ...  ...      ...  ...  ...    ...   \n",
       "59982  student_16145  Residential District 08    1        0    1    0  0.912   \n",
       "41853  student_67379  Residential District 17    1        1    0    0  0.834   \n",
       "37918  student_64944  Residential District 20    0        1    1    1  0.792   \n",
       "59660  student_44321  Residential District 09    0        1    0    1  0.947   \n",
       "64622  student_52179  Residential District 06    0        1    0    0  0.905   \n",
       "\n",
       "       Black  Hispanic  Multi-Racial  ...  Asian  Native American  \\\n",
       "32359      0         0             0  ...      1                0   \n",
       "16358      0         1             0  ...      0                0   \n",
       "69101      0         0             1  ...      0                0   \n",
       "4502       0         0             0  ...      1                0   \n",
       "3423       0         0             0  ...      0                0   \n",
       "...      ...       ...           ...  ...    ...              ...   \n",
       "59982      0         1             0  ...      0                0   \n",
       "41853      1         0             0  ...      0                0   \n",
       "37918      0         0             0  ...      1                0   \n",
       "59660      0         1             0  ...      0                0   \n",
       "64622      0         1             0  ...      0                0   \n",
       "\n",
       "       Missing Race/Ethnicity Data  school Math_score  ELA_score  \\\n",
       "32359                            0  21K239   3.916667   3.125000   \n",
       "16358                            0  27Q282   4.379310   2.437500   \n",
       "69101                            0  02M167   4.172414   4.121212   \n",
       "4502                             0  31R072   3.333333   3.437500   \n",
       "3423                             0  31R048   4.068966   4.287879   \n",
       "...                            ...     ...        ...        ...   \n",
       "59982                            0  08X376   1.933333   1.986301   \n",
       "41853                            0  17K246   1.413333   1.904110   \n",
       "37918                            0  20K227   1.666667   1.821918   \n",
       "59660                            0  09X313   1.653333   1.849315   \n",
       "64622                            0  06M143   2.000000   2.062500   \n",
       "\n",
       "                                Lottery fake_gpa  seat  screen  \n",
       "32359  0004a77607bc4e3482b0fe742bd2a1b7     3.14     1       1  \n",
       "16358  00089b79bdc048f9bb0208a647356301     3.04     1       2  \n",
       "69101  000accfcd3e4424486a67561d74c41c5     3.70     1       1  \n",
       "4502   001a96ce38234040a179dd93e1a57e7c     3.02     1       2  \n",
       "3423   001b393e98e24bcca34c7d9b22a5a41f     3.73     1       1  \n",
       "...                                 ...      ...   ...     ...  \n",
       "59982  fff745d3ceab4f1d9ced363f33275c01     1.75     3       5  \n",
       "41853  fff7d4e0921b41a288846c54d8779b7e     1.48     3       5  \n",
       "37918  fff96412729044f786afa02c3e4885e2     1.56     3       5  \n",
       "59660  fffc9ef37fff4dd6b03266b40e221006     1.56     3       5  \n",
       "64622  fffcaa214cb443b6ab370f231ee2f933     1.81     3       5  \n",
       "\n",
       "[71250 rows x 21 columns]"
      ]
     },
     "execution_count": 77,
     "metadata": {},
     "output_type": "execute_result"
    }
   ],
   "source": [
    "\"\"\"\n",
    "Open schools: exlcusively lottery\n",
    "Ed Opt schools: 1/3rd seat for high/medium/low gpa (known) + lottery for inter-group tiebreaker\n",
    "Screen schools: 5 group distribution of gpa but highest to lowest (known) + lottery tie breaker\n",
    "Audition/Assessment: some sort of examination with ranking (school provides a score) + lottery tiebreaker\n",
    "\n",
    "Note: most have set-asides & zoning regulations\n",
    "Note: careful of skew (students with high seats disproportionally apply more to more popular schools)\n",
    "# Open, Ed Opt, Screened, Audtion/Assessment\n",
    "\"\"\"\n",
    "#  [\"District\", \"Lottery\", \"ELA_Score\", \"Math_Score\", \"Poverty_Index\", \"gpa\", \"seat\", \"screen\"]\n",
    "open_school = [\"Lottery\"]  # [0, 1, 0, 0, 0, 0, 0, 0]\n",
    "edopt_school = [\"seat\", \"Lottery\"]  # [0, 1, 0, 0, 0, 0, 2, 0]\n",
    "screen_school = [\"screen\", \"Lottery\"]  # [0, 0, 0, 0, 0, 0, 0, 1]\n",
    "# audition_school = [0, 1, 0, 0, 0, 0, 0]\n",
    "complex_school_profiles = [open_school, edopt_school, screen_school]\n",
    "\n",
    "student_df.sort_values(edopt_school, ascending=True)"
   ]
  },
  {
   "cell_type": "code",
   "execution_count": 78,
   "id": "1b41abe9",
   "metadata": {},
   "outputs": [
    {
     "name": "stdout",
     "output_type": "stream",
     "text": [
      "CPU times: user 235 ms, sys: 15.2 ms, total: 251 ms\n",
      "Wall time: 257 ms\n"
     ]
    }
   ],
   "source": [
    "%%time\n",
    "students_open = student_df.sort_values(open_school, ascending=True)[\"Student_Id\"].tolist()\n",
    "students_edopt = student_df.sort_values(edopt_school, ascending=True)[\"Student_Id\"].tolist()\n",
    "students_screen = student_df.sort_values(screen_school, ascending=True)[\"Student_Id\"].tolist()\n",
    "student_ordering_choices = [students_open, students_edopt, students_screen]\n",
    "\n",
    "def gen_school_choices(ids, choice_weights):\n",
    "    assert len(choice_weights) == len(student_ordering_choices), \"choices should follow schema:\"+str(len(student_ordering_choices))\n",
    "    weighted_choices = \"\"  # creates a string representing indicies of the choices\n",
    "    for i, weight in enumerate(choice_weights):\n",
    "        weighted_choices += str(i)*weight\n",
    "            \n",
    "    school_choices = {}  # generate student choices\n",
    "    for sid in ids:\n",
    "        choice_type = int(weighted_choices[np.random.randint(len(weighted_choices))])\n",
    "        school_choices[sid] = student_ordering_choices[choice_type]  # add corresponding choice\n",
    "    return school_choices"
   ]
  },
  {
   "cell_type": "code",
   "execution_count": null,
   "id": "138d5bf0",
   "metadata": {},
   "outputs": [],
   "source": [
    "# TODO: ensure order by discrete --> think SQL 'order_by' (next attribute is only looked at for tie-breakers)\n",
    "# prioirity students always take presidence\n",
    "# Note: recall you can affect capacity of school\n",
    "# TODO: add student preferences proportional to school policy\n",
    "# TODO: add distance from school's popularity\n",
    "# TODO: take a better look at student preference generation\n",
    "# TODO: add school district\n",
    "# get_district = dict([[sid, random.choice(student_df[\"Residential_District\"].unique())] for sid in school_ids])\n",
    "# get_district[random.choice(school_ids)]\n",
    "\n",
    "# Next steps: make one-shot function & seperate python file "
   ]
  },
  {
   "cell_type": "markdown",
   "id": "36728640",
   "metadata": {},
   "source": [
    "## Task 3: Generate School Rankings from profiles\n",
    "### Subgoal) Create randomized school profiles\n",
    "- Case 1: all open school (lottery only)\n",
    "- Case 2: add screen and or ed opt policies\n",
    "- Case 3: add policy-weighted randomness for variation between schools"
   ]
  },
  {
   "cell_type": "code",
   "execution_count": 79,
   "id": "ea30ac31",
   "metadata": {},
   "outputs": [
    {
     "name": "stdout",
     "output_type": "stream",
     "text": [
      "saved at /Data/Generated/school_rankings_open.npy\n",
      "CPU times: user 10.1 ms, sys: 2.21 ms, total: 12.4 ms\n",
      "Wall time: 11.5 ms\n"
     ]
    }
   ],
   "source": [
    "%%time\n",
    "# generate profile\n",
    "all_open = gen_school_choices(school_ids, [1,0,0])\n",
    "# saving school rankings\n",
    "np.save(cwd+\"/Data/Generated/school_rankings_open.npy\", all_open)\n",
    "print(\"saved at\", \"/Data/Generated/school_rankings_open.npy\")"
   ]
  },
  {
   "cell_type": "code",
   "execution_count": 80,
   "id": "0dbd4564",
   "metadata": {},
   "outputs": [
    {
     "name": "stdout",
     "output_type": "stream",
     "text": [
      "saved at /Data/Generated/school_rankings_edopt.npy\n",
      "CPU times: user 10 ms, sys: 1.8 ms, total: 11.8 ms\n",
      "Wall time: 10.4 ms\n"
     ]
    }
   ],
   "source": [
    "%%time\n",
    "# generate profile\n",
    "all_edopt = gen_school_choices(school_ids, [0,1,0])\n",
    "# saving school rankings\n",
    "np.save(cwd+\"/Data/Generated/school_rankings_edopt.npy\", all_edopt)\n",
    "print(\"saved at\", \"/Data/Generated/school_rankings_edopt.npy\")"
   ]
  },
  {
   "cell_type": "code",
   "execution_count": 81,
   "id": "ddd45d09",
   "metadata": {},
   "outputs": [
    {
     "name": "stdout",
     "output_type": "stream",
     "text": [
      "saved at /Data/Generated/school_rankings_screen.npy\n",
      "CPU times: user 9.86 ms, sys: 1.73 ms, total: 11.6 ms\n",
      "Wall time: 10.5 ms\n"
     ]
    }
   ],
   "source": [
    "%%time\n",
    "# generate profile\n",
    "all_screen = gen_school_choices(school_ids, [0,0,1])\n",
    "# saving school rankings\n",
    "np.save(cwd+\"/Data/Generated/school_rankings_screen.npy\", all_screen)\n",
    "print(\"saved at\", \"/Data/Generated/school_rankings_screen.npy\")"
   ]
  },
  {
   "cell_type": "code",
   "execution_count": 82,
   "id": "4ddde06f",
   "metadata": {},
   "outputs": [
    {
     "name": "stdout",
     "output_type": "stream",
     "text": [
      "saved at /Data/Generated/school_rankings_combo.npy\n",
      "CPU times: user 17.8 ms, sys: 2.74 ms, total: 20.5 ms\n",
      "Wall time: 19.4 ms\n"
     ]
    }
   ],
   "source": [
    "%%time\n",
    "# generate profile\n",
    "all_combo = gen_school_choices(school_ids, [1,1,1])\n",
    "# saving school rankings\n",
    "np.save(cwd+\"/Data/Generated/school_rankings_combo.npy\", all_combo)\n",
    "print(\"saved at\", \"/Data/Generated/school_rankings_combo.npy\")\n",
    "\n",
    "# NOTE: EVERYTHING <400ms"
   ]
  },
  {
   "cell_type": "code",
   "execution_count": 83,
   "id": "e783877d",
   "metadata": {},
   "outputs": [
    {
     "name": "stdout",
     "output_type": "stream",
     "text": [
      "71250 students ranked alongside 437 schools\n"
     ]
    }
   ],
   "source": [
    "print(len(student_df), \"students ranked alongside\", len(all_combo), \"schools\")"
   ]
  },
  {
   "cell_type": "code",
   "execution_count": null,
   "id": "78f0a242",
   "metadata": {},
   "outputs": [],
   "source": [
    "def insert_student(student_data, df):\n",
    "    \"\"\" insert a student into a ranked category \"\"\"\n",
    "    # TODO: find a more efficient way of doing this\n",
    "    return ..."
   ]
  },
  {
   "cell_type": "code",
   "execution_count": null,
   "id": "b4e67e09",
   "metadata": {},
   "outputs": [],
   "source": [
    "# TODO collinearity matrix between ranking and student attributes like test scores/lottery number\n",
    "# TODO: add gale-shapley priority => 'set asside'"
   ]
  },
  {
   "cell_type": "markdown",
   "id": "6878995b",
   "metadata": {},
   "source": [
    "# Evaluate Data\n",
    "\n",
    "## NYC 2023 Schools' Data"
   ]
  },
  {
   "cell_type": "code",
   "execution_count": 6,
   "id": "7b72eee1",
   "metadata": {},
   "outputs": [
    {
     "data": {
      "text/html": [
       "<div>\n",
       "<style scoped>\n",
       "    .dataframe tbody tr th:only-of-type {\n",
       "        vertical-align: middle;\n",
       "    }\n",
       "\n",
       "    .dataframe tbody tr th {\n",
       "        vertical-align: top;\n",
       "    }\n",
       "\n",
       "    .dataframe thead th {\n",
       "        text-align: right;\n",
       "    }\n",
       "</style>\n",
       "<table border=\"1\" class=\"dataframe\">\n",
       "  <thead>\n",
       "    <tr style=\"text-align: right;\">\n",
       "      <th></th>\n",
       "      <th>name</th>\n",
       "      <th>dbn</th>\n",
       "      <th>capacity</th>\n",
       "      <th>true_applicants</th>\n",
       "      <th>total_applicants</th>\n",
       "      <th>likeability</th>\n",
       "      <th>popularity</th>\n",
       "    </tr>\n",
       "  </thead>\n",
       "  <tbody>\n",
       "    <tr>\n",
       "      <th>0</th>\n",
       "      <td>Orchard Collegiate Academy</td>\n",
       "      <td>01M292</td>\n",
       "      <td>90</td>\n",
       "      <td>95</td>\n",
       "      <td>361</td>\n",
       "      <td>0.263158</td>\n",
       "      <td>4.011111</td>\n",
       "    </tr>\n",
       "    <tr>\n",
       "      <th>1</th>\n",
       "      <td>University Neighborhood High School</td>\n",
       "      <td>01M448</td>\n",
       "      <td>105</td>\n",
       "      <td>314</td>\n",
       "      <td>1625</td>\n",
       "      <td>0.193231</td>\n",
       "      <td>15.476190</td>\n",
       "    </tr>\n",
       "    <tr>\n",
       "      <th>2</th>\n",
       "      <td>East Side Community School</td>\n",
       "      <td>01M450</td>\n",
       "      <td>95</td>\n",
       "      <td>333</td>\n",
       "      <td>1011</td>\n",
       "      <td>0.329377</td>\n",
       "      <td>10.642105</td>\n",
       "    </tr>\n",
       "    <tr>\n",
       "      <th>3</th>\n",
       "      <td>Forsyth Satellite Academy</td>\n",
       "      <td>01M458</td>\n",
       "      <td>28</td>\n",
       "      <td>6</td>\n",
       "      <td>59</td>\n",
       "      <td>0.101695</td>\n",
       "      <td>2.107143</td>\n",
       "    </tr>\n",
       "    <tr>\n",
       "      <th>4</th>\n",
       "      <td>Lower East Side Preparatory High School</td>\n",
       "      <td>01M515</td>\n",
       "      <td>60</td>\n",
       "      <td>28</td>\n",
       "      <td>173</td>\n",
       "      <td>0.161850</td>\n",
       "      <td>2.883333</td>\n",
       "    </tr>\n",
       "    <tr>\n",
       "      <th>...</th>\n",
       "      <td>...</td>\n",
       "      <td>...</td>\n",
       "      <td>...</td>\n",
       "      <td>...</td>\n",
       "      <td>...</td>\n",
       "      <td>...</td>\n",
       "      <td>...</td>\n",
       "    </tr>\n",
       "    <tr>\n",
       "      <th>434</th>\n",
       "      <td>EBC High School for Public Service - Bushwick</td>\n",
       "      <td>32K545</td>\n",
       "      <td>126</td>\n",
       "      <td>107</td>\n",
       "      <td>534</td>\n",
       "      <td>0.200375</td>\n",
       "      <td>4.238095</td>\n",
       "    </tr>\n",
       "    <tr>\n",
       "      <th>435</th>\n",
       "      <td>The Brooklyn School for Social Justice</td>\n",
       "      <td>32K549</td>\n",
       "      <td>115</td>\n",
       "      <td>50</td>\n",
       "      <td>357</td>\n",
       "      <td>0.140056</td>\n",
       "      <td>3.104348</td>\n",
       "    </tr>\n",
       "    <tr>\n",
       "      <th>436</th>\n",
       "      <td>The Academy of Urban Planning and Engineering</td>\n",
       "      <td>32K552</td>\n",
       "      <td>113</td>\n",
       "      <td>171</td>\n",
       "      <td>922</td>\n",
       "      <td>0.185466</td>\n",
       "      <td>8.159292</td>\n",
       "    </tr>\n",
       "    <tr>\n",
       "      <th>437</th>\n",
       "      <td>All City Leadership Secondary School</td>\n",
       "      <td>32K554</td>\n",
       "      <td>62</td>\n",
       "      <td>291</td>\n",
       "      <td>963</td>\n",
       "      <td>0.302181</td>\n",
       "      <td>15.532258</td>\n",
       "    </tr>\n",
       "    <tr>\n",
       "      <th>438</th>\n",
       "      <td>Bushwick Leaders High School for Academic Exce...</td>\n",
       "      <td>32K556</td>\n",
       "      <td>100</td>\n",
       "      <td>108</td>\n",
       "      <td>561</td>\n",
       "      <td>0.192513</td>\n",
       "      <td>5.610000</td>\n",
       "    </tr>\n",
       "  </tbody>\n",
       "</table>\n",
       "<p>439 rows × 7 columns</p>\n",
       "</div>"
      ],
      "text/plain": [
       "                                                  name     dbn  capacity  \\\n",
       "0                           Orchard Collegiate Academy  01M292        90   \n",
       "1                  University Neighborhood High School  01M448       105   \n",
       "2                           East Side Community School  01M450        95   \n",
       "3                            Forsyth Satellite Academy  01M458        28   \n",
       "4              Lower East Side Preparatory High School  01M515        60   \n",
       "..                                                 ...     ...       ...   \n",
       "434      EBC High School for Public Service - Bushwick  32K545       126   \n",
       "435             The Brooklyn School for Social Justice  32K549       115   \n",
       "436      The Academy of Urban Planning and Engineering  32K552       113   \n",
       "437               All City Leadership Secondary School  32K554        62   \n",
       "438  Bushwick Leaders High School for Academic Exce...  32K556       100   \n",
       "\n",
       "     true_applicants  total_applicants  likeability  popularity  \n",
       "0                 95               361     0.263158    4.011111  \n",
       "1                314              1625     0.193231   15.476190  \n",
       "2                333              1011     0.329377   10.642105  \n",
       "3                  6                59     0.101695    2.107143  \n",
       "4                 28               173     0.161850    2.883333  \n",
       "..               ...               ...          ...         ...  \n",
       "434              107               534     0.200375    4.238095  \n",
       "435               50               357     0.140056    3.104348  \n",
       "436              171               922     0.185466    8.159292  \n",
       "437              291               963     0.302181   15.532258  \n",
       "438              108               561     0.192513    5.610000  \n",
       "\n",
       "[439 rows x 7 columns]"
      ]
     },
     "execution_count": 6,
     "metadata": {},
     "output_type": "execute_result"
    }
   ],
   "source": [
    "# looking at real admissions data\n",
    "school_info = np.load(\"Data/schools_info.npy\", allow_pickle=True).item()\n",
    "# {name: (dbn, capacity, true applicants, total applicants)}\n",
    "temp = []\n",
    "for name, data in school_info.items():  # transfer to df\n",
    "    temp.append([name]+[d for d in data])\n",
    "school_df = pd.DataFrame(temp, columns=[\"name\", \"dbn\", \"capacity\", \"true_applicants\", \"total_applicants\"])\n",
    "like = []\n",
    "pop = []\n",
    "for i, row in school_df.iterrows():\n",
    "    if row[\"capacity\"]==0:\n",
    "        pop.append(0)\n",
    "    else:\n",
    "        pop.append(row[\"total_applicants\"] / row[\"capacity\"])\n",
    "    if row[\"total_applicants\"]==0:\n",
    "        like.append(0)\n",
    "    else:\n",
    "        like.append(row[\"true_applicants\"] / row[\"total_applicants\"])\n",
    "school_df[\"likeability\"] = like   # probability that this school is the student's first choice/high on their list\n",
    "school_df[\"popularity\"] = pop  # expected number of applicants per capacity slot\n",
    "# Note: true applicants not found yet\n",
    "school_df"
   ]
  },
  {
   "cell_type": "code",
   "execution_count": 7,
   "id": "9c93f020",
   "metadata": {},
   "outputs": [
    {
     "data": {
      "text/html": [
       "<div>\n",
       "<style scoped>\n",
       "    .dataframe tbody tr th:only-of-type {\n",
       "        vertical-align: middle;\n",
       "    }\n",
       "\n",
       "    .dataframe tbody tr th {\n",
       "        vertical-align: top;\n",
       "    }\n",
       "\n",
       "    .dataframe thead th {\n",
       "        text-align: right;\n",
       "    }\n",
       "</style>\n",
       "<table border=\"1\" class=\"dataframe\">\n",
       "  <thead>\n",
       "    <tr style=\"text-align: right;\">\n",
       "      <th></th>\n",
       "      <th>capacity</th>\n",
       "      <th>true_applicants</th>\n",
       "      <th>total_applicants</th>\n",
       "      <th>likeability</th>\n",
       "      <th>popularity</th>\n",
       "    </tr>\n",
       "  </thead>\n",
       "  <tbody>\n",
       "    <tr>\n",
       "      <th>count</th>\n",
       "      <td>439.000000</td>\n",
       "      <td>439.000000</td>\n",
       "      <td>439.000000</td>\n",
       "      <td>439.000000</td>\n",
       "      <td>439.000000</td>\n",
       "    </tr>\n",
       "    <tr>\n",
       "      <th>mean</th>\n",
       "      <td>166.191344</td>\n",
       "      <td>368.667426</td>\n",
       "      <td>1119.630979</td>\n",
       "      <td>0.252079</td>\n",
       "      <td>7.220008</td>\n",
       "    </tr>\n",
       "    <tr>\n",
       "      <th>std</th>\n",
       "      <td>167.110769</td>\n",
       "      <td>706.236862</td>\n",
       "      <td>1396.186968</td>\n",
       "      <td>0.216636</td>\n",
       "      <td>7.510483</td>\n",
       "    </tr>\n",
       "    <tr>\n",
       "      <th>min</th>\n",
       "      <td>10.000000</td>\n",
       "      <td>1.000000</td>\n",
       "      <td>1.000000</td>\n",
       "      <td>0.025641</td>\n",
       "      <td>0.011111</td>\n",
       "    </tr>\n",
       "    <tr>\n",
       "      <th>25%</th>\n",
       "      <td>92.500000</td>\n",
       "      <td>63.000000</td>\n",
       "      <td>375.500000</td>\n",
       "      <td>0.157789</td>\n",
       "      <td>3.020000</td>\n",
       "    </tr>\n",
       "    <tr>\n",
       "      <th>50%</th>\n",
       "      <td>108.000000</td>\n",
       "      <td>128.000000</td>\n",
       "      <td>652.000000</td>\n",
       "      <td>0.212679</td>\n",
       "      <td>5.109589</td>\n",
       "    </tr>\n",
       "    <tr>\n",
       "      <th>75%</th>\n",
       "      <td>150.000000</td>\n",
       "      <td>308.500000</td>\n",
       "      <td>1211.000000</td>\n",
       "      <td>0.302605</td>\n",
       "      <td>8.263870</td>\n",
       "    </tr>\n",
       "    <tr>\n",
       "      <th>max</th>\n",
       "      <td>1188.000000</td>\n",
       "      <td>5863.000000</td>\n",
       "      <td>10400.000000</td>\n",
       "      <td>4.000000</td>\n",
       "      <td>62.528000</td>\n",
       "    </tr>\n",
       "  </tbody>\n",
       "</table>\n",
       "</div>"
      ],
      "text/plain": [
       "          capacity  true_applicants  total_applicants  likeability  popularity\n",
       "count   439.000000       439.000000        439.000000   439.000000  439.000000\n",
       "mean    166.191344       368.667426       1119.630979     0.252079    7.220008\n",
       "std     167.110769       706.236862       1396.186968     0.216636    7.510483\n",
       "min      10.000000         1.000000          1.000000     0.025641    0.011111\n",
       "25%      92.500000        63.000000        375.500000     0.157789    3.020000\n",
       "50%     108.000000       128.000000        652.000000     0.212679    5.109589\n",
       "75%     150.000000       308.500000       1211.000000     0.302605    8.263870\n",
       "max    1188.000000      5863.000000      10400.000000     4.000000   62.528000"
      ]
     },
     "execution_count": 7,
     "metadata": {},
     "output_type": "execute_result"
    }
   ],
   "source": [
    "school_df.describe()"
   ]
  },
  {
   "cell_type": "code",
   "execution_count": 37,
   "id": "a3200fb6",
   "metadata": {},
   "outputs": [
    {
     "data": {
      "application/vnd.plotly.v1+json": {
       "config": {
        "plotlyServerURL": "https://plot.ly"
       },
       "data": [
        {
         "hovertemplate": "likeability=%{x}<br>popularity=%{y}<br>capacity=%{marker.color}<extra></extra>",
         "legendgroup": "",
         "marker": {
          "color": [
           90,
           105,
           95,
           28,
           60,
           150,
           125,
           69,
           115,
           108,
           134,
           112,
           125,
           150,
           81,
           130,
           160,
           108,
           107,
           100,
           95,
           25,
           120,
           204,
           118,
           108,
           129,
           60,
           134,
           344,
           61,
           124,
           120,
           109,
           108,
           124,
           125,
           150,
           100,
           442,
           108,
           276,
           108,
           115,
           120,
           68,
           100,
           110,
           85,
           200,
           95,
           108,
           147,
           240,
           204,
           60,
           109,
           114,
           172,
           125,
           30,
           108,
           125,
           50,
           151,
           25,
           160,
           45,
           477,
           65,
           121,
           385,
           152,
           90,
           120,
           126,
           120,
           108,
           128,
           120,
           360,
           150,
           140,
           108,
           50,
           95,
           78,
           407,
           100,
           125,
           81,
           80,
           100,
           81,
           108,
           112,
           108,
           324,
           108,
           81,
           81,
           75,
           115,
           60,
           124,
           150,
           168,
           268,
           471,
           150,
           91,
           89,
           243,
           81,
           81,
           81,
           140,
           83,
           140,
           111,
           125,
           108,
           152,
           68,
           75,
           81,
           108,
           103,
           112,
           108,
           108,
           108,
           96,
           84,
           501,
           81,
           113,
           100,
           10,
           135,
           120,
           100,
           100,
           80,
           73,
           108,
           87,
           108,
           90,
           123,
           81,
           92,
           108,
           25,
           92,
           108,
           116,
           133,
           81,
           120,
           108,
           136,
           108,
           81,
           81,
           181,
           142,
           170,
           90,
           135,
           90,
           108,
           108,
           130,
           81,
           150,
           150,
           140,
           108,
           102,
           108,
           108,
           108,
           108,
           391,
           140,
           108,
           81,
           128,
           108,
           120,
           108,
           108,
           123,
           86,
           183,
           120,
           108,
           120,
           102,
           786,
           112,
           108,
           108,
           108,
           118,
           128,
           189,
           81,
           145,
           117,
           81,
           81,
           108,
           50,
           81,
           81,
           108,
           120,
           108,
           100,
           110,
           150,
           83,
           108,
           142,
           258,
           81,
           115,
           81,
           22,
           81,
           81,
           254,
           60,
           225,
           108,
           81,
           102,
           116,
           153,
           234,
           249,
           153,
           155,
           180,
           81,
           238,
           93,
           70,
           65,
           90,
           90,
           125,
           125,
           102,
           100,
           226,
           81,
           254,
           354,
           175,
           100,
           285,
           151,
           108,
           114,
           135,
           108,
           118,
           108,
           100,
           120,
           140,
           108,
           130,
           130,
           108,
           108,
           220,
           434,
           40,
           150,
           108,
           162,
           75,
           120,
           81,
           140,
           81,
           108,
           108,
           15,
           120,
           107,
           92,
           122,
           71,
           108,
           108,
           125,
           68,
           111,
           315,
           108,
           102,
           99,
           305,
           108,
           81,
           68,
           678,
           310,
           972,
           758,
           100,
           90,
           148,
           176,
           774,
           110,
           934,
           578,
           81,
           95,
           303,
           104,
           30,
           910,
           860,
           255,
           160,
           108,
           30,
           126,
           108,
           30,
           92,
           30,
           85,
           81,
           124,
           136,
           142,
           108,
           125,
           478,
           422,
           97,
           119,
           191,
           120,
           270,
           350,
           530,
           130,
           108,
           89,
           90,
           89,
           81,
           604,
           563,
           290,
           20,
           150,
           15,
           140,
           669,
           933,
           358,
           893,
           260,
           102,
           214,
           108,
           140,
           105,
           95,
           154,
           108,
           70,
           135,
           250,
           368,
           672,
           246,
           119,
           81,
           94,
           108,
           130,
           130,
           705,
           730,
           487,
           108,
           230,
           166,
           81,
           108,
           60,
           186,
           108,
           93,
           75,
           108,
           81,
           75,
           150,
           196,
           109,
           81,
           136,
           100,
           488,
           831,
           227,
           221,
           81,
           170,
           102,
           81,
           127,
           146,
           127,
           703,
           613,
           763,
           1188,
           650,
           290,
           108,
           108,
           126,
           115,
           113,
           62,
           100
          ],
          "coloraxis": "coloraxis",
          "symbol": "circle"
         },
         "mode": "markers",
         "name": "",
         "orientation": "v",
         "showlegend": false,
         "type": "scatter",
         "x": [
          0.2631578947368421,
          0.19323076923076923,
          0.3293768545994065,
          0.1016949152542373,
          0.16184971098265896,
          0.5503435912757694,
          0.5419704228285773,
          0.18961038961038962,
          0.1437125748502994,
          0.2033898305084746,
          0.44287396937573614,
          0.1825726141078838,
          0.15503875968992248,
          0.24574669187145556,
          0.24724548259145,
          0.10324483775811209,
          0.18250950570342206,
          0.12467532467532468,
          0.1254125412541254,
          0.1179245283018868,
          0.15838509316770186,
          0.2463768115942029,
          0.102803738317757,
          0.2193798449612403,
          0.40722724113968034,
          0.15560821484992102,
          0.19644444444444445,
          0.20212765957446807,
          0.11797752808988764,
          0.23043818466353677,
          0.3731543624161074,
          0.3396551724137931,
          0.43532617406635676,
          0.42183698296836986,
          0.3584295612009238,
          0.343202416918429,
          0.49181166837256907,
          0.46417936591347,
          0.11868131868131868,
          0.3107450393111194,
          0.18433179723502305,
          0.09862385321100918,
          0.16981132075471697,
          0.14540816326530612,
          0.10455764075067024,
          0.21328671328671328,
          0.37253948967193196,
          0.20582120582120583,
          0.1962809917355372,
          0.19401840490797545,
          0.11739130434782609,
          0.21218795888399414,
          0.32938076416337286,
          0.2,
          0.14647377938517178,
          0.20823244552058112,
          0.20097244732576985,
          0.12580645161290321,
          0.262987012987013,
          0.18369987063389392,
          0.043478260869565216,
          0.47041984732824427,
          0.23334662943757478,
          0.14925373134328357,
          0.3070063694267516,
          0.02564102564102564,
          0.14389359129383314,
          0.22727272727272727,
          0.3845043310875842,
          0.15582655826558264,
          0.1510957324106113,
          0.42570170610897085,
          0.12352941176470589,
          0.421792618629174,
          0.11764705882352941,
          0.1926605504587156,
          0.17097701149425287,
          0.1383399209486166,
          0.24476987447698745,
          0.3230421686746988,
          0.5632974731048286,
          0.19117647058823528,
          0.14755959137343927,
          0.49914853358561967,
          0.38618925831202044,
          0.18952618453865336,
          0.3539518900343643,
          0.4354743665291691,
          0.3165784832451499,
          0.34875115633672527,
          0.32723577235772355,
          0.18906605922551253,
          0.3125,
          0.15267175572519084,
          0.17548746518105848,
          0.440794499618029,
          0.1323529411764706,
          0.2252448313384113,
          0.2677595628415301,
          0.2533659730722154,
          0.3964858670741024,
          0.2773497688751926,
          0.31409395973154364,
          0.22,
          0.1921768707482993,
          0.11488250652741515,
          0.12946428571428573,
          0.12520325203252033,
          0.2161890397184515,
          0.3644251626898048,
          0.22149532710280373,
          0.2865792129162462,
          0.21069958847736625,
          0.19148936170212766,
          0.14556962025316456,
          0.18,
          0.3672143675964845,
          0.1899497487437186,
          0.1800302571860817,
          0.15782664941785252,
          0.19954389965792474,
          0.2454780361757106,
          0.25168035847647496,
          0.19842829076620824,
          0.0731070496083551,
          0.2646502835538752,
          0.17006802721088435,
          0.22043010752688172,
          0.17540322580645162,
          0.07534246575342465,
          0.1254125412541254,
          0.16968325791855204,
          0.21518987341772153,
          0.23770491803278687,
          0.23725391216557296,
          0.1585081585081585,
          0.18705035971223022,
          0.1867043847241867,
          0.07692307692307693,
          0.12004950495049505,
          0.17994505494505494,
          0.2937062937062937,
          0.1527655838454785,
          0.2665094339622642,
          0.2527075812274368,
          0.14883720930232558,
          0.1516279069767442,
          0.28609728073535046,
          0.13934426229508196,
          0.19486404833836857,
          0.18741058655221746,
          0.3324572930354796,
          0.15800865800865802,
          0.14492753623188406,
          0.3092485549132948,
          0.11853088480801335,
          0.08947368421052632,
          0.09864864864864865,
          0.18317358892438765,
          0.25499231950844853,
          0.13934426229508196,
          0.12609649122807018,
          0.182648401826484,
          0.11560693641618497,
          0.20907297830374755,
          0.4493116395494368,
          0.1285475792988314,
          0.19106699751861042,
          4,
          0.15870307167235495,
          0.2198581560283688,
          0.1701492537313433,
          0.14937759336099585,
          0.16024340770791076,
          0.3305785123966942,
          0.15467625899280577,
          0.22778192681105303,
          0.3383084577114428,
          0.2167729279058362,
          0.20971867007672634,
          0.18400770712909442,
          0.26778711484593837,
          0.2126882701962574,
          0.19873595505617977,
          0.24085491163173037,
          0.34182590233545646,
          0.2640449438202247,
          0.14824797843665768,
          0.11764705882352941,
          0.13844086021505375,
          0.13099041533546327,
          0.1702325581395349,
          0.10740740740740741,
          0.11267605633802817,
          0.17134831460674158,
          0.15173237753882915,
          0.18368544600938966,
          0.11124121779859485,
          0.14648829431438126,
          0.18514750762970497,
          0.21556122448979592,
          0.16911364872213158,
          0.24814814814814815,
          0.250936329588015,
          0.20326678765880218,
          0.2171945701357466,
          0.11275415896487985,
          0.1323529411764706,
          0.2967227635075288,
          0.16560509554140126,
          0.1280193236714976,
          0.2070030895983522,
          0.21267893660531698,
          0.21470588235294116,
          0.10273972602739725,
          0.2193808882907133,
          0.0673469387755102,
          0.13190184049079753,
          0.2154255319148936,
          0.1827956989247312,
          0.2,
          0.17984189723320157,
          0.10869565217391304,
          0.12684989429175475,
          0.12355212355212356,
          0.1421188630490956,
          0.16952380952380952,
          0.21019108280254778,
          0.22895125553914328,
          0.28957528957528955,
          0.128,
          0.17507418397626112,
          0.25717399200871777,
          0.1631578947368421,
          0.09444444444444444,
          0.24528301886792453,
          0.23608903020667726,
          0.15948275862068967,
          0.2619718309859155,
          0.15230224321133412,
          0.18717948717948718,
          0.1528776978417266,
          0.1298828125,
          0.19434931506849315,
          0.22466960352422907,
          0.23416666666666666,
          0.28125,
          0.21637931034482757,
          0.17672413793103448,
          0.2857142857142857,
          0.29411764705882354,
          0.23333333333333334,
          0.1662531017369727,
          0.22974358974358974,
          0.13068181818181818,
          0.17479674796747968,
          0.20633561643835616,
          0.12826603325415678,
          0.16470588235294117,
          0.29250457038391225,
          0.3303834808259587,
          0.44158527422990235,
          0.18636363636363637,
          0.13146853146853146,
          0.15775220040622884,
          0.14974619289340102,
          0.11737089201877934,
          0.2490272373540856,
          0.15752625437572929,
          0.16565656565656567,
          0.18357487922705315,
          0.09055118110236221,
          0.10299003322259136,
          0.24651162790697675,
          0.14705882352941177,
          0.2641975308641975,
          0.12962962962962962,
          0.14678899082568808,
          0.1644518272425249,
          0.32007152436298614,
          0.2522167487684729,
          0.13333333333333333,
          0.17567567567567569,
          0.1,
          0.13350125944584382,
          0.14016172506738545,
          0.21714285714285714,
          0.234375,
          0.15584415584415584,
          0.2446043165467626,
          0.12473572938689217,
          0.1849112426035503,
          0.07142857142857142,
          0.12776412776412777,
          0.16556291390728478,
          0.1692573402417962,
          0.32838038632986627,
          0.19213973799126638,
          0.19822485207100593,
          0.08872901678657075,
          0.14814814814814814,
          0.11570247933884298,
          0.1950207468879668,
          0.2165318957771788,
          0.16982836495031617,
          0.17786561264822134,
          0.22075471698113208,
          0.15252152521525214,
          0.30165289256198347,
          0.210989010989011,
          0.15135135135135136,
          0.3716247139588101,
          0.41044546850998465,
          0.4434530448360473,
          0.3065741658407664,
          0.24642857142857144,
          0.310580204778157,
          0.2716627634660422,
          0.15384615384615385,
          0.28177863702271627,
          0.3479404031551271,
          0.41584817712668554,
          0.2834270878407616,
          0.1242603550295858,
          0.23544973544973544,
          0.2518248175182482,
          0.3686176836861768,
          0.75,
          0.5249038461538461,
          0.45834643193964164,
          0.5351285189718482,
          0.35207823960880197,
          0.32142857142857145,
          0.625,
          0.21782178217821782,
          0.1461864406779661,
          1,
          0.31662870159453305,
          0.17647058823529413,
          0.15343915343915343,
          0.19483101391650098,
          0.27439024390243905,
          0.18425760286225404,
          0.27343078245915736,
          0.30454545454545456,
          0.5899104963384866,
          0.2271186440677966,
          0.25923244026068065,
          0.33643699565487273,
          0.4150513112884835,
          0.2783171521035599,
          0.22915254237288135,
          0.4093533487297921,
          0.3355263157894737,
          0.44519774011299434,
          0.16209476309226933,
          0.2594458438287154,
          0.351027397260274,
          0.3016759776536313,
          0.38663171690694625,
          0.44308943089430897,
          0.2667167543200601,
          0.24797645327446652,
          0.7308651209174769,
          0.5,
          0.25287356321839083,
          0.3333333333333333,
          0.27450980392156865,
          0.4106628242074928,
          0.5089185480853187,
          0.24180327868852458,
          0.4546783625730994,
          0.38118022328548645,
          0.13978494623655913,
          0.4740932642487047,
          0.3390357698289269,
          0.41922120961060483,
          0.2675521821631879,
          0.28825622775800713,
          0.5167958656330749,
          0.2023121387283237,
          0.26706231454005935,
          0.22772277227722773,
          0.22364217252396165,
          0.2993827160493827,
          0.21490384615384617,
          0.4264060630235341,
          0.4154209284028324,
          0.3739946380697051,
          0.18632075471698112,
          0.2020997375328084,
          0.2248062015503876,
          0.19148936170212766,
          0.3839783405000796,
          0.2508517887563884,
          0.4169811320754717,
          0.33305921052631576,
          0.41111643507426926,
          0.2543640897755611,
          0.2896174863387978,
          0.18877551020408162,
          0.12394366197183099,
          0.36193029490616624,
          0.1787709497206704,
          0.23076923076923078,
          0.17733990147783252,
          0.18497109826589594,
          0.19855595667870035,
          0.39666666666666667,
          0.18421052631578946,
          0.21065573770491802,
          0.24915597569209993,
          0.39096267190569745,
          0.30303030303030304,
          0.23478260869565218,
          0.21598002496878901,
          0.2721774193548387,
          0.5019033674963397,
          0.23426212590299278,
          0.3208020050125313,
          0.35642081617371774,
          0.5596221959858324,
          0.38235294117647056,
          0.4994186046511628,
          0.47319034852546915,
          0.42914438502673796,
          0.4536950420954163,
          0.33984375,
          0.4717607973421927,
          0.6803835397522973,
          0.4533762057877814,
          0.40190476190476193,
          0.10533707865168539,
          0.13355048859934854,
          0.20037453183520598,
          0.1400560224089636,
          0.18546637744034708,
          0.30218068535825543,
          0.1925133689839572
         ],
         "xaxis": "x",
         "y": [
          4.011111111111111,
          15.476190476190476,
          10.642105263157895,
          2.107142857142857,
          2.8833333333333333,
          22.313333333333333,
          38.408,
          5.579710144927536,
          2.9043478260869566,
          4.37037037037037,
          19.007462686567163,
          4.303571428571429,
          8.256,
          7.053333333333334,
          28.012345679012345,
          2.6076923076923078,
          9.8625,
          3.564814814814815,
          2.8317757009345796,
          4.24,
          6.778947368421052,
          2.76,
          0.8916666666666667,
          6.323529411764706,
          24.389830508474578,
          11.722222222222221,
          8.720930232558139,
          1.5666666666666667,
          1.328358208955224,
          7.430232558139535,
          12.21311475409836,
          9.35483870967742,
          51.99166666666667,
          30.165137614678898,
          20.046296296296298,
          26.693548387096776,
          62.528,
          38.06,
          4.55,
          6.042986425339366,
          2.009259259259259,
          1.5797101449275361,
          2.4537037037037037,
          3.408695652173913,
          3.1083333333333334,
          4.205882352941177,
          41.15,
          4.372727272727273,
          5.694117647058824,
          6.52,
          2.4210526315789473,
          12.61111111111111,
          10.326530612244898,
          0.9166666666666666,
          2.7107843137254903,
          6.883333333333334,
          5.660550458715596,
          10.87719298245614,
          3.5813953488372094,
          6.184,
          0.7666666666666667,
          9.703703703703704,
          20.056,
          1.34,
          5.198675496688741,
          1.56,
          5.16875,
          0.9777777777777777,
          4.356394129979035,
          11.353846153846154,
          7.1652892561983474,
          9.43896103896104,
          2.236842105263158,
          12.644444444444444,
          1.275,
          2.5952380952380953,
          5.8,
          7.027777777777778,
          7.46875,
          11.066666666666666,
          22.205555555555556,
          3.6266666666666665,
          6.292857142857143,
          48.93518518518518,
          7.82,
          4.221052631578948,
          3.730769230769231,
          12.50859950859951,
          22.68,
          34.592,
          6.074074074074074,
          5.4875,
          2.24,
          3.234567901234568,
          3.324074074074074,
          35.0625,
          3.7777777777777777,
          2.8364197530864197,
          3.388888888888889,
          10.08641975308642,
          16.160493827160494,
          8.653333333333334,
          6.478260869565218,
          0.8333333333333334,
          4.741935483870968,
          2.5533333333333332,
          2.6666666666666665,
          2.294776119402985,
          4.222929936305732,
          3.0733333333333333,
          11.758241758241759,
          11.134831460674157,
          5,
          2.3209876543209877,
          1.9506172839506173,
          3.0864197530864197,
          18.692857142857143,
          11.987951807228916,
          4.7214285714285715,
          6.963963963963964,
          7.016,
          3.5833333333333335,
          8.80921052631579,
          7.485294117647059,
          5.1066666666666665,
          6.530864197530864,
          1.3611111111111112,
          7.223300970873787,
          4.428571428571429,
          5.407407407407407,
          2.8055555555555554,
          8.185185185185185,
          4.9375,
          4.357142857142857,
          3.9540918163672654,
          5.296296296296297,
          2.4601769911504423,
          7.07,
          5.2,
          5.985185185185185,
          6.066666666666666,
          2.86,
          11.39,
          5.3,
          7.589041095890411,
          7.962962962962963,
          12.35632183908046,
          24.175925925925927,
          2.7111111111111112,
          5.382113821138211,
          8.62962962962963,
          8.271739130434783,
          4.277777777777778,
          2.76,
          7.521739130434782,
          5.546296296296297,
          1.6379310344827587,
          5.56390977443609,
          11.592592592592593,
          10.85,
          3.388888888888889,
          6.705882352941177,
          2.0277777777777777,
          4.271604938271605,
          6.2592592592592595,
          4.414364640883978,
          4.21830985915493,
          4.741176470588235,
          0.011111111111111112,
          4.340740740740741,
          12.533333333333333,
          12.407407407407407,
          2.2314814814814814,
          3.792307692307692,
          2.9876543209876543,
          3.7066666666666666,
          8.926666666666666,
          5.742857142857143,
          18.87962962962963,
          3.8333333333333335,
          9.61111111111111,
          16.52777777777778,
          20.287037037037038,
          13.185185185185185,
          6.2225063938618925,
          3.3642857142857143,
          8.24074074074074,
          4.580246913580247,
          3.8515625,
          6.888888888888889,
          5.216666666666667,
          9.953703703703704,
          2.5,
          2.3089430894308944,
          8.279069767441861,
          4.573770491803279,
          14.2,
          7.907407407407407,
          12.458333333333334,
          9.637254901960784,
          1.994910941475827,
          16.419642857142858,
          2.5,
          4.944444444444445,
          5.101851851851852,
          20.60169491525424,
          4.2265625,
          2.1587301587301586,
          13.938271604938272,
          2.1655172413793102,
          3.5384615384615383,
          11.987654320987655,
          6.037037037037037,
          3.1481481481481484,
          2.92,
          9.17283950617284,
          6.049382716049383,
          6.037037037037037,
          3.1333333333333333,
          3.4444444444444446,
          0.05,
          4.6,
          2.76,
          5.698795180722891,
          2.3981481481481484,
          5.450704225352113,
          4.069767441860465,
          3.876543209876543,
          5.886956521739131,
          3.197530864197531,
          17.045454545454547,
          4.160493827160494,
          33.98765432098765,
          5.2362204724409445,
          3,
          8.008888888888889,
          11.648148148148149,
          2.8641975308641974,
          3.480392156862745,
          7.301724137931035,
          2.549019607843137,
          2.376068376068376,
          4.112449799196787,
          7.633986928104576,
          8.787096774193548,
          6.666666666666667,
          2.3703703703703702,
          4.873949579831932,
          2.4946236559139785,
          2.4,
          0.5230769230769231,
          8.333333333333334,
          8.955555555555556,
          7.8,
          1.408,
          7.235294117647059,
          11.68,
          1.8628318584070795,
          1.0493827160493827,
          8.614173228346457,
          2.8728813559322033,
          30.422857142857143,
          2.2,
          2.508771929824561,
          9.781456953642385,
          3.6481481481481484,
          1.868421052631579,
          5.711111111111111,
          7.935185185185185,
          4.194915254237288,
          1.9166666666666667,
          5.08,
          2.5083333333333333,
          3.0714285714285716,
          2.5185185185185186,
          6.230769230769231,
          4.984615384615385,
          4.037037037037037,
          5.574074074074074,
          10.168181818181818,
          2.338709677419355,
          0.375,
          4.44,
          5.7407407407407405,
          2.450617283950617,
          4.946666666666666,
          2.9166666666666665,
          1.5802469135802468,
          1.65,
          5.148148148148148,
          4.37962962962963,
          6.2592592592592595,
          1.8666666666666667,
          6.783333333333333,
          1.411214953271028,
          6.293478260869565,
          5.516393442622951,
          6.450704225352113,
          3.1296296296296298,
          3.861111111111111,
          8.208,
          3.5588235294117645,
          2.171171171171171,
          3.533333333333333,
          10.25,
          7.4411764705882355,
          5.353535353535354,
          2.6655737704918034,
          2.240740740740741,
          5.617283950617284,
          2.7205882352941178,
          6.445427728613569,
          10.5,
          4.612139917695473,
          3.9934036939313984,
          2.8,
          3.2555555555555555,
          2.885135135135135,
          1.8465909090909092,
          2.6731266149870803,
          10.372727272727273,
          6.4314775160599575,
          3.9982698961937717,
          2.0864197530864197,
          3.9789473684210526,
          2.712871287128713,
          7.721153846153846,
          0.13333333333333333,
          11.428571428571429,
          7.397674418604651,
          16.019607843137255,
          17.89375,
          2.8518518518518516,
          0.26666666666666666,
          5.611111111111111,
          4.37037037037037,
          0.06666666666666667,
          4.771739130434782,
          0.5666666666666667,
          2.223529411764706,
          6.209876543209877,
          17.193548387096776,
          4.110294117647059,
          8.190140845070422,
          4.074074074074074,
          39.328,
          2.4686192468619246,
          3.272511848341232,
          16.608247422680414,
          7.369747899159663,
          11.324607329842932,
          12.291666666666666,
          19.244444444444444,
          9.554285714285715,
          6.679245283018868,
          3.0846153846153848,
          3.675925925925926,
          6.561797752808989,
          5.966666666666667,
          8.573033707865168,
          6.074074074074074,
          4.4072847682119205,
          2.413854351687389,
          27.662068965517243,
          0.3,
          6.38,
          0.6,
          6.192857142857143,
          6.2242152466367715,
          8.592711682743838,
          2.7262569832402233,
          6.8936170212765955,
          2.4115384615384614,
          3.6470588235294117,
          3.607476635514019,
          5.953703703703703,
          8.621428571428572,
          5.019047619047619,
          5.91578947368421,
          7.538961038961039,
          1.6018518518518519,
          9.628571428571428,
          1.4962962962962962,
          3.756,
          3.5217391304347827,
          3.0952380952380953,
          10.191056910569106,
          10.680672268907562,
          18.419753086419753,
          4.51063829787234,
          3.5277777777777777,
          3.9692307692307693,
          6.507692307692308,
          8.906382978723403,
          3.2164383561643834,
          10.882956878850102,
          11.25925925925926,
          9.07391304347826,
          2.4156626506024095,
          4.518518518518518,
          3.6296296296296298,
          5.916666666666667,
          2.0053763440860215,
          3.314814814814815,
          6.43010752688172,
          2.7066666666666666,
          6.407407407407407,
          6.839506172839506,
          4,
          3.04,
          6.224489795918367,
          13.587155963302752,
          6.283950617283951,
          11.161764705882353,
          4.6,
          3.2827868852459017,
          1.7906137184115523,
          15.044052863436123,
          4.384615384615385,
          4.925925925925926,
          15.711764705882352,
          24.91176470588235,
          1.2592592592592593,
          13.543307086614174,
          5.109589041095891,
          5.889763779527559,
          3.0412517780938835,
          1.67047308319739,
          1.9724770642201834,
          2.106902356902357,
          3.3492307692307692,
          1.8103448275862069,
          6.592592592592593,
          5.685185185185185,
          4.238095238095238,
          3.1043478260869564,
          8.15929203539823,
          15.53225806451613,
          5.61
         ],
         "yaxis": "y"
        }
       ],
       "layout": {
        "coloraxis": {
         "colorbar": {
          "title": {
           "text": "capacity"
          }
         },
         "colorscale": [
          [
           0,
           "#0d0887"
          ],
          [
           0.1111111111111111,
           "#46039f"
          ],
          [
           0.2222222222222222,
           "#7201a8"
          ],
          [
           0.3333333333333333,
           "#9c179e"
          ],
          [
           0.4444444444444444,
           "#bd3786"
          ],
          [
           0.5555555555555556,
           "#d8576b"
          ],
          [
           0.6666666666666666,
           "#ed7953"
          ],
          [
           0.7777777777777778,
           "#fb9f3a"
          ],
          [
           0.8888888888888888,
           "#fdca26"
          ],
          [
           1,
           "#f0f921"
          ]
         ]
        },
        "legend": {
         "tracegroupgap": 0
        },
        "margin": {
         "t": 60
        },
        "template": {
         "data": {
          "bar": [
           {
            "error_x": {
             "color": "#2a3f5f"
            },
            "error_y": {
             "color": "#2a3f5f"
            },
            "marker": {
             "line": {
              "color": "#E5ECF6",
              "width": 0.5
             },
             "pattern": {
              "fillmode": "overlay",
              "size": 10,
              "solidity": 0.2
             }
            },
            "type": "bar"
           }
          ],
          "barpolar": [
           {
            "marker": {
             "line": {
              "color": "#E5ECF6",
              "width": 0.5
             },
             "pattern": {
              "fillmode": "overlay",
              "size": 10,
              "solidity": 0.2
             }
            },
            "type": "barpolar"
           }
          ],
          "carpet": [
           {
            "aaxis": {
             "endlinecolor": "#2a3f5f",
             "gridcolor": "white",
             "linecolor": "white",
             "minorgridcolor": "white",
             "startlinecolor": "#2a3f5f"
            },
            "baxis": {
             "endlinecolor": "#2a3f5f",
             "gridcolor": "white",
             "linecolor": "white",
             "minorgridcolor": "white",
             "startlinecolor": "#2a3f5f"
            },
            "type": "carpet"
           }
          ],
          "choropleth": [
           {
            "colorbar": {
             "outlinewidth": 0,
             "ticks": ""
            },
            "type": "choropleth"
           }
          ],
          "contour": [
           {
            "colorbar": {
             "outlinewidth": 0,
             "ticks": ""
            },
            "colorscale": [
             [
              0,
              "#0d0887"
             ],
             [
              0.1111111111111111,
              "#46039f"
             ],
             [
              0.2222222222222222,
              "#7201a8"
             ],
             [
              0.3333333333333333,
              "#9c179e"
             ],
             [
              0.4444444444444444,
              "#bd3786"
             ],
             [
              0.5555555555555556,
              "#d8576b"
             ],
             [
              0.6666666666666666,
              "#ed7953"
             ],
             [
              0.7777777777777778,
              "#fb9f3a"
             ],
             [
              0.8888888888888888,
              "#fdca26"
             ],
             [
              1,
              "#f0f921"
             ]
            ],
            "type": "contour"
           }
          ],
          "contourcarpet": [
           {
            "colorbar": {
             "outlinewidth": 0,
             "ticks": ""
            },
            "type": "contourcarpet"
           }
          ],
          "heatmap": [
           {
            "colorbar": {
             "outlinewidth": 0,
             "ticks": ""
            },
            "colorscale": [
             [
              0,
              "#0d0887"
             ],
             [
              0.1111111111111111,
              "#46039f"
             ],
             [
              0.2222222222222222,
              "#7201a8"
             ],
             [
              0.3333333333333333,
              "#9c179e"
             ],
             [
              0.4444444444444444,
              "#bd3786"
             ],
             [
              0.5555555555555556,
              "#d8576b"
             ],
             [
              0.6666666666666666,
              "#ed7953"
             ],
             [
              0.7777777777777778,
              "#fb9f3a"
             ],
             [
              0.8888888888888888,
              "#fdca26"
             ],
             [
              1,
              "#f0f921"
             ]
            ],
            "type": "heatmap"
           }
          ],
          "heatmapgl": [
           {
            "colorbar": {
             "outlinewidth": 0,
             "ticks": ""
            },
            "colorscale": [
             [
              0,
              "#0d0887"
             ],
             [
              0.1111111111111111,
              "#46039f"
             ],
             [
              0.2222222222222222,
              "#7201a8"
             ],
             [
              0.3333333333333333,
              "#9c179e"
             ],
             [
              0.4444444444444444,
              "#bd3786"
             ],
             [
              0.5555555555555556,
              "#d8576b"
             ],
             [
              0.6666666666666666,
              "#ed7953"
             ],
             [
              0.7777777777777778,
              "#fb9f3a"
             ],
             [
              0.8888888888888888,
              "#fdca26"
             ],
             [
              1,
              "#f0f921"
             ]
            ],
            "type": "heatmapgl"
           }
          ],
          "histogram": [
           {
            "marker": {
             "pattern": {
              "fillmode": "overlay",
              "size": 10,
              "solidity": 0.2
             }
            },
            "type": "histogram"
           }
          ],
          "histogram2d": [
           {
            "colorbar": {
             "outlinewidth": 0,
             "ticks": ""
            },
            "colorscale": [
             [
              0,
              "#0d0887"
             ],
             [
              0.1111111111111111,
              "#46039f"
             ],
             [
              0.2222222222222222,
              "#7201a8"
             ],
             [
              0.3333333333333333,
              "#9c179e"
             ],
             [
              0.4444444444444444,
              "#bd3786"
             ],
             [
              0.5555555555555556,
              "#d8576b"
             ],
             [
              0.6666666666666666,
              "#ed7953"
             ],
             [
              0.7777777777777778,
              "#fb9f3a"
             ],
             [
              0.8888888888888888,
              "#fdca26"
             ],
             [
              1,
              "#f0f921"
             ]
            ],
            "type": "histogram2d"
           }
          ],
          "histogram2dcontour": [
           {
            "colorbar": {
             "outlinewidth": 0,
             "ticks": ""
            },
            "colorscale": [
             [
              0,
              "#0d0887"
             ],
             [
              0.1111111111111111,
              "#46039f"
             ],
             [
              0.2222222222222222,
              "#7201a8"
             ],
             [
              0.3333333333333333,
              "#9c179e"
             ],
             [
              0.4444444444444444,
              "#bd3786"
             ],
             [
              0.5555555555555556,
              "#d8576b"
             ],
             [
              0.6666666666666666,
              "#ed7953"
             ],
             [
              0.7777777777777778,
              "#fb9f3a"
             ],
             [
              0.8888888888888888,
              "#fdca26"
             ],
             [
              1,
              "#f0f921"
             ]
            ],
            "type": "histogram2dcontour"
           }
          ],
          "mesh3d": [
           {
            "colorbar": {
             "outlinewidth": 0,
             "ticks": ""
            },
            "type": "mesh3d"
           }
          ],
          "parcoords": [
           {
            "line": {
             "colorbar": {
              "outlinewidth": 0,
              "ticks": ""
             }
            },
            "type": "parcoords"
           }
          ],
          "pie": [
           {
            "automargin": true,
            "type": "pie"
           }
          ],
          "scatter": [
           {
            "marker": {
             "colorbar": {
              "outlinewidth": 0,
              "ticks": ""
             }
            },
            "type": "scatter"
           }
          ],
          "scatter3d": [
           {
            "line": {
             "colorbar": {
              "outlinewidth": 0,
              "ticks": ""
             }
            },
            "marker": {
             "colorbar": {
              "outlinewidth": 0,
              "ticks": ""
             }
            },
            "type": "scatter3d"
           }
          ],
          "scattercarpet": [
           {
            "marker": {
             "colorbar": {
              "outlinewidth": 0,
              "ticks": ""
             }
            },
            "type": "scattercarpet"
           }
          ],
          "scattergeo": [
           {
            "marker": {
             "colorbar": {
              "outlinewidth": 0,
              "ticks": ""
             }
            },
            "type": "scattergeo"
           }
          ],
          "scattergl": [
           {
            "marker": {
             "colorbar": {
              "outlinewidth": 0,
              "ticks": ""
             }
            },
            "type": "scattergl"
           }
          ],
          "scattermapbox": [
           {
            "marker": {
             "colorbar": {
              "outlinewidth": 0,
              "ticks": ""
             }
            },
            "type": "scattermapbox"
           }
          ],
          "scatterpolar": [
           {
            "marker": {
             "colorbar": {
              "outlinewidth": 0,
              "ticks": ""
             }
            },
            "type": "scatterpolar"
           }
          ],
          "scatterpolargl": [
           {
            "marker": {
             "colorbar": {
              "outlinewidth": 0,
              "ticks": ""
             }
            },
            "type": "scatterpolargl"
           }
          ],
          "scatterternary": [
           {
            "marker": {
             "colorbar": {
              "outlinewidth": 0,
              "ticks": ""
             }
            },
            "type": "scatterternary"
           }
          ],
          "surface": [
           {
            "colorbar": {
             "outlinewidth": 0,
             "ticks": ""
            },
            "colorscale": [
             [
              0,
              "#0d0887"
             ],
             [
              0.1111111111111111,
              "#46039f"
             ],
             [
              0.2222222222222222,
              "#7201a8"
             ],
             [
              0.3333333333333333,
              "#9c179e"
             ],
             [
              0.4444444444444444,
              "#bd3786"
             ],
             [
              0.5555555555555556,
              "#d8576b"
             ],
             [
              0.6666666666666666,
              "#ed7953"
             ],
             [
              0.7777777777777778,
              "#fb9f3a"
             ],
             [
              0.8888888888888888,
              "#fdca26"
             ],
             [
              1,
              "#f0f921"
             ]
            ],
            "type": "surface"
           }
          ],
          "table": [
           {
            "cells": {
             "fill": {
              "color": "#EBF0F8"
             },
             "line": {
              "color": "white"
             }
            },
            "header": {
             "fill": {
              "color": "#C8D4E3"
             },
             "line": {
              "color": "white"
             }
            },
            "type": "table"
           }
          ]
         },
         "layout": {
          "annotationdefaults": {
           "arrowcolor": "#2a3f5f",
           "arrowhead": 0,
           "arrowwidth": 1
          },
          "autotypenumbers": "strict",
          "coloraxis": {
           "colorbar": {
            "outlinewidth": 0,
            "ticks": ""
           }
          },
          "colorscale": {
           "diverging": [
            [
             0,
             "#8e0152"
            ],
            [
             0.1,
             "#c51b7d"
            ],
            [
             0.2,
             "#de77ae"
            ],
            [
             0.3,
             "#f1b6da"
            ],
            [
             0.4,
             "#fde0ef"
            ],
            [
             0.5,
             "#f7f7f7"
            ],
            [
             0.6,
             "#e6f5d0"
            ],
            [
             0.7,
             "#b8e186"
            ],
            [
             0.8,
             "#7fbc41"
            ],
            [
             0.9,
             "#4d9221"
            ],
            [
             1,
             "#276419"
            ]
           ],
           "sequential": [
            [
             0,
             "#0d0887"
            ],
            [
             0.1111111111111111,
             "#46039f"
            ],
            [
             0.2222222222222222,
             "#7201a8"
            ],
            [
             0.3333333333333333,
             "#9c179e"
            ],
            [
             0.4444444444444444,
             "#bd3786"
            ],
            [
             0.5555555555555556,
             "#d8576b"
            ],
            [
             0.6666666666666666,
             "#ed7953"
            ],
            [
             0.7777777777777778,
             "#fb9f3a"
            ],
            [
             0.8888888888888888,
             "#fdca26"
            ],
            [
             1,
             "#f0f921"
            ]
           ],
           "sequentialminus": [
            [
             0,
             "#0d0887"
            ],
            [
             0.1111111111111111,
             "#46039f"
            ],
            [
             0.2222222222222222,
             "#7201a8"
            ],
            [
             0.3333333333333333,
             "#9c179e"
            ],
            [
             0.4444444444444444,
             "#bd3786"
            ],
            [
             0.5555555555555556,
             "#d8576b"
            ],
            [
             0.6666666666666666,
             "#ed7953"
            ],
            [
             0.7777777777777778,
             "#fb9f3a"
            ],
            [
             0.8888888888888888,
             "#fdca26"
            ],
            [
             1,
             "#f0f921"
            ]
           ]
          },
          "colorway": [
           "#636efa",
           "#EF553B",
           "#00cc96",
           "#ab63fa",
           "#FFA15A",
           "#19d3f3",
           "#FF6692",
           "#B6E880",
           "#FF97FF",
           "#FECB52"
          ],
          "font": {
           "color": "#2a3f5f"
          },
          "geo": {
           "bgcolor": "white",
           "lakecolor": "white",
           "landcolor": "#E5ECF6",
           "showlakes": true,
           "showland": true,
           "subunitcolor": "white"
          },
          "hoverlabel": {
           "align": "left"
          },
          "hovermode": "closest",
          "mapbox": {
           "style": "light"
          },
          "paper_bgcolor": "white",
          "plot_bgcolor": "#E5ECF6",
          "polar": {
           "angularaxis": {
            "gridcolor": "white",
            "linecolor": "white",
            "ticks": ""
           },
           "bgcolor": "#E5ECF6",
           "radialaxis": {
            "gridcolor": "white",
            "linecolor": "white",
            "ticks": ""
           }
          },
          "scene": {
           "xaxis": {
            "backgroundcolor": "#E5ECF6",
            "gridcolor": "white",
            "gridwidth": 2,
            "linecolor": "white",
            "showbackground": true,
            "ticks": "",
            "zerolinecolor": "white"
           },
           "yaxis": {
            "backgroundcolor": "#E5ECF6",
            "gridcolor": "white",
            "gridwidth": 2,
            "linecolor": "white",
            "showbackground": true,
            "ticks": "",
            "zerolinecolor": "white"
           },
           "zaxis": {
            "backgroundcolor": "#E5ECF6",
            "gridcolor": "white",
            "gridwidth": 2,
            "linecolor": "white",
            "showbackground": true,
            "ticks": "",
            "zerolinecolor": "white"
           }
          },
          "shapedefaults": {
           "line": {
            "color": "#2a3f5f"
           }
          },
          "ternary": {
           "aaxis": {
            "gridcolor": "white",
            "linecolor": "white",
            "ticks": ""
           },
           "baxis": {
            "gridcolor": "white",
            "linecolor": "white",
            "ticks": ""
           },
           "bgcolor": "#E5ECF6",
           "caxis": {
            "gridcolor": "white",
            "linecolor": "white",
            "ticks": ""
           }
          },
          "title": {
           "x": 0.05
          },
          "xaxis": {
           "automargin": true,
           "gridcolor": "white",
           "linecolor": "white",
           "ticks": "",
           "title": {
            "standoff": 15
           },
           "zerolinecolor": "white",
           "zerolinewidth": 2
          },
          "yaxis": {
           "automargin": true,
           "gridcolor": "white",
           "linecolor": "white",
           "ticks": "",
           "title": {
            "standoff": 15
           },
           "zerolinecolor": "white",
           "zerolinewidth": 2
          }
         }
        },
        "xaxis": {
         "anchor": "y",
         "domain": [
          0,
          1
         ],
         "title": {
          "text": "likeability"
         }
        },
        "yaxis": {
         "anchor": "x",
         "domain": [
          0,
          1
         ],
         "title": {
          "text": "popularity"
         }
        }
       }
      }
     },
     "metadata": {},
     "output_type": "display_data"
    }
   ],
   "source": [
    "import plotly.express as px\n",
    "\n",
    "px.scatter(school_df, x=\"likeability\", y=\"popularity\", color=\"capacity\")\n",
    "# px.scatter(school_df, x=\"total_applicants\", y=\"popularity\", color=\"capacity\")"
   ]
  },
  {
   "cell_type": "code",
   "execution_count": null,
   "id": "006fd7b7",
   "metadata": {},
   "outputs": [],
   "source": [
    "# feedback from a while ago:\n",
    "# true applicant rate\n",
    "# stage 0: capacity-weighted popularity\n",
    "# making the mean lottery number values into medians\n",
    "# making y-scale of graphs of stage 1&3 and 2&4\n",
    "# revise intro slide description (not true applicant \"rate\", not changing matching algorithm, \"ranking\" --> \"matching\")\n",
    "\n",
    "\"\"\" LONGTERM NOTES:\n",
    "students in the same district will have similar patterns -- higher preference for ranking schools in their own districts or close to accesisble subway lines\n",
    "clustering based on applicants per district\n",
    "\"\"\""
   ]
  }
 ],
 "metadata": {
  "kernelspec": {
   "display_name": "Python 3 (ipykernel)",
   "language": "python",
   "name": "python3"
  },
  "language_info": {
   "codemirror_mode": {
    "name": "ipython",
    "version": 3
   },
   "file_extension": ".py",
   "mimetype": "text/x-python",
   "name": "python",
   "nbconvert_exporter": "python",
   "pygments_lexer": "ipython3",
   "version": "3.9.12"
  }
 },
 "nbformat": 4,
 "nbformat_minor": 5
}
